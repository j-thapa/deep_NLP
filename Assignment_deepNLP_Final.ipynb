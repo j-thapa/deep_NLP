{
  "cells": [
    {
      "cell_type": "markdown",
      "metadata": {
        "id": "wMhGv-erkGi3"
      },
      "source": [
        "Please fill out the information of your group!\n",
        "\n",
        "| <p style=\"text-align: center;\">First Name</p>  | <p style=\"text-align: center;\">Family Name</p> | Matr.-No. |\n",
        "| ---------------------------------------------- | ---------------------------------------------- | -------- |\n",
        "| <p style=\"text-align: left\">*Jenish*</p>| <p style=\"text-align: left\">*Thapa*</p> | *k12137169* |\n",
        "| <p style=\"text-align: left\">*Tara*</p>| <p style=\"text-align: left\">*Jadidi*</p> | *K12230863* |\n"
      ]
    },
    {
      "cell_type": "markdown",
      "metadata": {
        "id": "UCYQ0CUJmXUI"
      },
      "source": [
        "<h2 style=\"text-align: center\">344.063: Special Topics - Natural Language Processing with Deep Learning (SS2023)</h2><h1 style=\"text-align: center;color:rgb(0,120,170)\">Assignment 1: Document Classification with LSTM and Transformers</h1>"
      ]
    },
    {
      "cell_type": "markdown",
      "metadata": {
        "id": "U9zciiwBmXUJ"
      },
      "source": [
        "<div style=\"background-color:rgb(224, 243, 255)\">\n",
        "<b>Terms of Use</b><br>\n",
        "This  material is prepared for educational purposes at the Johannes Kepler University (JKU) Linz, and is exclusively provided to the registered students of the mentioned course at JKU. It is strictly forbidden to distribute the current file, the contents of the assignment, and its solution. The use or reproduction of this manuscript is only allowed for educational purposes in non-profit organizations, while in this case, the explicit prior acceptance of the author(s) is required.\n",
        "\n",
        "**Author:** Navid Rekab-saz<br>\n",
        "**Email:** navid.rekabsaz@jku.at<br>\n",
        "\n",
        "</div>"
      ]
    },
    {
      "cell_type": "markdown",
      "metadata": {
        "id": "-fcl0f4imXUM"
      },
      "source": [
        "<h2>Table of contents</h2>\n",
        "<ol>\n",
        "    <a href=\"#section-general-guidelines\"><li style=\"font-size:large;font-weight:bold\">General Guidelines</li></a>\n",
        "    <a href=\"#section-classification-framework\"><li style=\"font-size:large;font-weight:bold\">Task A: PyTorch Framework for Document Classification (5 points)</li></a>\n",
        "    <a href=\"#section-classification-rnn\"><li style=\"font-size:large;font-weight:bold\">Task B: Document Classification with LSTM (15 points)</li></a>\n",
        "    <a href=\"#section-classification-attention\"><li style=\"font-size:large;font-weight:bold\">Task C: Document Classification with Attention (15 points)</li></a>\n",
        "    <a href=\"#section-classification-transformer\"><li style=\"font-size:large;font-weight:bold\">Task D: Document Classification with Transformer (15 points)</li></a>\n",
        "    <a href=\"#section-interpretation\"><li style=\"font-size:large;font-weight:bold\">Task E: Interpreting Attention Weights (3 extra points)</li></a>\n",
        "    \n",
        "</ol>"
      ]
    },
    {
      "cell_type": "markdown",
      "metadata": {
        "id": "IC0FNclxmXUN"
      },
      "source": [
        "<a name=\"section-general-guidelines\"></a><h2 style=\"color:rgb(0,120,170)\">General Guidelines</h2>"
      ]
    },
    {
      "cell_type": "markdown",
      "metadata": {
        "id": "8i0Dre-SmXUN"
      },
      "source": [
        "<div style=\"background-color:rgb(224, 243, 255)\">\n",
        "\n",
        "### Assignment objective\n",
        "The aim of this assignment is to implement a document/sentence classification model with PyTorch, particularly by using Long Short-Term Memory (LSTM), Attention networks, and Transformers. The assignment has **50 points** in total.\n",
        "\n",
        "This Notebook encompasses all aspects of the assignment, namely the descriptions of tasks as well as your solutions and reports. Feel free to add any required cell for solutions. The cells can contains code, reports, charts, tables, or any other material, required for the assignment. Cover the questions/points, mentioned in the tasks, but also add any necessary point for understanding your experiments. Try to provide the solutions in a clear, and visual way! \n",
        "\n",
        "Please discuss any unclear point in the assignment in the provided forum in MOODLE. It is also encouraged to provide answers to your peer's questions. However when submitting a post, keep in mind to avoid providing solutions. Please let the author(s) know shall you find any error or unclarity in the assignment.\n",
        "\n",
        "</div>"
      ]
    },
    {
      "cell_type": "markdown",
      "metadata": {
        "id": "-KH47By_mXUP"
      },
      "source": [
        "<div style=\"background-color:rgb(224, 243, 255)\">\n",
        "\n",
        "### Libraries & Dataset\n",
        "\n",
        "The assignment should be implemented with recent versions of `Python`, `PyTorch` and, `transformers`. Any standard Python library can be used, so far that the library is free and can be simply installed using `pip` or `conda`. Examples of potentially useful libraries are `scikit-learn`, `numpy`, `scipy`, `gensim`, `nltk`, `spaCy`, and `AllenNLP`. Use the latest stable version of each library.\n",
        "\n",
        "To conduct the experiments, we use a subset of the `HumSet` dataset [1] (https://blog.thedeep.io/humset/). `HumSet` is created by the DEEP (https://www.thedeep.io) project – an open source platform which aims to facilitate processing of textual data for international humanitarian response organizations. The platform enables the classification of text excerpts, extracted from news and reports into a set of domain specific classes. The provided dataset contains the classes (labels) referring to the humanitarian sectors like agriculture, health, and protection. The dataset contains an overall number of 17,301 data points. \n",
        "\n",
        "Download the dataset from [this link](https://drive.jku.at/filr/public-link/file-download/0cce88f18654892601870996f2494cf3/48245/7814719893537218646/nlpwdl2023_data.zip).\n",
        "\n",
        "the provided zip file consists of the following files:\n",
        "- `thedeep.subset.train.txt`: Train set in csv format with three fields: sentence_id, text, and label.\n",
        "- `thedeep.subset.validation.txt`: Validation set in csv format with three fields: sentence_id, text, and label.\n",
        "- `thedeep.subset.test.txt`: Test set in csv format with three fields: sentence_id, text, and label.\n",
        "- `thedeep.subset.label.txt`: Captions of the labels.\n",
        "- `thedeep.ToU.txt`: Terms of use of the dataset.\n",
        "\n",
        "[1] HumSet: Dataset of Multilingual Information Extraction and Classification for Humanitarian Crises Response\n",
        "*Selim Fekih, Nicolo' Tamagnone, Benjamin Minixhofer, Ranjan Shrestha, Ximena Contla, Ewan Oglethorpe and Navid Rekabsaz.* \n",
        "In Findings of the 2022 Conference on Empirical Methods in Natural Language Processing (Findings of EMNLP), December 2022.\n",
        "\n",
        "</div>"
      ]
    },
    {
      "cell_type": "markdown",
      "metadata": {
        "id": "Vq8iO1S0mXUQ"
      },
      "source": [
        "<div style=\"background-color:rgb(224, 243, 255)\">\n",
        "\n",
        "### Submission\n",
        "\n",
        "Each group should submit the following two files:\n",
        "\n",
        "- One Jupyter Notebook file (`.ipynb`), containing all the code, results, visualizations, etc. **In the submitted Notebook, all the results and visualizations should already be present, and can be observed simply by loading the Notebook in a browser.** The Notebook must be self-contained, meaning that (if necessary) one can run all the cells from top to bottom without any error. Do not forget to put in your names and student numbers in the first cell of the Notebook. \n",
        "- The HTML file (`.html`) achieved from exporting the Jupyter Notebook to HTML (Download As HTML).\n",
        "\n",
        "You do not need to include the data files in the submission.\n",
        "\n",
        "\n",
        "</div>"
      ]
    },
    {
      "cell_type": "markdown",
      "metadata": {
        "id": "KGY5PEpmmXUR"
      },
      "source": [
        "<div style=\"background-color:rgb(224, 243, 255)\">\n",
        "\n",
        "### Publishing Experiments Results\n",
        "\n",
        "In all experiments of this assignment, use any experiment monitoring tool like [`TensorBoard`](https://www.tensorflow.org/tensorboard), [`wandb`](https://wandb.ai) to log and store all useful information about the training and evaluation of the models. Feel free to log any important aspect in particular the changes in evaluation results on validation, in training loss, and in learning rate.\n",
        "\n",
        "After finalizing all experiments and cleaning any unnecessary experiment, **provide the URL to the results monitoring page in the cell below**.\n",
        "\n",
        "For instance if using [`TensorBoard.dev`](https://tensorboard.dev), you can run the following command in the folder of log files: `tensorboard dev upload --name my_exp --logdir path/to/output_dir`, and take the provided URL to the TensorBoard's console.\n",
        "\n",
        "</div>\n"
      ]
    },
    {
      "cell_type": "code",
      "source": [
        "pip install wandb"
      ],
      "metadata": {
        "colab": {
          "base_uri": "https://localhost:8080/"
        },
        "id": "6khbW36dlSvX",
        "outputId": "456990ae-86de-4571-8161-869554187529"
      },
      "execution_count": 1,
      "outputs": [
        {
          "output_type": "stream",
          "name": "stdout",
          "text": [
            "Looking in indexes: https://pypi.org/simple, https://us-python.pkg.dev/colab-wheels/public/simple/\n",
            "Requirement already satisfied: wandb in /usr/local/lib/python3.10/dist-packages (0.15.3)\n",
            "Requirement already satisfied: Click!=8.0.0,>=7.0 in /usr/local/lib/python3.10/dist-packages (from wandb) (8.1.3)\n",
            "Requirement already satisfied: GitPython!=3.1.29,>=1.0.0 in /usr/local/lib/python3.10/dist-packages (from wandb) (3.1.31)\n",
            "Requirement already satisfied: requests<3,>=2.0.0 in /usr/local/lib/python3.10/dist-packages (from wandb) (2.27.1)\n",
            "Requirement already satisfied: psutil>=5.0.0 in /usr/local/lib/python3.10/dist-packages (from wandb) (5.9.5)\n",
            "Requirement already satisfied: sentry-sdk>=1.0.0 in /usr/local/lib/python3.10/dist-packages (from wandb) (1.24.0)\n",
            "Requirement already satisfied: docker-pycreds>=0.4.0 in /usr/local/lib/python3.10/dist-packages (from wandb) (0.4.0)\n",
            "Requirement already satisfied: PyYAML in /usr/local/lib/python3.10/dist-packages (from wandb) (6.0)\n",
            "Requirement already satisfied: pathtools in /usr/local/lib/python3.10/dist-packages (from wandb) (0.1.2)\n",
            "Requirement already satisfied: setproctitle in /usr/local/lib/python3.10/dist-packages (from wandb) (1.3.2)\n",
            "Requirement already satisfied: setuptools in /usr/local/lib/python3.10/dist-packages (from wandb) (67.7.2)\n",
            "Requirement already satisfied: appdirs>=1.4.3 in /usr/local/lib/python3.10/dist-packages (from wandb) (1.4.4)\n",
            "Requirement already satisfied: protobuf!=4.21.0,<5,>=3.19.0 in /usr/local/lib/python3.10/dist-packages (from wandb) (3.20.3)\n",
            "Requirement already satisfied: six>=1.4.0 in /usr/local/lib/python3.10/dist-packages (from docker-pycreds>=0.4.0->wandb) (1.16.0)\n",
            "Requirement already satisfied: gitdb<5,>=4.0.1 in /usr/local/lib/python3.10/dist-packages (from GitPython!=3.1.29,>=1.0.0->wandb) (4.0.10)\n",
            "Requirement already satisfied: urllib3<1.27,>=1.21.1 in /usr/local/lib/python3.10/dist-packages (from requests<3,>=2.0.0->wandb) (1.26.15)\n",
            "Requirement already satisfied: certifi>=2017.4.17 in /usr/local/lib/python3.10/dist-packages (from requests<3,>=2.0.0->wandb) (2022.12.7)\n",
            "Requirement already satisfied: charset-normalizer~=2.0.0 in /usr/local/lib/python3.10/dist-packages (from requests<3,>=2.0.0->wandb) (2.0.12)\n",
            "Requirement already satisfied: idna<4,>=2.5 in /usr/local/lib/python3.10/dist-packages (from requests<3,>=2.0.0->wandb) (3.4)\n",
            "Requirement already satisfied: smmap<6,>=3.0.1 in /usr/local/lib/python3.10/dist-packages (from gitdb<5,>=4.0.1->GitPython!=3.1.29,>=1.0.0->wandb) (5.0.0)\n"
          ]
        }
      ]
    },
    {
      "cell_type": "code",
      "source": [
        "# Log in to your W&B account\n",
        "import wandb\n",
        "wandb.login()"
      ],
      "metadata": {
        "colab": {
          "base_uri": "https://localhost:8080/"
        },
        "id": "_km7W7_vlWt_",
        "outputId": "4191962f-0c5c-4b65-8045-0af2a672bbce"
      },
      "execution_count": 2,
      "outputs": [
        {
          "output_type": "stream",
          "name": "stderr",
          "text": [
            "\u001b[34m\u001b[1mwandb\u001b[0m: Currently logged in as: \u001b[33mtarajadidi\u001b[0m. Use \u001b[1m`wandb login --relogin`\u001b[0m to force relogin\n"
          ]
        },
        {
          "output_type": "execute_result",
          "data": {
            "text/plain": [
              "True"
            ]
          },
          "metadata": {},
          "execution_count": 2
        }
      ]
    },
    {
      "cell_type": "code",
      "source": [
        "wandb.init(\n",
        "    # set the wandb project where this run will be logged\n",
        "    project=\"Deep NLP, Final\",\n",
        "\n",
        ")"
      ],
      "metadata": {
        "colab": {
          "base_uri": "https://localhost:8080/",
          "height": 142
        },
        "id": "pj6RtUTml5YI",
        "outputId": "cb5ed890-c695-441e-9e8c-fa762de741e6"
      },
      "execution_count": 5,
      "outputs": [
        {
          "output_type": "stream",
          "name": "stderr",
          "text": [
            "\u001b[34m\u001b[1mwandb\u001b[0m: Currently logged in as: \u001b[33mtarajadidi\u001b[0m. Use \u001b[1m`wandb login --relogin`\u001b[0m to force relogin\n"
          ]
        },
        {
          "output_type": "display_data",
          "data": {
            "text/plain": [
              "<IPython.core.display.HTML object>"
            ],
            "text/html": [
              "Tracking run with wandb version 0.15.3"
            ]
          },
          "metadata": {}
        },
        {
          "output_type": "display_data",
          "data": {
            "text/plain": [
              "<IPython.core.display.HTML object>"
            ],
            "text/html": [
              "Run data is saved locally in <code>/content/wandb/run-20230601_153404-lhi6v2m7</code>"
            ]
          },
          "metadata": {}
        },
        {
          "output_type": "display_data",
          "data": {
            "text/plain": [
              "<IPython.core.display.HTML object>"
            ],
            "text/html": [
              "Syncing run <strong><a href='https://wandb.ai/tarajadidi/Deep%20NLP%2C%20Final/runs/lhi6v2m7' target=\"_blank\">firm-eon-1</a></strong> to <a href='https://wandb.ai/tarajadidi/Deep%20NLP%2C%20Final' target=\"_blank\">Weights & Biases</a> (<a href='https://wandb.me/run' target=\"_blank\">docs</a>)<br/>"
            ]
          },
          "metadata": {}
        },
        {
          "output_type": "display_data",
          "data": {
            "text/plain": [
              "<IPython.core.display.HTML object>"
            ],
            "text/html": [
              " View project at <a href='https://wandb.ai/tarajadidi/Deep%20NLP%2C%20Final' target=\"_blank\">https://wandb.ai/tarajadidi/Deep%20NLP%2C%20Final</a>"
            ]
          },
          "metadata": {}
        },
        {
          "output_type": "display_data",
          "data": {
            "text/plain": [
              "<IPython.core.display.HTML object>"
            ],
            "text/html": [
              " View run at <a href='https://wandb.ai/tarajadidi/Deep%20NLP%2C%20Final/runs/lhi6v2m7' target=\"_blank\">https://wandb.ai/tarajadidi/Deep%20NLP%2C%20Final/runs/lhi6v2m7</a>"
            ]
          },
          "metadata": {}
        },
        {
          "output_type": "execute_result",
          "data": {
            "text/html": [
              "<button onClick=\"this.nextSibling.style.display='block';this.style.display='none';\">Display W&B run</button><iframe src='https://wandb.ai/tarajadidi/Deep%20NLP%2C%20Final/runs/lhi6v2m7?jupyter=true' style='border:none;width:100%;height:420px;display:none;'></iframe>"
            ],
            "text/plain": [
              "<wandb.sdk.wandb_run.Run at 0x7f163032ab90>"
            ]
          },
          "metadata": {},
          "execution_count": 5
        }
      ]
    },
    {
      "cell_type": "markdown",
      "metadata": {
        "id": "bzdZwPg8mXUS"
      },
      "source": [
        "**URL :** *EDIT!*"
      ]
    },
    {
      "cell_type": "markdown",
      "metadata": {
        "id": "GsI4sLJhmXUT"
      },
      "source": [
        "<a name=\"section-classification-framework\"></a><h2 style=\"color:rgb(0,120,170)\">Task A: PyTorch Framework for Document Classification (5 points)</h2>"
      ]
    },
    {
      "cell_type": "markdown",
      "metadata": {
        "id": "0-nxOpizmXUU"
      },
      "source": [
        "<div style=\"background-color:rgb(224, 243, 255)\">\n",
        "\n",
        "The formulation of this task is identical to the Assignment 3 of UE Natural Language Processing course. In this task, you implement a document classification model, which given a document/sentence, predicts the corresponding class. The PyTorch model in this task should be called **`ClassificationAverageModel`** in your code.\n",
        "\n",
        "Given a document, first each word is mapped to its corresponding vector. Then, the word vectors are composed to create the embedding of the document using the *element-wise mean* of the word vectors. Formally, given the document $d$, consisting of words $\\left[ v_1, v_2, ..., v_{|d|} \\right]$, the document representation $\\mathbf{e}_d$ is defined as:\n",
        "\n",
        "<center><div>$\\mathbf{e}_d = \\frac{1}{|d|}\\sum_{i=1}^{|d|}{\\mathbf{e}_{v_i}}$</div></center>\n",
        "\n",
        "where $\\mathbf{e}_{v}$ is the vector of the word $v$, and $|d|$ is the length of the document. This document embedding is finally used as features to predict the class (label) of the document. The implementation of the classification model should cover the following points.\n",
        "\n",
        "\n",
        "    \n",
        "**Preprocessing, Dictionary, and Word Embedding Lookup (1 point):** Load the train, validation, and test sets. Apply necessary preprocessing steps based on your judgement. Tokenize the preprocessed text. Use the processed tokens of the training set to create a dictionary of vocabularies. Reduce the size of dictionary using a proper method, for instance by considering a cut-off threshold on the tokens with low frequencies. When removing tokens from the dictionary, consider a strategy for handling Out-Of-Vocabulary (OOV) tokens, namely the ones in the train/validation/test datasets that that are not anymore in the dictionary. Some possible strategies could be to remove OOVs from the texts, or to replace them with a special token like <OOV>. After then, create a lookup for the embeddings of all the words in the dictionary. The lookup is an embedding matrix, which maps the ID of each word to a corresponding vector. Use the pre-trained vectors of a word embedding model (like [`word2vec`](https://code.google.com/archive/p/word2vec/) or [`GloVe`](https://nlp.stanford.edu/projects/glove/)) to initialize the word embeddings of the lookup. Keep in mind that the embeddings of the words in the lookup should be matched with the correct vector in the pretrained word embedding. If the vector of a word in the lookup does not exist in the pretrained word embeddings, the corresponding vector should be initialized randomly. The word embeddings of the classification model are trainable, meaning that the word vectors get updated end-to-end with the other parameters of the model.\n",
        "\n",
        "**Data Batching and Forward Pass (1 point):** Create batches for any given dataset (train/validation/test). Each batch is a two-dimensional matrix of *batch-size* to *max-document-length*, consisting of the ids of the words in documents. *Batch-size* and *max-document-length* are two hyper-parameters of the model. Next, given a batch, the model fetches the corresponding embeddings, and use them to calculate the document embeddings according to the formulation above. These document embeddings are then exploited to predict the probability distributions of the output classes using a linear projection, followed by a softmax layer.\n",
        "\n",
        "**Loss Function, Optimization, Early Stopping, and Evaluation (1.5 point):** Loss between the predicted and the actual classes is calculated using Negative Log Likelihood. Feel free to use any optimization mechanism such as Adam. After each epoch, evaluate the model on the *validation set* using the <ins>accuracy metric</ins>. If the evaluation result improves, save the model as the best performing one so far. If the results are not improving after a certain number of evaluation rounds (set as another hyper-parameter) or if training reaches a certain number of epochs, the training procedure can be terminated. After finishing the training, load the best performing model, and use it to predict the classes of the data points in the test set. To evaluate the models, use the <ins>accuracy metric</ins> throughout the task.\n",
        "\n",
        "**Overall functionality of the model (1 point)**\n",
        "\n",
        "**Reporting (0.5 point)** During loading and processing the collection, provide sufficient information and examples about the data and the applied processing steps. Report the results of the best performing model on the validation and test set in a table. Additionally, feel free to add any plot showing the results.\n",
        "\n",
        "</div>"
      ]
    },
    {
      "cell_type": "code",
      "execution_count": 3,
      "metadata": {
        "id": "LQ6TXWn4mXUY"
      },
      "outputs": [],
      "source": [
        "#importing libraries\n",
        "import torch\n",
        "import pandas as pd\n",
        "import matplotlib.pyplot as plt\n",
        "import re\n",
        "import numpy as np\n",
        "\n",
        "from gensim.parsing.preprocessing import *\n",
        "from gensim.utils import tokenize\n",
        "from gensim.corpora.dictionary import Dictionary\n",
        "\n",
        "\n",
        "\n",
        "from tqdm import tqdm\n",
        "from copy import deepcopy\n"
      ]
    },
    {
      "cell_type": "code",
      "execution_count": 4,
      "metadata": {
        "id": "Nq9SG9_PmXUm",
        "outputId": "78849a2a-d773-4e1f-bac6-4e1b4aaf416d",
        "colab": {
          "base_uri": "https://localhost:8080/"
        }
      },
      "outputs": [
        {
          "output_type": "stream",
          "name": "stdout",
          "text": [
            "test dataset size - 2595\n",
            "train dataset size - 12110\n",
            "validation dataset size - 2596\n",
            "                                                   text  label  \\\n",
            "0     The veterans threw up roadblocks on the main n...      9   \n",
            "1     Water department complains about lack of skill...     11   \n",
            "2     On 13 February 2018, the Ministry of Health of...      4   \n",
            "3     In Kakuma and Kalobeyei, both host and refugee...      7   \n",
            "4     'Raqqa is now empty of civilians who had been ...      9   \n",
            "...                                                 ...    ...   \n",
            "2591  UNICEF-supported Child Health Days happen in D...      4   \n",
            "2592  The residents of Karachi once again faced prol...      7   \n",
            "2593  Poverty ripping off Malawi farmers Poverty has...      3   \n",
            "2594  The Sheikh Jarrah residential neighbourhood is...     10   \n",
            "2595  . Male IDPs between the ages of 18-40 years ar...      9   \n",
            "\n",
            "                                                  lower  \n",
            "0     the veterans threw up roadblocks on the main n...  \n",
            "1     water department complains about lack of skill...  \n",
            "2     on 13 february 2018, the ministry of health of...  \n",
            "3     in kakuma and kalobeyei, both host and refugee...  \n",
            "4     'raqqa is now empty of civilians who had been ...  \n",
            "...                                                 ...  \n",
            "2591  unicef-supported child health days happen in d...  \n",
            "2592  the residents of karachi once again faced prol...  \n",
            "2593  poverty ripping off malawi farmers poverty has...  \n",
            "2594  the sheikh jarrah residential neighbourhood is...  \n",
            "2595  . male idps between the ages of 18-40 years ar...  \n",
            "\n",
            "[2596 rows x 3 columns]\n"
          ]
        }
      ],
      "source": [
        "#test, train and validation data loading \n",
        "data = dict()\n",
        "dataset_types = ['test', 'train', 'validation']\n",
        "\n",
        "for set_type in dataset_types:\n",
        "    df = pd.read_csv(f'./data/thedeep.subset.{set_type}.txt', header=None, usecols=[1, 2], names=['text', 'label'])\n",
        "\n",
        "#apply lower case for all strings\n",
        "    df['lower'] = df['text'].str.lower()\n",
        "    data[set_type] = df\n",
        "    print(f'{set_type} dataset size - {len(df)}')\n",
        "\n",
        "labels = pd.read_csv(f'./data/thedeep.labels.txt')\n",
        "print(df)"
      ]
    },
    {
      "cell_type": "code",
      "execution_count": 5,
      "metadata": {
        "id": "KwJD5xCpmXUn",
        "outputId": "a67d55c4-65bb-4d58-c322-7c71d8e2e902",
        "colab": {
          "base_uri": "https://localhost:8080/",
          "height": 52
        }
      },
      "outputs": [
        {
          "output_type": "execute_result",
          "data": {
            "text/plain": [
              "'access to latrines: in less than 1% of all locations it was reported that almost nobody had access to latrines, while in 5% of locations only some people did. in 37% of locations, kis reported that at least half of the population had access to latrines, in 50% most people and 7% nearly everybody.'"
            ],
            "application/vnd.google.colaboratory.intrinsic+json": {
              "type": "string"
            }
          },
          "metadata": {},
          "execution_count": 5
        }
      ],
      "source": [
        "#an example from the train dataset\n",
        "example_num = 29\n",
        "data['train']['lower'][example_num]"
      ]
    },
    {
      "cell_type": "code",
      "execution_count": 6,
      "metadata": {
        "id": "9ogKyr5rmXUn",
        "outputId": "ba263b5d-3ebd-4df2-d277-28ae7a4a93b5",
        "colab": {
          "base_uri": "https://localhost:8080/",
          "height": 52
        }
      },
      "outputs": [
        {
          "output_type": "execute_result",
          "data": {
            "text/plain": [
              "'access to latrines in less than 1 of all locations it was reported that almost nobody had access to latrines while in 5 of locations only some people did in 37 of locations kis reported that at least half of the population had access to latrines in 50 most people and 7 nearly everybody'"
            ],
            "application/vnd.google.colaboratory.intrinsic+json": {
              "type": "string"
            }
          },
          "metadata": {},
          "execution_count": 6
        }
      ],
      "source": [
        "#preprocess function to apply different sort of preprocessing\n",
        "def preprocess(new_col_name, old_col_name, function_to_apply):\n",
        "    for set_type in dataset_types:\n",
        "        data[set_type][new_col_name] = data[set_type][old_col_name].apply(lambda x: function_to_apply(x))\n",
        "\n",
        "#stripping any non alpha numeric characters   \n",
        "def strip_non_alphanum(text):\n",
        "    \"\"\"Strip non-alphanumeric characters from text.\"\"\"\n",
        "    stripped_text = re.sub(r'[^a-zA-Z0-9\\s]', '', text)\n",
        "    return stripped_text\n",
        "\n",
        "#example after stripping non alphanumeric characters\n",
        "preprocess('non_alphanum', 'lower', strip_non_alphanum)\n",
        "data['train']['non_alphanum'][example_num]"
      ]
    },
    {
      "cell_type": "code",
      "execution_count": 7,
      "metadata": {
        "id": "WoPrUU7imXUo",
        "outputId": "45eb22b6-5ee1-4569-ed81-e44c8422c73b",
        "colab": {
          "base_uri": "https://localhost:8080/",
          "height": 52
        }
      },
      "outputs": [
        {
          "output_type": "execute_result",
          "data": {
            "text/plain": [
              "'access to latrines in less than  of all locations it was reported that almost nobody had access to latrines while in  of locations only some people did in  of locations kis reported that at least half of the population had access to latrines in  most people and  nearly everybody'"
            ],
            "application/vnd.google.colaboratory.intrinsic+json": {
              "type": "string"
            }
          },
          "metadata": {},
          "execution_count": 7
        }
      ],
      "source": [
        "#stripping numeric characters\n",
        "def strip_numeric(text):\n",
        "    \"\"\"Strip non-alphanumeric characters from text.\"\"\"\n",
        "    stripped_text = re.sub(r'\\d', '', text)\n",
        "    return stripped_text\n",
        "\n",
        "preprocess('strip_num', 'non_alphanum', strip_numeric)\n",
        "data['train']['strip_num'][example_num]"
      ]
    },
    {
      "cell_type": "code",
      "execution_count": 8,
      "metadata": {
        "id": "mn-dK3sfmXUo",
        "outputId": "9bda591d-ae30-45b3-dec3-58695fd22874",
        "colab": {
          "base_uri": "https://localhost:8080/",
          "height": 52
        }
      },
      "outputs": [
        {
          "output_type": "execute_result",
          "data": {
            "text/plain": [
              "'access to latrines in less than of all locations it was reported that almost nobody had access to latrines while in of locations only some people did in of locations kis reported that at least half of the population had access to latrines in most people and nearly everybody'"
            ],
            "application/vnd.google.colaboratory.intrinsic+json": {
              "type": "string"
            }
          },
          "metadata": {},
          "execution_count": 8
        }
      ],
      "source": [
        "#stripping multipe whitspaces\n",
        "def strip_multiple_whitespaces(text):\n",
        "    \"\"\"Strip multiple spaces from text.\"\"\"\n",
        "    stripped_text = re.sub(r'\\s+', ' ', text)\n",
        "    return stripped_text\n",
        "preprocess('strip_spaces', 'strip_num', strip_multiple_whitespaces)\n",
        "data['train']['strip_spaces'][example_num]"
      ]
    },
    {
      "cell_type": "code",
      "execution_count": 9,
      "metadata": {
        "id": "D8EpmgChmXUp",
        "outputId": "dd97c0d4-ae66-46cf-c9be-4ea6a9cd7bfe",
        "colab": {
          "base_uri": "https://localhost:8080/",
          "height": 104
        }
      },
      "outputs": [
        {
          "output_type": "stream",
          "name": "stderr",
          "text": [
            "[nltk_data] Downloading package punkt to /root/nltk_data...\n",
            "[nltk_data]   Package punkt is already up-to-date!\n",
            "[nltk_data] Downloading package stopwords to /root/nltk_data...\n",
            "[nltk_data]   Package stopwords is already up-to-date!\n"
          ]
        },
        {
          "output_type": "execute_result",
          "data": {
            "text/plain": [
              "'access latrines less locations reported almost nobody access latrines locations people locations kis reported least half population access latrines people nearly everybody'"
            ],
            "application/vnd.google.colaboratory.intrinsic+json": {
              "type": "string"
            }
          },
          "metadata": {},
          "execution_count": 9
        }
      ],
      "source": [
        "#Load and Download NLTK stop words data\n",
        "import nltk\n",
        "from nltk.corpus import stopwords\n",
        "from nltk.tokenize import word_tokenize\n",
        "nltk.download('punkt')\n",
        "nltk.download('stopwords')\n",
        "\n",
        "#remove stopwords using NLTK dictionary\n",
        "def remove_stopwords(text):\n",
        "    \"\"\"Remove stop words from text.\"\"\"\n",
        "    stop_words = set(stopwords.words('english'))  # Load stop words for English\n",
        "    words = word_tokenize(text)  # Tokenize text into words\n",
        "    filtered_words = [word for word in words if word.lower() not in stop_words]  # Filter out stop words\n",
        "    filtered_text = ' '.join(filtered_words)  # Join filtered words back into text\n",
        "    return filtered_text\n",
        "\n",
        "preprocess('final', 'strip_spaces', remove_stopwords)\n",
        "data['train']['final'][example_num]"
      ]
    },
    {
      "cell_type": "code",
      "execution_count": 10,
      "metadata": {
        "id": "b2ROcdOjmXUq",
        "outputId": "7f2c2758-7b98-44a0-8c63-348110116122",
        "colab": {
          "base_uri": "https://localhost:8080/"
        }
      },
      "outputs": [
        {
          "output_type": "stream",
          "name": "stdout",
          "text": [
            "Dictionary<30370 unique tokens: ['action', 'addition', 'angola', 'arrived', 'camps']...>\n"
          ]
        }
      ],
      "source": [
        "#tokenize the processed data into dictionary\n",
        "dictionary = Dictionary(data['train']['final'].apply(lambda x: tokenize(x)))\n",
        "print(dictionary)"
      ]
    },
    {
      "cell_type": "code",
      "execution_count": 11,
      "metadata": {
        "id": "kpzLT3d0mXUq",
        "outputId": "7d420ca0-1596-4d81-b963-ae2ee113b7c9",
        "colab": {
          "base_uri": "https://localhost:8080/",
          "height": 430
        }
      },
      "outputs": [
        {
          "output_type": "display_data",
          "data": {
            "text/plain": [
              "<Figure size 640x480 with 1 Axes>"
            ],
            "image/png": "[encoded data removed]"
          },
          "metadata": {}
        }
      ],
      "source": [
        "%matplotlib inline\n",
        "\n",
        "plt.hist(dictionary.dfs.values(), bins=1000)\n",
        "\n",
        "plt.show()"
      ]
    },
    {
      "cell_type": "code",
      "execution_count": 12,
      "metadata": {
        "id": "sIonNKNvmXUr",
        "outputId": "4ff8dee5-e353-476d-f26e-610fb1936411",
        "colab": {
          "base_uri": "https://localhost:8080/"
        }
      },
      "outputs": [
        {
          "output_type": "stream",
          "name": "stdout",
          "text": [
            "appeared in 1 docs: 15815 words\n",
            "appeared in 2 docs: 3806 words\n",
            "appeared in 3 docs: 1882 words\n",
            "appeared in 4 docs: 1175 words\n",
            "appeared in 5 docs: 854 words\n",
            "appeared in 6 docs: 668 words\n",
            "appeared in 7 docs: 497 words\n",
            "appeared in 8 docs: 405 words\n",
            "appeared in 9 docs: 338 words\n",
            "appeared in 10 docs: 281 words\n"
          ]
        }
      ],
      "source": [
        "#lowest frequency tokens; occuring at max 10 documents\n",
        "freq_count = list(dictionary.dfs.values())\n",
        "freq_count.sort()\n",
        "\n",
        "freq = dict()\n",
        "for doc_count in freq_count:\n",
        "    if doc_count > 10:\n",
        "        break\n",
        "    if doc_count in freq:\n",
        "        freq[doc_count] += 1\n",
        "    else:\n",
        "        freq[doc_count] = 1\n",
        "\n",
        "for num, fre in freq.items():\n",
        "    print(f'appeared in {num} docs: {fre} words')"
      ]
    },
    {
      "cell_type": "code",
      "execution_count": 13,
      "metadata": {
        "id": "aq3E9LrNmXUr",
        "outputId": "57b694df-37b4-4aa3-ab9a-94caa9299122",
        "colab": {
          "base_uri": "https://localhost:8080/"
        }
      },
      "outputs": [
        {
          "output_type": "stream",
          "name": "stdout",
          "text": [
            "appeared in 1 docs: crosssectoral, preblockade, breched, eurygaster, fungicides, hoppers, integriceps, sunn, urea, voles\n",
            "appeared in 2 docs: unvim, moulavibazar, abstraction, leaf, phosphorous, speakers, taka, adm, harari, bidi\n",
            "appeared in 3 docs: croplands, meghalaya, nearlyreadyforharvesting, hectare, insecticides, rigorous, jijiga, sparsely, haramrelated, methodology\n",
            "appeared in 4 docs: hectors, inundation, onrush, enjoy, happy, berbera, jilaal, dissidents, slum, blames\n",
            "appeared in 5 docs: banking, averaged, guterres, yearthe, droughtinduced, ubangi, secondlargest, oppression, teenage, bakers\n"
          ]
        }
      ],
      "source": [
        "#examples of those lowest frequency tokens\n",
        "for n in range(1, 6):\n",
        "    first_n_ids = [k for k, v in dictionary.dfs.items() if v == n][:10]\n",
        "    first_n_words = [k for k, v in dictionary.token2id.items() if v in first_n_ids]\n",
        "    print(f'appeared in {n} docs: {\", \".join(first_n_words)}')"
      ]
    },
    {
      "cell_type": "code",
      "execution_count": 14,
      "metadata": {
        "id": "_iT1e0m-mXUs",
        "outputId": "0a29cb65-76d3-4d13-9c57-0182e2992ec2",
        "colab": {
          "base_uri": "https://localhost:8080/"
        }
      },
      "outputs": [
        {
          "output_type": "stream",
          "name": "stdout",
          "text": [
            "appeared in 2596 docs people\n",
            "appeared in 2085 docs reported\n",
            "appeared in 1952 docs food\n",
            "appeared in 1791 docs children, cases\n",
            "appeared in 1791 docs children, cases\n",
            "appeared in 1779 docs areas\n",
            "appeared in 1486 docs including\n",
            "appeared in 1480 docs also\n",
            "appeared in 1468 docs health\n",
            "appeared in 1397 docs said\n"
          ]
        }
      ],
      "source": [
        "#highest frequency tokens; top 10 tokens\n",
        "freq_count.sort(reverse=True)\n",
        "top_10_freqs = freq_count[:10]\n",
        "corpus_size = np.sum(list(dictionary.dfs.values()))\n",
        "\n",
        "for n in top_10_freqs:\n",
        "    top_10_ids = [k for k, v in dictionary.dfs.items() if v == n]\n",
        "    top_10_words = [k for k, v in dictionary.token2id.items() if v in top_10_ids]\n",
        "    print(f'appeared in {n} docs {\", \".join(top_10_words)}')"
      ]
    },
    {
      "cell_type": "code",
      "execution_count": 15,
      "metadata": {
        "id": "CvuX3tYYmXUs",
        "outputId": "77c2c800-81fd-48c4-d4fc-b517a3989443",
        "colab": {
          "base_uri": "https://localhost:8080/"
        }
      },
      "outputs": [
        {
          "output_type": "stream",
          "name": "stdout",
          "text": [
            "Dictionary size reduced from 30370 to 10744, resulting in 64.62% reduction\n"
          ]
        }
      ],
      "source": [
        "#filtering out both highest and lowest frequency tokens; \n",
        "\n",
        "reduced_dictionary = deepcopy(dictionary)\n",
        "len_before = len(reduced_dictionary)\n",
        "reduced_dictionary.filter_extremes(no_below=3)\n",
        "reduced_dictionary.filter_n_most_frequent(5)\n",
        "reduced_dictionary.compactify()\n",
        "\n",
        "len_after = len(reduced_dictionary)\n",
        "\n",
        "print(f'Dictionary size reduced from {len_before} to {len_after}, '\\\n",
        "      f'resulting in {round((len_before - len_after)/len_before * 100, 2)}% reduction')"
      ]
    },
    {
      "cell_type": "code",
      "execution_count": 16,
      "metadata": {
        "id": "8jftvw0ymXUt"
      },
      "outputs": [],
      "source": [
        "#removing all words that are not included in our reduced dictionary\n",
        "data['train']['oov_removed'] = data['train']['final'].apply(lambda x: ([word for word in x.split() if word in set(reduced_dictionary.token2id.keys())]))"
      ]
    },
    {
      "cell_type": "code",
      "execution_count": 17,
      "metadata": {
        "id": "04FFNIjMmXUt",
        "colab": {
          "base_uri": "https://localhost:8080/"
        },
        "outputId": "a4e1ec98-ade0-4728-950a-ce9a5251c30a"
      },
      "outputs": [
        {
          "output_type": "execute_result",
          "data": {
            "text/plain": [
              "['access',\n",
              " 'latrines',\n",
              " 'less',\n",
              " 'locations',\n",
              " 'almost',\n",
              " 'nobody',\n",
              " 'access',\n",
              " 'latrines',\n",
              " 'locations',\n",
              " 'locations',\n",
              " 'kis',\n",
              " 'least',\n",
              " 'half',\n",
              " 'population',\n",
              " 'access',\n",
              " 'latrines',\n",
              " 'nearly',\n",
              " 'everybody']"
            ]
          },
          "metadata": {},
          "execution_count": 17
        }
      ],
      "source": [
        "data['train']['oov_removed'][example_num]"
      ]
    },
    {
      "cell_type": "code",
      "execution_count": 18,
      "metadata": {
        "id": "lbCSdIM-mXUv"
      },
      "outputs": [],
      "source": [
        "#removing OOV words in test and validation set too\n",
        "data['test']['oov_removed'] = data['test']['final'].apply(lambda x: ([word for word in x.split() if word in set(reduced_dictionary.token2id.keys())]))\n",
        "data['validation']['oov_removed'] = data['validation']['final'].apply(lambda x: ([word for word in x.split() if word in set(reduced_dictionary.token2id.keys())]))"
      ]
    },
    {
      "cell_type": "code",
      "execution_count": 19,
      "metadata": {
        "id": "hwCW_MVgmXUv",
        "outputId": "b69a39b1-af49-45a6-c8ef-66dd0d8a707c",
        "colab": {
          "base_uri": "https://localhost:8080/",
          "height": 693
        }
      },
      "outputs": [
        {
          "output_type": "execute_result",
          "data": {
            "text/plain": [
              "                                                    text  label  \\\n",
              "0      In addition to the immediate life-saving inter...      9   \n",
              "1      There are approximately 2.6 million people cla...      3   \n",
              "2      While aid imports have held up recently, comme...      5   \n",
              "3      Heavy rainfalls as well as onrush of water fro...      0   \n",
              "4      Based on field reports 9 , the main production...      3   \n",
              "...                                                  ...    ...   \n",
              "12105  The total gap in the number of people who requ...      8   \n",
              "12106  A food crisis is looming in the country with t...      0   \n",
              "12107  ? Acute watery diarrhoea (AWD) continues to be...      4   \n",
              "12108  As South India grapples with drought and water...     11   \n",
              "12109  Mirroring trends in South Africa, the main sou...      3   \n",
              "\n",
              "                                                   lower  \\\n",
              "0      in addition to the immediate life-saving inter...   \n",
              "1      there are approximately 2.6 million people cla...   \n",
              "2      while aid imports have held up recently, comme...   \n",
              "3      heavy rainfalls as well as onrush of water fro...   \n",
              "4      based on field reports 9 , the main production...   \n",
              "...                                                  ...   \n",
              "12105  the total gap in the number of people who requ...   \n",
              "12106  a food crisis is looming in the country with t...   \n",
              "12107  ? acute watery diarrhoea (awd) continues to be...   \n",
              "12108  as south india grapples with drought and water...   \n",
              "12109  mirroring trends in south africa, the main sou...   \n",
              "\n",
              "                                            non_alphanum  \\\n",
              "0      in addition to the immediate lifesaving interv...   \n",
              "1      there are approximately 26 million people clas...   \n",
              "2      while aid imports have held up recently commer...   \n",
              "3      heavy rainfalls as well as onrush of water fro...   \n",
              "4      based on field reports 9  the main production ...   \n",
              "...                                                  ...   \n",
              "12105  the total gap in the number of people who requ...   \n",
              "12106  a food crisis is looming in the country with t...   \n",
              "12107   acute watery diarrhoea awd continues to be re...   \n",
              "12108  as south india grapples with drought and water...   \n",
              "12109  mirroring trends in south africa the main sour...   \n",
              "\n",
              "                                               strip_num  \\\n",
              "0      in addition to the immediate lifesaving interv...   \n",
              "1      there are approximately  million people classi...   \n",
              "2      while aid imports have held up recently commer...   \n",
              "3      heavy rainfalls as well as onrush of water fro...   \n",
              "4      based on field reports   the main production c...   \n",
              "...                                                  ...   \n",
              "12105  the total gap in the number of people who requ...   \n",
              "12106  a food crisis is looming in the country with t...   \n",
              "12107   acute watery diarrhoea awd continues to be re...   \n",
              "12108  as south india grapples with drought and water...   \n",
              "12109  mirroring trends in south africa the main sour...   \n",
              "\n",
              "                                            strip_spaces  \\\n",
              "0      in addition to the immediate lifesaving interv...   \n",
              "1      there are approximately million people classif...   \n",
              "2      while aid imports have held up recently commer...   \n",
              "3      heavy rainfalls as well as onrush of water fro...   \n",
              "4      based on field reports the main production cha...   \n",
              "...                                                  ...   \n",
              "12105  the total gap in the number of people who requ...   \n",
              "12106  a food crisis is looming in the country with t...   \n",
              "12107   acute watery diarrhoea awd continues to be re...   \n",
              "12108  as south india grapples with drought and water...   \n",
              "12109  mirroring trends in south africa the main sour...   \n",
              "\n",
              "                                                   final  \\\n",
              "0      addition immediate lifesaving interventions un...   \n",
              "1      approximately million people classified phase ...   \n",
              "2      aid imports held recently commercial food fuel...   \n",
              "3      heavy rainfalls well onrush water upstream meg...   \n",
              "4      based field reports main production challenges...   \n",
              "...                                                  ...   \n",
              "12105  total gap number people require assistance rea...   \n",
              "12106  food crisis looming country seasons maize harv...   \n",
              "12107  acute watery diarrhoea awd continues reported ...   \n",
              "12108  south india grapples drought water shortage tu...   \n",
              "12109  mirroring trends south africa main source impo...   \n",
              "\n",
              "                                             oov_removed  \n",
              "0      [addition, immediate, lifesaving, intervention...  \n",
              "1      [approximately, million, classified, phase, mi...  \n",
              "2      [aid, imports, held, recently, commercial, fue...  \n",
              "3      [heavy, rainfalls, well, onrush, water, upstre...  \n",
              "4      [based, field, reports, main, production, chal...  \n",
              "...                                                  ...  \n",
              "12105  [total, gap, number, require, assistance, reac...  \n",
              "12106  [crisis, looming, country, seasons, maize, har...  \n",
              "12107  [acute, watery, diarrhoea, awd, continues, amh...  \n",
              "12108  [south, india, drought, water, shortage, tube,...  \n",
              "12109  [trends, south, africa, main, source, imported...  \n",
              "\n",
              "[12110 rows x 8 columns]"
            ],
            "text/html": [
              "\n",
              "  <div id=\"df-018bb7cd-9c4e-48bf-9cc5-a3476ba15f9c\">\n",
              "    <div class=\"colab-df-container\">\n",
              "      <div>\n",
              "<style scoped>\n",
              "    .dataframe tbody tr th:only-of-type {\n",
              "        vertical-align: middle;\n",
              "    }\n",
              "\n",
              "    .dataframe tbody tr th {\n",
              "        vertical-align: top;\n",
              "    }\n",
              "\n",
              "    .dataframe thead th {\n",
              "        text-align: right;\n",
              "    }\n",
              "</style>\n",
              "<table border=\"1\" class=\"dataframe\">\n",
              "  <thead>\n",
              "    <tr style=\"text-align: right;\">\n",
              "      <th></th>\n",
              "      <th>text</th>\n",
              "      <th>label</th>\n",
              "      <th>lower</th>\n",
              "      <th>non_alphanum</th>\n",
              "      <th>strip_num</th>\n",
              "      <th>strip_spaces</th>\n",
              "      <th>final</th>\n",
              "      <th>oov_removed</th>\n",
              "    </tr>\n",
              "  </thead>\n",
              "  <tbody>\n",
              "    <tr>\n",
              "      <th>0</th>\n",
              "      <td>In addition to the immediate life-saving inter...</td>\n",
              "      <td>9</td>\n",
              "      <td>in addition to the immediate life-saving inter...</td>\n",
              "      <td>in addition to the immediate lifesaving interv...</td>\n",
              "      <td>in addition to the immediate lifesaving interv...</td>\n",
              "      <td>in addition to the immediate lifesaving interv...</td>\n",
              "      <td>addition immediate lifesaving interventions un...</td>\n",
              "      <td>[addition, immediate, lifesaving, intervention...</td>\n",
              "    </tr>\n",
              "    <tr>\n",
              "      <th>1</th>\n",
              "      <td>There are approximately 2.6 million people cla...</td>\n",
              "      <td>3</td>\n",
              "      <td>there are approximately 2.6 million people cla...</td>\n",
              "      <td>there are approximately 26 million people clas...</td>\n",
              "      <td>there are approximately  million people classi...</td>\n",
              "      <td>there are approximately million people classif...</td>\n",
              "      <td>approximately million people classified phase ...</td>\n",
              "      <td>[approximately, million, classified, phase, mi...</td>\n",
              "    </tr>\n",
              "    <tr>\n",
              "      <th>2</th>\n",
              "      <td>While aid imports have held up recently, comme...</td>\n",
              "      <td>5</td>\n",
              "      <td>while aid imports have held up recently, comme...</td>\n",
              "      <td>while aid imports have held up recently commer...</td>\n",
              "      <td>while aid imports have held up recently commer...</td>\n",
              "      <td>while aid imports have held up recently commer...</td>\n",
              "      <td>aid imports held recently commercial food fuel...</td>\n",
              "      <td>[aid, imports, held, recently, commercial, fue...</td>\n",
              "    </tr>\n",
              "    <tr>\n",
              "      <th>3</th>\n",
              "      <td>Heavy rainfalls as well as onrush of water fro...</td>\n",
              "      <td>0</td>\n",
              "      <td>heavy rainfalls as well as onrush of water fro...</td>\n",
              "      <td>heavy rainfalls as well as onrush of water fro...</td>\n",
              "      <td>heavy rainfalls as well as onrush of water fro...</td>\n",
              "      <td>heavy rainfalls as well as onrush of water fro...</td>\n",
              "      <td>heavy rainfalls well onrush water upstream meg...</td>\n",
              "      <td>[heavy, rainfalls, well, onrush, water, upstre...</td>\n",
              "    </tr>\n",
              "    <tr>\n",
              "      <th>4</th>\n",
              "      <td>Based on field reports 9 , the main production...</td>\n",
              "      <td>3</td>\n",
              "      <td>based on field reports 9 , the main production...</td>\n",
              "      <td>based on field reports 9  the main production ...</td>\n",
              "      <td>based on field reports   the main production c...</td>\n",
              "      <td>based on field reports the main production cha...</td>\n",
              "      <td>based field reports main production challenges...</td>\n",
              "      <td>[based, field, reports, main, production, chal...</td>\n",
              "    </tr>\n",
              "    <tr>\n",
              "      <th>...</th>\n",
              "      <td>...</td>\n",
              "      <td>...</td>\n",
              "      <td>...</td>\n",
              "      <td>...</td>\n",
              "      <td>...</td>\n",
              "      <td>...</td>\n",
              "      <td>...</td>\n",
              "      <td>...</td>\n",
              "    </tr>\n",
              "    <tr>\n",
              "      <th>12105</th>\n",
              "      <td>The total gap in the number of people who requ...</td>\n",
              "      <td>8</td>\n",
              "      <td>the total gap in the number of people who requ...</td>\n",
              "      <td>the total gap in the number of people who requ...</td>\n",
              "      <td>the total gap in the number of people who requ...</td>\n",
              "      <td>the total gap in the number of people who requ...</td>\n",
              "      <td>total gap number people require assistance rea...</td>\n",
              "      <td>[total, gap, number, require, assistance, reac...</td>\n",
              "    </tr>\n",
              "    <tr>\n",
              "      <th>12106</th>\n",
              "      <td>A food crisis is looming in the country with t...</td>\n",
              "      <td>0</td>\n",
              "      <td>a food crisis is looming in the country with t...</td>\n",
              "      <td>a food crisis is looming in the country with t...</td>\n",
              "      <td>a food crisis is looming in the country with t...</td>\n",
              "      <td>a food crisis is looming in the country with t...</td>\n",
              "      <td>food crisis looming country seasons maize harv...</td>\n",
              "      <td>[crisis, looming, country, seasons, maize, har...</td>\n",
              "    </tr>\n",
              "    <tr>\n",
              "      <th>12107</th>\n",
              "      <td>? Acute watery diarrhoea (AWD) continues to be...</td>\n",
              "      <td>4</td>\n",
              "      <td>? acute watery diarrhoea (awd) continues to be...</td>\n",
              "      <td>acute watery diarrhoea awd continues to be re...</td>\n",
              "      <td>acute watery diarrhoea awd continues to be re...</td>\n",
              "      <td>acute watery diarrhoea awd continues to be re...</td>\n",
              "      <td>acute watery diarrhoea awd continues reported ...</td>\n",
              "      <td>[acute, watery, diarrhoea, awd, continues, amh...</td>\n",
              "    </tr>\n",
              "    <tr>\n",
              "      <th>12108</th>\n",
              "      <td>As South India grapples with drought and water...</td>\n",
              "      <td>11</td>\n",
              "      <td>as south india grapples with drought and water...</td>\n",
              "      <td>as south india grapples with drought and water...</td>\n",
              "      <td>as south india grapples with drought and water...</td>\n",
              "      <td>as south india grapples with drought and water...</td>\n",
              "      <td>south india grapples drought water shortage tu...</td>\n",
              "      <td>[south, india, drought, water, shortage, tube,...</td>\n",
              "    </tr>\n",
              "    <tr>\n",
              "      <th>12109</th>\n",
              "      <td>Mirroring trends in South Africa, the main sou...</td>\n",
              "      <td>3</td>\n",
              "      <td>mirroring trends in south africa, the main sou...</td>\n",
              "      <td>mirroring trends in south africa the main sour...</td>\n",
              "      <td>mirroring trends in south africa the main sour...</td>\n",
              "      <td>mirroring trends in south africa the main sour...</td>\n",
              "      <td>mirroring trends south africa main source impo...</td>\n",
              "      <td>[trends, south, africa, main, source, imported...</td>\n",
              "    </tr>\n",
              "  </tbody>\n",
              "</table>\n",
              "<p>12110 rows × 8 columns</p>\n",
              "</div>\n",
              "      <button class=\"colab-df-convert\" onclick=\"convertToInteractive('df-018bb7cd-9c4e-48bf-9cc5-a3476ba15f9c')\"\n",
              "              title=\"Convert this dataframe to an interactive table.\"\n",
              "              style=\"display:none;\">\n",
              "        \n",
              "  <svg xmlns=\"http://www.w3.org/2000/svg\" height=\"24px\"viewBox=\"0 0 24 24\"\n",
              "       width=\"24px\">\n",
              "    <path d=\"M0 0h24v24H0V0z\" fill=\"none\"/>\n",
              "    <path d=\"M18.56 5.44l.94 2.06.94-2.06 2.06-.94-2.06-.94-.94-2.06-.94 2.06-2.06.94zm-11 1L8.5 8.5l.94-2.06 2.06-.94-2.06-.94L8.5 2.5l-.94 2.06-2.06.94zm10 10l.94 2.06.94-2.06 2.06-.94-2.06-.94-.94-2.06-.94 2.06-2.06.94z\"/><path d=\"M17.41 7.96l-1.37-1.37c-.4-.4-.92-.59-1.43-.59-.52 0-1.04.2-1.43.59L10.3 9.45l-7.72 7.72c-.78.78-.78 2.05 0 2.83L4 21.41c.39.39.9.59 1.41.59.51 0 1.02-.2 1.41-.59l7.78-7.78 2.81-2.81c.8-.78.8-2.07 0-2.86zM5.41 20L4 18.59l7.72-7.72 1.47 1.35L5.41 20z\"/>\n",
              "  </svg>\n",
              "      </button>\n",
              "      \n",
              "  <style>\n",
              "    .colab-df-container {\n",
              "      display:flex;\n",
              "      flex-wrap:wrap;\n",
              "      gap: 12px;\n",
              "    }\n",
              "\n",
              "    .colab-df-convert {\n",
              "      background-color: #E8F0FE;\n",
              "      border: none;\n",
              "      border-radius: 50%;\n",
              "      cursor: pointer;\n",
              "      display: none;\n",
              "      fill: #1967D2;\n",
              "      height: 32px;\n",
              "      padding: 0 0 0 0;\n",
              "      width: 32px;\n",
              "    }\n",
              "\n",
              "    .colab-df-convert:hover {\n",
              "      background-color: #E2EBFA;\n",
              "      box-shadow: 0px 1px 2px rgba(60, 64, 67, 0.3), 0px 1px 3px 1px rgba(60, 64, 67, 0.15);\n",
              "      fill: #174EA6;\n",
              "    }\n",
              "\n",
              "    [theme=dark] .colab-df-convert {\n",
              "      background-color: #3B4455;\n",
              "      fill: #D2E3FC;\n",
              "    }\n",
              "\n",
              "    [theme=dark] .colab-df-convert:hover {\n",
              "      background-color: #434B5C;\n",
              "      box-shadow: 0px 1px 3px 1px rgba(0, 0, 0, 0.15);\n",
              "      filter: drop-shadow(0px 1px 2px rgba(0, 0, 0, 0.3));\n",
              "      fill: #FFFFFF;\n",
              "    }\n",
              "  </style>\n",
              "\n",
              "      <script>\n",
              "        const buttonEl =\n",
              "          document.querySelector('#df-018bb7cd-9c4e-48bf-9cc5-a3476ba15f9c button.colab-df-convert');\n",
              "        buttonEl.style.display =\n",
              "          google.colab.kernel.accessAllowed ? 'block' : 'none';\n",
              "\n",
              "        async function convertToInteractive(key) {\n",
              "          const element = document.querySelector('#df-018bb7cd-9c4e-48bf-9cc5-a3476ba15f9c');\n",
              "          const dataTable =\n",
              "            await google.colab.kernel.invokeFunction('convertToInteractive',\n",
              "                                                     [key], {});\n",
              "          if (!dataTable) return;\n",
              "\n",
              "          const docLinkHtml = 'Like what you see? Visit the ' +\n",
              "            '<a target=\"_blank\" href=https://colab.research.google.com/notebooks/data_table.ipynb>data table notebook</a>'\n",
              "            + ' to learn more about interactive tables.';\n",
              "          element.innerHTML = '';\n",
              "          dataTable['output_type'] = 'display_data';\n",
              "          await google.colab.output.renderOutput(dataTable, element);\n",
              "          const docLink = document.createElement('div');\n",
              "          docLink.innerHTML = docLinkHtml;\n",
              "          element.appendChild(docLink);\n",
              "        }\n",
              "      </script>\n",
              "    </div>\n",
              "  </div>\n",
              "  "
            ]
          },
          "metadata": {},
          "execution_count": 19
        }
      ],
      "source": [
        "#outlook on dataframe with various preprocessing steps\n",
        "data['train']"
      ]
    },
    {
      "cell_type": "code",
      "execution_count": 20,
      "metadata": {
        "id": "xRN8LiC7mXUw"
      },
      "outputs": [],
      "source": [
        "#final preprocssed dataset\n",
        "processed_data = dict()\n",
        "processed_data['train'] = data['train']['oov_removed']\n",
        "processed_data['test'] = data['test']['oov_removed']\n",
        "processed_data['validation'] = data['validation']['oov_removed']\n",
        "\n",
        "\n",
        "processed_data['train_labels'] = data['train']['label']\n",
        "processed_data['test_labels'] = data['test']['label']\n",
        "processed_data['validation_labels'] = data['validation']['label']"
      ]
    },
    {
      "cell_type": "code",
      "execution_count": 21,
      "metadata": {
        "id": "iuU08f6_mXUw",
        "outputId": "297d673c-4730-4f3f-879b-78fe0e53842d",
        "colab": {
          "base_uri": "https://localhost:8080/"
        }
      },
      "outputs": [
        {
          "output_type": "execute_result",
          "data": {
            "text/plain": [
              "10743"
            ]
          },
          "metadata": {},
          "execution_count": 21
        }
      ],
      "source": [
        "#no of tokens in the reduced dictionary\n",
        "reduced_dictionary.keys()[-1]"
      ]
    },
    {
      "cell_type": "code",
      "execution_count": null,
      "metadata": {
        "id": "I-cGJdxhmXVX"
      },
      "outputs": [],
      "source": [
        "#saving prerpocessed data and dictionary \n",
        "# import pickle\n",
        "\n",
        "\n",
        "# with open('processed_data.pickle', 'wb') as handle:\n",
        "#     pickle.dump(processed_data, handle, protocol=pickle.HIGHEST_PROTOCOL)\n",
        "# with open('dictionary.pickle', 'wb') as handle:\n",
        "#     pickle.dump(dictionary, handle, protocol=pickle.HIGHEST_PROTOCOL)"
      ]
    },
    {
      "cell_type": "code",
      "execution_count": null,
      "metadata": {
        "colab": {
          "base_uri": "https://localhost:8080/"
        },
        "id": "V3PRIIHGmXVa",
        "outputId": "d676e5c7-dde8-4c7d-e8f1-34802221b618"
      },
      "outputs": [
        {
          "output_type": "stream",
          "name": "stdout",
          "text": [
            "dict_keys(['train', 'test', 'validation', 'train_labels', 'test_labels', 'validation_labels'])\n"
          ]
        }
      ],
      "source": [
        "# #Loading the data and dictionary from pickle files\n",
        "# import pickle as pkl\n",
        "# reduced_dictionary = pkl.load(open('dictionary.pickle','rb'))\n",
        "# processed_data = pkl.load(open('processed_data.pickle','rb'))\n",
        "# print(processed_data.keys())\n"
      ]
    },
    {
      "cell_type": "code",
      "execution_count": 22,
      "metadata": {
        "id": "6EwxcDhLmXVf"
      },
      "outputs": [],
      "source": [
        "#function to create batches from a given dataset\n",
        "def make_batches(data, dictionary, max_doc_length, batch_size):\n",
        "    batches = {}\n",
        "\n",
        "    sets = ['train', 'test', 'validation']\n",
        "\n",
        "    inverse_dictionary = {v: k for k, v in dictionary.items()}\n",
        "    inverse_dictionary['a'] = -1\n",
        "\n",
        "    for s in sets:\n",
        "        s_labels = s + '_labels'\n",
        "        batches[s] = []\n",
        "        batches[s_labels] = []\n",
        "\n",
        "        for idx in range(0,len(data[s]), batch_size):\n",
        "            cur_batch = []\n",
        "            labels = []\n",
        "\n",
        "            for idx2,doc in enumerate(data[s][idx:idx+batch_size]):\n",
        "                if len(doc) < max_doc_length:\n",
        "                    doc += ['a'] * (max_doc_length - len(doc))\n",
        "                sent = []\n",
        "                for word in range(0,max_doc_length):\n",
        "                    sent.append(inverse_dictionary[doc[word]])\n",
        "                cur_batch.append(sent)\n",
        "                labels.append(data[s_labels][idx + idx2])\n",
        "            batches[s].append(cur_batch)\n",
        "            batches[s_labels].append(labels)\n",
        "\n",
        "    return batches\n",
        "\n",
        "#creating batches\n",
        "max_doc_length = [50 , 100, 200]\n",
        "batch_size = [2 , 10, 50]\n",
        "all_batches = []\n",
        "\n",
        "for m_length in max_doc_length:\n",
        "    for b_size in batch_size:\n",
        "        all_batches.append(make_batches(processed_data, reduced_dictionary, m_length, b_size))"
      ]
    },
    {
      "cell_type": "code",
      "execution_count": 23,
      "metadata": {
        "colab": {
          "base_uri": "https://localhost:8080/"
        },
        "id": "2_j8GYEcmXVi",
        "outputId": "2bf2104d-da22-4878-d93a-ba07b14c8cf5"
      },
      "outputs": [
        {
          "output_type": "stream",
          "name": "stdout",
          "text": [
            "[[660, 1132, 3819, 2550, 410, 410, -1, -1, -1, -1, -1, -1, -1, -1, -1, -1, -1, -1, -1, -1, -1, -1, -1, -1, -1, -1, -1, -1, -1, -1, -1, -1, -1, -1, -1, -1, -1, -1, -1, -1, -1, -1, -1, -1, -1, -1, -1, -1, -1, -1, -1, -1, -1, -1, -1, -1, -1, -1, -1, -1, -1, -1, -1, -1, -1, -1, -1, -1, -1, -1, -1, -1, -1, -1, -1, -1, -1, -1, -1, -1, -1, -1, -1, -1, -1, -1, -1, -1, -1, -1, -1, -1, -1, -1, -1, -1, -1, -1, -1, -1], [1854, 1263, 409, 118, 212, 332, 604, 410, 9942, 10088, 1384, 1263, 1844, 1198, 1524, 2685, 5412, 320, 762, 1395, 12, 1394, 8550, 1979, 8549, 1404, 4261, 2530, 1263, 321, 470, 5412, 2111, 2462, 321, 6643, 4167, 681, 3282, 1814, 1263, 3378, 3815, 78, 451, 536, 2214, 2205, 1278, 1652, 249, 4450, 6858, 7445, 941, 1917, 212, 3718, -1, -1, -1, -1, -1, -1, -1, -1, -1, -1, -1, -1, -1, -1, -1, -1, -1, -1, -1, -1, -1, -1, -1, -1, -1, -1, -1, -1, -1, -1, -1, -1, -1, -1, -1, -1, -1, -1, -1, -1, -1, -1]]\n",
            "[8, 9]\n"
          ]
        }
      ],
      "source": [
        "print(all_batches[3]['test'][0])\n",
        "print(all_batches[3]['test_labels'][0])"
      ]
    },
    {
      "cell_type": "code",
      "execution_count": 17,
      "metadata": {
        "id": "DFagCFvmmXVk"
      },
      "outputs": [],
      "source": [
        "#importing word2vec embedding\n",
        "\n",
        "import gensim.downloader\n",
        "import numpy as np\n",
        "\n",
        "model = gensim.downloader.load('word2vec-google-news-300')\n"
      ]
    },
    {
      "cell_type": "code",
      "execution_count": 25,
      "metadata": {
        "id": "KksDgO-tmXVk"
      },
      "outputs": [],
      "source": [
        "#creating embeddings\n",
        "emb_size = len(model['apple'])\n",
        "embeddings = []\n",
        "not_in_model = []\n",
        "for idx in range(len(reduced_dictionary)):\n",
        "    try:\n",
        "        embeddings.append(model[reduced_dictionary[idx]])\n",
        "    except:\n",
        "        embeddings.append(np.random.uniform(low=-1.0, high=1.0, size=emb_size))\n",
        "        not_in_model.append(reduced_dictionary[idx])"
      ]
    },
    {
      "cell_type": "code",
      "execution_count": 26,
      "metadata": {
        "id": "B6jwffglmXVl",
        "colab": {
          "base_uri": "https://localhost:8080/"
        },
        "outputId": "ea7a40d3-7ee4-4890-c4f5-588c777149e3"
      },
      "outputs": [
        {
          "output_type": "stream",
          "name": "stderr",
          "text": [
            "<ipython-input-26-27636ee86357>:2: UserWarning: Creating a tensor from a list of numpy.ndarrays is extremely slow. Please consider converting the list to a single numpy.ndarray with numpy.array() before converting to a tensor. (Triggered internally at ../torch/csrc/utils/tensor_new.cpp:245.)\n",
            "  weights = torch.FloatTensor(embeddings)\n"
          ]
        }
      ],
      "source": [
        "#making an embedding look-up\n",
        "weights = torch.FloatTensor(embeddings)\n",
        "torch_embedding = torch.nn.Embedding.from_pretrained(weights)\n",
        "input = torch.LongTensor([0])\n",
        "#print((torch_embedding(input)))"
      ]
    },
    {
      "cell_type": "code",
      "execution_count": 32,
      "metadata": {
        "id": "K7xS9wsZmXVl"
      },
      "outputs": [],
      "source": [
        "#classification average model class\n",
        "class ClassificationAverageModel(torch.nn.Module):\n",
        "    def __init__(self, embeddings):\n",
        "        super(ClassificationAverageModel, self).__init__()\n",
        "        input = torch.LongTensor([0])\n",
        "        self.dim = len(embeddings(input)[0])\n",
        "        self.emb = embeddings\n",
        "        self.lin_a = torch.nn.Linear(self.dim, 12)\n",
        "\n",
        "    def forward(self, inp_batch):\n",
        "        sentes = []\n",
        "        for doc in inp_batch:\n",
        "            sum_sent = torch.Tensor([0] *self.dim)\n",
        "            sent_len = 0\n",
        "\n",
        "            for word in doc:\n",
        "                if word == -1:\n",
        "                    break\n",
        "                out1 = self.emb(word.type(torch.LongTensor))\n",
        "                sum_sent = torch.add(sum_sent,out1)\n",
        "                sent_len += 1\n",
        "\n",
        "            if sent_len == 0:\n",
        "                sent_len += 1\n",
        "            sent = np.divide(np.array(sum_sent), sent_len)\n",
        "            sentes.append(sent)\n",
        "\n",
        "        batch_labels = self.lin_a(torch.Tensor(sentes))\n",
        "        #batch_labels = torch.nn.functional.softmax(doc_class)\n",
        "        return batch_labels"
      ]
    },
    {
      "cell_type": "code",
      "execution_count": 34,
      "metadata": {
        "id": "6unwM_PtmXVm",
        "outputId": "775652a0-66b7-47d2-df91-f4f8890329cd",
        "colab": {
          "base_uri": "https://localhost:8080/",
          "height": 1000,
          "referenced_widgets": [
            "6293c0307e8f4386a8ee348bf3912d92",
            "23ca1704f10b4ff198553cd08749ca8e",
            "fdbac8f98fb547dabb7de6e7b70d4441",
            "b7839c6a31d74ab29547c8d051f64974",
            "2944da6bd9e14a08b47a42dec979aec4",
            "252d2563df124355b88eefd8843fab1f",
            "a3f4ee5e670243b9838a418c62c90fd0",
            "5390dd30777f439c885d36b0dc6e7439",
            "c4c1c8609e8b40a7a9da2f600a733564",
            "20b2477001ff4010be9f99b1c65c18e2",
            "fc9d94cdc10e401dbceabd88a2388b89",
            "4298fc89b4564c8fb7bfe136ebe37273",
            "1002b56e16044cf1badcff46ec0c0f2a",
            "ea90e78fbd484646878b5f9fe0cf5089",
            "87590642411142169e7ee273aeab7ab7",
            "57d6e01e01464692b14f7d568db702c8",
            "b54ecd69f973458da364aa612bb3abfa",
            "9c36e2faf5334e6995ad0bdd9ab10068",
            "651cd31e52f44031a437d37ba85436d3",
            "502bdabbcc2f4959869dcbb2d49f718f",
            "6b2be577b5864bcba3ebccf509536d24",
            "3acef3983daa436dbbbebdc93f1213d3",
            "b7a2842a45df4a3280757e6daf5a8808",
            "f1393ad64c4646499beaaf88f307ff91",
            "be986653c5d644749c5cae829730fc29",
            "a5337dfb461f45d5a487897839f224fc",
            "b8e8958b7676462f97fd310e12806216",
            "4310f3f7333744f1a18c00a1e2a6b2f4",
            "d994244ad22341608258aec7d680ef77",
            "70498878a96142648fe252b985ab55da",
            "196da1fc025f4085adb469bc310963bf",
            "973ee5bb57134e3297c7dd709a376fe3",
            "562ed5865a3f4e5097f880bf5ed2d611",
            "03d0e3f6193341cbaa0c966a25f2c29b",
            "126e667b4beb4cc0b307baa87e17e07b",
            "0af356268f1547d0867d3d4bc7e537a9",
            "5690f761b1944638b6f9bf8bc2e04c15",
            "4499efb2cd7b4b6d944f680849efb215",
            "00499e94e5644991ba7dda939167de37",
            "6603e85733054f9fbc68c9591db04590"
          ]
        }
      },
      "outputs": [
        {
          "output_type": "display_data",
          "data": {
            "text/plain": [
              "<IPython.core.display.HTML object>"
            ],
            "text/html": [
              "Finishing last run (ID:lhi6v2m7) before initializing another..."
            ]
          },
          "metadata": {}
        },
        {
          "output_type": "display_data",
          "data": {
            "text/plain": [
              "<IPython.core.display.HTML object>"
            ],
            "text/html": [
              "Waiting for W&B process to finish... <strong style=\"color:green\">(success).</strong>"
            ]
          },
          "metadata": {}
        },
        {
          "output_type": "display_data",
          "data": {
            "text/plain": [
              "<IPython.core.display.HTML object>"
            ],
            "text/html": [
              "<style>\n",
              "    table.wandb td:nth-child(1) { padding: 0 10px; text-align: left ; width: auto;} td:nth-child(2) {text-align: left ; width: 100%}\n",
              "    .wandb-row { display: flex; flex-direction: row; flex-wrap: wrap; justify-content: flex-start; width: 100% }\n",
              "    .wandb-col { display: flex; flex-direction: column; flex-basis: 100%; flex: 1; padding: 10px; }\n",
              "    </style>\n",
              "<div class=\"wandb-row\"><div class=\"wandb-col\"><h3>Run history:</h3><br/><table class=\"wandb\"><tr><td>train accuracy</td><td>▃▆▇▇▇▇▇▁▆▇▇▇████</td></tr><tr><td>validation accuracy</td><td>▇▇▆▅▃▃▂▁▆▆█▆▅▅▅</td></tr></table><br/></div><div class=\"wandb-col\"><h3>Run summary:</h3><br/><table class=\"wandb\"><tr><td>train accuracy</td><td>0.79587</td></tr><tr><td>validation accuracy</td><td>0.7541</td></tr></table><br/></div></div>"
            ]
          },
          "metadata": {}
        },
        {
          "output_type": "display_data",
          "data": {
            "text/plain": [
              "<IPython.core.display.HTML object>"
            ],
            "text/html": [
              " View run <strong style=\"color:#cdcd00\">firm-eon-1</strong> at: <a href='https://wandb.ai/tarajadidi/Deep%20NLP%2C%20Final/runs/lhi6v2m7' target=\"_blank\">https://wandb.ai/tarajadidi/Deep%20NLP%2C%20Final/runs/lhi6v2m7</a><br/>Synced 5 W&B file(s), 0 media file(s), 0 artifact file(s) and 0 other file(s)"
            ]
          },
          "metadata": {}
        },
        {
          "output_type": "display_data",
          "data": {
            "text/plain": [
              "<IPython.core.display.HTML object>"
            ],
            "text/html": [
              "Find logs at: <code>./wandb/run-20230601_153404-lhi6v2m7/logs</code>"
            ]
          },
          "metadata": {}
        },
        {
          "output_type": "display_data",
          "data": {
            "text/plain": [
              "<IPython.core.display.HTML object>"
            ],
            "text/html": [
              "Successfully finished last run (ID:lhi6v2m7). Initializing new run:<br/>"
            ]
          },
          "metadata": {}
        },
        {
          "output_type": "display_data",
          "data": {
            "text/plain": [
              "<IPython.core.display.HTML object>"
            ],
            "text/html": [
              "Tracking run with wandb version 0.15.3"
            ]
          },
          "metadata": {}
        },
        {
          "output_type": "display_data",
          "data": {
            "text/plain": [
              "<IPython.core.display.HTML object>"
            ],
            "text/html": [
              "Run data is saved locally in <code>/content/wandb/run-20230601_160558-mzqi0y37</code>"
            ]
          },
          "metadata": {}
        },
        {
          "output_type": "display_data",
          "data": {
            "text/plain": [
              "<IPython.core.display.HTML object>"
            ],
            "text/html": [
              "Syncing run <strong><a href='https://wandb.ai/tarajadidi/Deep%20NLP%2C%20Final/runs/mzqi0y37' target=\"_blank\">AverageClassifier_0</a></strong> to <a href='https://wandb.ai/tarajadidi/Deep%20NLP%2C%20Final' target=\"_blank\">Weights & Biases</a> (<a href='https://wandb.me/run' target=\"_blank\">docs</a>)<br/>"
            ]
          },
          "metadata": {}
        },
        {
          "output_type": "display_data",
          "data": {
            "text/plain": [
              "<IPython.core.display.HTML object>"
            ],
            "text/html": [
              " View project at <a href='https://wandb.ai/tarajadidi/Deep%20NLP%2C%20Final' target=\"_blank\">https://wandb.ai/tarajadidi/Deep%20NLP%2C%20Final</a>"
            ]
          },
          "metadata": {}
        },
        {
          "output_type": "display_data",
          "data": {
            "text/plain": [
              "<IPython.core.display.HTML object>"
            ],
            "text/html": [
              " View run at <a href='https://wandb.ai/tarajadidi/Deep%20NLP%2C%20Final/runs/mzqi0y37' target=\"_blank\">https://wandb.ai/tarajadidi/Deep%20NLP%2C%20Final/runs/mzqi0y37</a>"
            ]
          },
          "metadata": {}
        },
        {
          "output_type": "stream",
          "name": "stdout",
          "text": [
            "Early stopping training this bacth setting\n",
            "Batch setting: 0\n",
            "best accuracy for this setting is: 0.7588597842835131\n"
          ]
        },
        {
          "output_type": "display_data",
          "data": {
            "text/plain": [
              "<IPython.core.display.HTML object>"
            ],
            "text/html": [
              "Finishing last run (ID:mzqi0y37) before initializing another..."
            ]
          },
          "metadata": {}
        },
        {
          "output_type": "display_data",
          "data": {
            "text/plain": [
              "<IPython.core.display.HTML object>"
            ],
            "text/html": [
              "Waiting for W&B process to finish... <strong style=\"color:green\">(success).</strong>"
            ]
          },
          "metadata": {}
        },
        {
          "output_type": "display_data",
          "data": {
            "text/plain": [
              "VBox(children=(Label(value='0.001 MB of 0.001 MB uploaded (0.000 MB deduped)\\r'), FloatProgress(value=1.0, max…"
            ],
            "application/vnd.jupyter.widget-view+json": {
              "version_major": 2,
              "version_minor": 0,
              "model_id": "6293c0307e8f4386a8ee348bf3912d92"
            }
          },
          "metadata": {}
        },
        {
          "output_type": "display_data",
          "data": {
            "text/plain": [
              "<IPython.core.display.HTML object>"
            ],
            "text/html": [
              "<style>\n",
              "    table.wandb td:nth-child(1) { padding: 0 10px; text-align: left ; width: auto;} td:nth-child(2) {text-align: left ; width: 100%}\n",
              "    .wandb-row { display: flex; flex-direction: row; flex-wrap: wrap; justify-content: flex-start; width: 100% }\n",
              "    .wandb-col { display: flex; flex-direction: column; flex-basis: 100%; flex: 1; padding: 10px; }\n",
              "    </style>\n",
              "<div class=\"wandb-row\"><div class=\"wandb-col\"><h3>Run history:</h3><br/><table class=\"wandb\"><tr><td>train accuracy</td><td>▁▆▇▇██</td></tr><tr><td>validation accuracy</td><td>██▆▃▁▁</td></tr></table><br/></div><div class=\"wandb-col\"><h3>Run summary:</h3><br/><table class=\"wandb\"><tr><td>train accuracy</td><td>0.78505</td></tr><tr><td>validation accuracy</td><td>0.75116</td></tr></table><br/></div></div>"
            ]
          },
          "metadata": {}
        },
        {
          "output_type": "display_data",
          "data": {
            "text/plain": [
              "<IPython.core.display.HTML object>"
            ],
            "text/html": [
              " View run <strong style=\"color:#cdcd00\">AverageClassifier_0</strong> at: <a href='https://wandb.ai/tarajadidi/Deep%20NLP%2C%20Final/runs/mzqi0y37' target=\"_blank\">https://wandb.ai/tarajadidi/Deep%20NLP%2C%20Final/runs/mzqi0y37</a><br/>Synced 5 W&B file(s), 0 media file(s), 0 artifact file(s) and 0 other file(s)"
            ]
          },
          "metadata": {}
        },
        {
          "output_type": "display_data",
          "data": {
            "text/plain": [
              "<IPython.core.display.HTML object>"
            ],
            "text/html": [
              "Find logs at: <code>./wandb/run-20230601_160558-mzqi0y37/logs</code>"
            ]
          },
          "metadata": {}
        },
        {
          "output_type": "display_data",
          "data": {
            "text/plain": [
              "<IPython.core.display.HTML object>"
            ],
            "text/html": [
              "Successfully finished last run (ID:mzqi0y37). Initializing new run:<br/>"
            ]
          },
          "metadata": {}
        },
        {
          "output_type": "display_data",
          "data": {
            "text/plain": [
              "<IPython.core.display.HTML object>"
            ],
            "text/html": [
              "Tracking run with wandb version 0.15.3"
            ]
          },
          "metadata": {}
        },
        {
          "output_type": "display_data",
          "data": {
            "text/plain": [
              "<IPython.core.display.HTML object>"
            ],
            "text/html": [
              "Run data is saved locally in <code>/content/wandb/run-20230601_160842-v53d1lpg</code>"
            ]
          },
          "metadata": {}
        },
        {
          "output_type": "display_data",
          "data": {
            "text/plain": [
              "<IPython.core.display.HTML object>"
            ],
            "text/html": [
              "Syncing run <strong><a href='https://wandb.ai/tarajadidi/Deep%20NLP%2C%20Final/runs/v53d1lpg' target=\"_blank\">AverageClassifier_1</a></strong> to <a href='https://wandb.ai/tarajadidi/Deep%20NLP%2C%20Final' target=\"_blank\">Weights & Biases</a> (<a href='https://wandb.me/run' target=\"_blank\">docs</a>)<br/>"
            ]
          },
          "metadata": {}
        },
        {
          "output_type": "display_data",
          "data": {
            "text/plain": [
              "<IPython.core.display.HTML object>"
            ],
            "text/html": [
              " View project at <a href='https://wandb.ai/tarajadidi/Deep%20NLP%2C%20Final' target=\"_blank\">https://wandb.ai/tarajadidi/Deep%20NLP%2C%20Final</a>"
            ]
          },
          "metadata": {}
        },
        {
          "output_type": "display_data",
          "data": {
            "text/plain": [
              "<IPython.core.display.HTML object>"
            ],
            "text/html": [
              " View run at <a href='https://wandb.ai/tarajadidi/Deep%20NLP%2C%20Final/runs/v53d1lpg' target=\"_blank\">https://wandb.ai/tarajadidi/Deep%20NLP%2C%20Final/runs/v53d1lpg</a>"
            ]
          },
          "metadata": {}
        },
        {
          "output_type": "stream",
          "name": "stdout",
          "text": [
            "Early stopping training this bacth setting\n",
            "Batch setting: 1\n",
            "best accuracy for this setting is: 0.7594871794871796\n"
          ]
        },
        {
          "output_type": "display_data",
          "data": {
            "text/plain": [
              "<IPython.core.display.HTML object>"
            ],
            "text/html": [
              "Finishing last run (ID:v53d1lpg) before initializing another..."
            ]
          },
          "metadata": {}
        },
        {
          "output_type": "display_data",
          "data": {
            "text/plain": [
              "<IPython.core.display.HTML object>"
            ],
            "text/html": [
              "Waiting for W&B process to finish... <strong style=\"color:green\">(success).</strong>"
            ]
          },
          "metadata": {}
        },
        {
          "output_type": "display_data",
          "data": {
            "text/plain": [
              "VBox(children=(Label(value='0.001 MB of 0.001 MB uploaded (0.000 MB deduped)\\r'), FloatProgress(value=1.0, max…"
            ],
            "application/vnd.jupyter.widget-view+json": {
              "version_major": 2,
              "version_minor": 0,
              "model_id": "c4c1c8609e8b40a7a9da2f600a733564"
            }
          },
          "metadata": {}
        },
        {
          "output_type": "display_data",
          "data": {
            "text/plain": [
              "<IPython.core.display.HTML object>"
            ],
            "text/html": [
              "<style>\n",
              "    table.wandb td:nth-child(1) { padding: 0 10px; text-align: left ; width: auto;} td:nth-child(2) {text-align: left ; width: 100%}\n",
              "    .wandb-row { display: flex; flex-direction: row; flex-wrap: wrap; justify-content: flex-start; width: 100% }\n",
              "    .wandb-col { display: flex; flex-direction: column; flex-basis: 100%; flex: 1; padding: 10px; }\n",
              "    </style>\n",
              "<div class=\"wandb-row\"><div class=\"wandb-col\"><h3>Run history:</h3><br/><table class=\"wandb\"><tr><td>train accuracy</td><td>▁▆▇▇▇████</td></tr><tr><td>validation accuracy</td><td>▁▇▇█▇▅▅▅▄</td></tr></table><br/></div><div class=\"wandb-col\"><h3>Run summary:</h3><br/><table class=\"wandb\"><tr><td>train accuracy</td><td>0.79604</td></tr><tr><td>validation accuracy</td><td>0.75256</td></tr></table><br/></div></div>"
            ]
          },
          "metadata": {}
        },
        {
          "output_type": "display_data",
          "data": {
            "text/plain": [
              "<IPython.core.display.HTML object>"
            ],
            "text/html": [
              " View run <strong style=\"color:#cdcd00\">AverageClassifier_1</strong> at: <a href='https://wandb.ai/tarajadidi/Deep%20NLP%2C%20Final/runs/v53d1lpg' target=\"_blank\">https://wandb.ai/tarajadidi/Deep%20NLP%2C%20Final/runs/v53d1lpg</a><br/>Synced 5 W&B file(s), 0 media file(s), 0 artifact file(s) and 0 other file(s)"
            ]
          },
          "metadata": {}
        },
        {
          "output_type": "display_data",
          "data": {
            "text/plain": [
              "<IPython.core.display.HTML object>"
            ],
            "text/html": [
              "Find logs at: <code>./wandb/run-20230601_160842-v53d1lpg/logs</code>"
            ]
          },
          "metadata": {}
        },
        {
          "output_type": "display_data",
          "data": {
            "text/plain": [
              "<IPython.core.display.HTML object>"
            ],
            "text/html": [
              "Successfully finished last run (ID:v53d1lpg). Initializing new run:<br/>"
            ]
          },
          "metadata": {}
        },
        {
          "output_type": "display_data",
          "data": {
            "text/plain": [
              "<IPython.core.display.HTML object>"
            ],
            "text/html": [
              "Tracking run with wandb version 0.15.3"
            ]
          },
          "metadata": {}
        },
        {
          "output_type": "display_data",
          "data": {
            "text/plain": [
              "<IPython.core.display.HTML object>"
            ],
            "text/html": [
              "Run data is saved locally in <code>/content/wandb/run-20230601_161210-qrmsjt8k</code>"
            ]
          },
          "metadata": {}
        },
        {
          "output_type": "display_data",
          "data": {
            "text/plain": [
              "<IPython.core.display.HTML object>"
            ],
            "text/html": [
              "Syncing run <strong><a href='https://wandb.ai/tarajadidi/Deep%20NLP%2C%20Final/runs/qrmsjt8k' target=\"_blank\">AverageClassifier_2</a></strong> to <a href='https://wandb.ai/tarajadidi/Deep%20NLP%2C%20Final' target=\"_blank\">Weights & Biases</a> (<a href='https://wandb.me/run' target=\"_blank\">docs</a>)<br/>"
            ]
          },
          "metadata": {}
        },
        {
          "output_type": "display_data",
          "data": {
            "text/plain": [
              "<IPython.core.display.HTML object>"
            ],
            "text/html": [
              " View project at <a href='https://wandb.ai/tarajadidi/Deep%20NLP%2C%20Final' target=\"_blank\">https://wandb.ai/tarajadidi/Deep%20NLP%2C%20Final</a>"
            ]
          },
          "metadata": {}
        },
        {
          "output_type": "display_data",
          "data": {
            "text/plain": [
              "<IPython.core.display.HTML object>"
            ],
            "text/html": [
              " View run at <a href='https://wandb.ai/tarajadidi/Deep%20NLP%2C%20Final/runs/qrmsjt8k' target=\"_blank\">https://wandb.ai/tarajadidi/Deep%20NLP%2C%20Final/runs/qrmsjt8k</a>"
            ]
          },
          "metadata": {}
        },
        {
          "output_type": "stream",
          "name": "stdout",
          "text": [
            "Batch setting: 2\n",
            "best accuracy for this setting is: 0.7599832775919731\n"
          ]
        },
        {
          "output_type": "display_data",
          "data": {
            "text/plain": [
              "<IPython.core.display.HTML object>"
            ],
            "text/html": [
              "Finishing last run (ID:qrmsjt8k) before initializing another..."
            ]
          },
          "metadata": {}
        },
        {
          "output_type": "display_data",
          "data": {
            "text/plain": [
              "<IPython.core.display.HTML object>"
            ],
            "text/html": [
              "Waiting for W&B process to finish... <strong style=\"color:green\">(success).</strong>"
            ]
          },
          "metadata": {}
        },
        {
          "output_type": "display_data",
          "data": {
            "text/plain": [
              "<IPython.core.display.HTML object>"
            ],
            "text/html": [
              "<style>\n",
              "    table.wandb td:nth-child(1) { padding: 0 10px; text-align: left ; width: auto;} td:nth-child(2) {text-align: left ; width: 100%}\n",
              "    .wandb-row { display: flex; flex-direction: row; flex-wrap: wrap; justify-content: flex-start; width: 100% }\n",
              "    .wandb-col { display: flex; flex-direction: column; flex-basis: 100%; flex: 1; padding: 10px; }\n",
              "    </style>\n",
              "<div class=\"wandb-row\"><div class=\"wandb-col\"><h3>Run history:</h3><br/><table class=\"wandb\"><tr><td>train accuracy</td><td>▁▅▆▆▇▇▇▇▇███████████</td></tr><tr><td>validation accuracy</td><td>▁▅▆▇▇██▇████████████</td></tr></table><br/></div><div class=\"wandb-col\"><h3>Run summary:</h3><br/><table class=\"wandb\"><tr><td>train accuracy</td><td>0.80519</td></tr><tr><td>validation accuracy</td><td>0.75844</td></tr></table><br/></div></div>"
            ]
          },
          "metadata": {}
        },
        {
          "output_type": "display_data",
          "data": {
            "text/plain": [
              "<IPython.core.display.HTML object>"
            ],
            "text/html": [
              " View run <strong style=\"color:#cdcd00\">AverageClassifier_2</strong> at: <a href='https://wandb.ai/tarajadidi/Deep%20NLP%2C%20Final/runs/qrmsjt8k' target=\"_blank\">https://wandb.ai/tarajadidi/Deep%20NLP%2C%20Final/runs/qrmsjt8k</a><br/>Synced 5 W&B file(s), 0 media file(s), 0 artifact file(s) and 0 other file(s)"
            ]
          },
          "metadata": {}
        },
        {
          "output_type": "display_data",
          "data": {
            "text/plain": [
              "<IPython.core.display.HTML object>"
            ],
            "text/html": [
              "Find logs at: <code>./wandb/run-20230601_161210-qrmsjt8k/logs</code>"
            ]
          },
          "metadata": {}
        },
        {
          "output_type": "display_data",
          "data": {
            "text/plain": [
              "<IPython.core.display.HTML object>"
            ],
            "text/html": [
              "Successfully finished last run (ID:qrmsjt8k). Initializing new run:<br/>"
            ]
          },
          "metadata": {}
        },
        {
          "output_type": "display_data",
          "data": {
            "text/plain": [
              "<IPython.core.display.HTML object>"
            ],
            "text/html": [
              "Tracking run with wandb version 0.15.3"
            ]
          },
          "metadata": {}
        },
        {
          "output_type": "display_data",
          "data": {
            "text/plain": [
              "<IPython.core.display.HTML object>"
            ],
            "text/html": [
              "Run data is saved locally in <code>/content/wandb/run-20230601_161847-h55dd9bz</code>"
            ]
          },
          "metadata": {}
        },
        {
          "output_type": "display_data",
          "data": {
            "text/plain": [
              "<IPython.core.display.HTML object>"
            ],
            "text/html": [
              "Syncing run <strong><a href='https://wandb.ai/tarajadidi/Deep%20NLP%2C%20Final/runs/h55dd9bz' target=\"_blank\">AverageClassifier_3</a></strong> to <a href='https://wandb.ai/tarajadidi/Deep%20NLP%2C%20Final' target=\"_blank\">Weights & Biases</a> (<a href='https://wandb.me/run' target=\"_blank\">docs</a>)<br/>"
            ]
          },
          "metadata": {}
        },
        {
          "output_type": "display_data",
          "data": {
            "text/plain": [
              "<IPython.core.display.HTML object>"
            ],
            "text/html": [
              " View project at <a href='https://wandb.ai/tarajadidi/Deep%20NLP%2C%20Final' target=\"_blank\">https://wandb.ai/tarajadidi/Deep%20NLP%2C%20Final</a>"
            ]
          },
          "metadata": {}
        },
        {
          "output_type": "display_data",
          "data": {
            "text/plain": [
              "<IPython.core.display.HTML object>"
            ],
            "text/html": [
              " View run at <a href='https://wandb.ai/tarajadidi/Deep%20NLP%2C%20Final/runs/h55dd9bz' target=\"_blank\">https://wandb.ai/tarajadidi/Deep%20NLP%2C%20Final/runs/h55dd9bz</a>"
            ]
          },
          "metadata": {}
        },
        {
          "output_type": "stream",
          "name": "stdout",
          "text": [
            "Early stopping training this bacth setting\n",
            "Batch setting: 3\n",
            "best accuracy for this setting is: 0.764637904468413\n"
          ]
        },
        {
          "output_type": "display_data",
          "data": {
            "text/plain": [
              "<IPython.core.display.HTML object>"
            ],
            "text/html": [
              "Finishing last run (ID:h55dd9bz) before initializing another..."
            ]
          },
          "metadata": {}
        },
        {
          "output_type": "display_data",
          "data": {
            "text/plain": [
              "<IPython.core.display.HTML object>"
            ],
            "text/html": [
              "Waiting for W&B process to finish... <strong style=\"color:green\">(success).</strong>"
            ]
          },
          "metadata": {}
        },
        {
          "output_type": "display_data",
          "data": {
            "text/plain": [
              "VBox(children=(Label(value='0.001 MB of 0.001 MB uploaded (0.000 MB deduped)\\r'), FloatProgress(value=1.0, max…"
            ],
            "application/vnd.jupyter.widget-view+json": {
              "version_major": 2,
              "version_minor": 0,
              "model_id": "b54ecd69f973458da364aa612bb3abfa"
            }
          },
          "metadata": {}
        },
        {
          "output_type": "display_data",
          "data": {
            "text/plain": [
              "<IPython.core.display.HTML object>"
            ],
            "text/html": [
              "<style>\n",
              "    table.wandb td:nth-child(1) { padding: 0 10px; text-align: left ; width: auto;} td:nth-child(2) {text-align: left ; width: 100%}\n",
              "    .wandb-row { display: flex; flex-direction: row; flex-wrap: wrap; justify-content: flex-start; width: 100% }\n",
              "    .wandb-col { display: flex; flex-direction: column; flex-basis: 100%; flex: 1; padding: 10px; }\n",
              "    </style>\n",
              "<div class=\"wandb-row\"><div class=\"wandb-col\"><h3>Run history:</h3><br/><table class=\"wandb\"><tr><td>train accuracy</td><td>▁▆▆▇▇██</td></tr><tr><td>validation accuracy</td><td>▇█▇▅▃▁▃</td></tr></table><br/></div><div class=\"wandb-col\"><h3>Run summary:</h3><br/><table class=\"wandb\"><tr><td>train accuracy</td><td>0.79562</td></tr><tr><td>validation accuracy</td><td>0.7577</td></tr></table><br/></div></div>"
            ]
          },
          "metadata": {}
        },
        {
          "output_type": "display_data",
          "data": {
            "text/plain": [
              "<IPython.core.display.HTML object>"
            ],
            "text/html": [
              " View run <strong style=\"color:#cdcd00\">AverageClassifier_3</strong> at: <a href='https://wandb.ai/tarajadidi/Deep%20NLP%2C%20Final/runs/h55dd9bz' target=\"_blank\">https://wandb.ai/tarajadidi/Deep%20NLP%2C%20Final/runs/h55dd9bz</a><br/>Synced 5 W&B file(s), 0 media file(s), 0 artifact file(s) and 0 other file(s)"
            ]
          },
          "metadata": {}
        },
        {
          "output_type": "display_data",
          "data": {
            "text/plain": [
              "<IPython.core.display.HTML object>"
            ],
            "text/html": [
              "Find logs at: <code>./wandb/run-20230601_161847-h55dd9bz/logs</code>"
            ]
          },
          "metadata": {}
        },
        {
          "output_type": "display_data",
          "data": {
            "text/plain": [
              "<IPython.core.display.HTML object>"
            ],
            "text/html": [
              "Successfully finished last run (ID:h55dd9bz). Initializing new run:<br/>"
            ]
          },
          "metadata": {}
        },
        {
          "output_type": "display_data",
          "data": {
            "text/plain": [
              "<IPython.core.display.HTML object>"
            ],
            "text/html": [
              "Tracking run with wandb version 0.15.3"
            ]
          },
          "metadata": {}
        },
        {
          "output_type": "display_data",
          "data": {
            "text/plain": [
              "<IPython.core.display.HTML object>"
            ],
            "text/html": [
              "Run data is saved locally in <code>/content/wandb/run-20230601_162229-os5axleg</code>"
            ]
          },
          "metadata": {}
        },
        {
          "output_type": "display_data",
          "data": {
            "text/plain": [
              "<IPython.core.display.HTML object>"
            ],
            "text/html": [
              "Syncing run <strong><a href='https://wandb.ai/tarajadidi/Deep%20NLP%2C%20Final/runs/os5axleg' target=\"_blank\">AverageClassifier_4</a></strong> to <a href='https://wandb.ai/tarajadidi/Deep%20NLP%2C%20Final' target=\"_blank\">Weights & Biases</a> (<a href='https://wandb.me/run' target=\"_blank\">docs</a>)<br/>"
            ]
          },
          "metadata": {}
        },
        {
          "output_type": "display_data",
          "data": {
            "text/plain": [
              "<IPython.core.display.HTML object>"
            ],
            "text/html": [
              " View project at <a href='https://wandb.ai/tarajadidi/Deep%20NLP%2C%20Final' target=\"_blank\">https://wandb.ai/tarajadidi/Deep%20NLP%2C%20Final</a>"
            ]
          },
          "metadata": {}
        },
        {
          "output_type": "display_data",
          "data": {
            "text/plain": [
              "<IPython.core.display.HTML object>"
            ],
            "text/html": [
              " View run at <a href='https://wandb.ai/tarajadidi/Deep%20NLP%2C%20Final/runs/os5axleg' target=\"_blank\">https://wandb.ai/tarajadidi/Deep%20NLP%2C%20Final/runs/os5axleg</a>"
            ]
          },
          "metadata": {}
        },
        {
          "output_type": "stream",
          "name": "stdout",
          "text": [
            "Early stopping training this bacth setting\n",
            "Batch setting: 4\n",
            "best accuracy for this setting is: 0.7679487179487183\n"
          ]
        },
        {
          "output_type": "display_data",
          "data": {
            "text/plain": [
              "<IPython.core.display.HTML object>"
            ],
            "text/html": [
              "Finishing last run (ID:os5axleg) before initializing another..."
            ]
          },
          "metadata": {}
        },
        {
          "output_type": "display_data",
          "data": {
            "text/plain": [
              "<IPython.core.display.HTML object>"
            ],
            "text/html": [
              "Waiting for W&B process to finish... <strong style=\"color:green\">(success).</strong>"
            ]
          },
          "metadata": {}
        },
        {
          "output_type": "display_data",
          "data": {
            "text/plain": [
              "<IPython.core.display.HTML object>"
            ],
            "text/html": [
              "<style>\n",
              "    table.wandb td:nth-child(1) { padding: 0 10px; text-align: left ; width: auto;} td:nth-child(2) {text-align: left ; width: 100%}\n",
              "    .wandb-row { display: flex; flex-direction: row; flex-wrap: wrap; justify-content: flex-start; width: 100% }\n",
              "    .wandb-col { display: flex; flex-direction: column; flex-basis: 100%; flex: 1; padding: 10px; }\n",
              "    </style>\n",
              "<div class=\"wandb-row\"><div class=\"wandb-col\"><h3>Run history:</h3><br/><table class=\"wandb\"><tr><td>train accuracy</td><td>▁▆▇▇▇████</td></tr><tr><td>validation accuracy</td><td>▁▆▇█▇▇▆▆▅</td></tr></table><br/></div><div class=\"wandb-col\"><h3>Run summary:</h3><br/><table class=\"wandb\"><tr><td>train accuracy</td><td>0.80116</td></tr><tr><td>validation accuracy</td><td>0.76218</td></tr></table><br/></div></div>"
            ]
          },
          "metadata": {}
        },
        {
          "output_type": "display_data",
          "data": {
            "text/plain": [
              "<IPython.core.display.HTML object>"
            ],
            "text/html": [
              " View run <strong style=\"color:#cdcd00\">AverageClassifier_4</strong> at: <a href='https://wandb.ai/tarajadidi/Deep%20NLP%2C%20Final/runs/os5axleg' target=\"_blank\">https://wandb.ai/tarajadidi/Deep%20NLP%2C%20Final/runs/os5axleg</a><br/>Synced 5 W&B file(s), 0 media file(s), 0 artifact file(s) and 0 other file(s)"
            ]
          },
          "metadata": {}
        },
        {
          "output_type": "display_data",
          "data": {
            "text/plain": [
              "<IPython.core.display.HTML object>"
            ],
            "text/html": [
              "Find logs at: <code>./wandb/run-20230601_162229-os5axleg/logs</code>"
            ]
          },
          "metadata": {}
        },
        {
          "output_type": "display_data",
          "data": {
            "text/plain": [
              "<IPython.core.display.HTML object>"
            ],
            "text/html": [
              "Successfully finished last run (ID:os5axleg). Initializing new run:<br/>"
            ]
          },
          "metadata": {}
        },
        {
          "output_type": "display_data",
          "data": {
            "text/plain": [
              "<IPython.core.display.HTML object>"
            ],
            "text/html": [
              "Tracking run with wandb version 0.15.3"
            ]
          },
          "metadata": {}
        },
        {
          "output_type": "display_data",
          "data": {
            "text/plain": [
              "<IPython.core.display.HTML object>"
            ],
            "text/html": [
              "Run data is saved locally in <code>/content/wandb/run-20230601_162655-tuon2x6s</code>"
            ]
          },
          "metadata": {}
        },
        {
          "output_type": "display_data",
          "data": {
            "text/plain": [
              "<IPython.core.display.HTML object>"
            ],
            "text/html": [
              "Syncing run <strong><a href='https://wandb.ai/tarajadidi/Deep%20NLP%2C%20Final/runs/tuon2x6s' target=\"_blank\">AverageClassifier_5</a></strong> to <a href='https://wandb.ai/tarajadidi/Deep%20NLP%2C%20Final' target=\"_blank\">Weights & Biases</a> (<a href='https://wandb.me/run' target=\"_blank\">docs</a>)<br/>"
            ]
          },
          "metadata": {}
        },
        {
          "output_type": "display_data",
          "data": {
            "text/plain": [
              "<IPython.core.display.HTML object>"
            ],
            "text/html": [
              " View project at <a href='https://wandb.ai/tarajadidi/Deep%20NLP%2C%20Final' target=\"_blank\">https://wandb.ai/tarajadidi/Deep%20NLP%2C%20Final</a>"
            ]
          },
          "metadata": {}
        },
        {
          "output_type": "display_data",
          "data": {
            "text/plain": [
              "<IPython.core.display.HTML object>"
            ],
            "text/html": [
              " View run at <a href='https://wandb.ai/tarajadidi/Deep%20NLP%2C%20Final/runs/tuon2x6s' target=\"_blank\">https://wandb.ai/tarajadidi/Deep%20NLP%2C%20Final/runs/tuon2x6s</a>"
            ]
          },
          "metadata": {}
        },
        {
          "output_type": "stream",
          "name": "stdout",
          "text": [
            "Early stopping training this bacth setting\n",
            "Batch setting: 5\n",
            "best accuracy for this setting is: 0.7649832775919732\n"
          ]
        },
        {
          "output_type": "display_data",
          "data": {
            "text/plain": [
              "<IPython.core.display.HTML object>"
            ],
            "text/html": [
              "Finishing last run (ID:tuon2x6s) before initializing another..."
            ]
          },
          "metadata": {}
        },
        {
          "output_type": "display_data",
          "data": {
            "text/plain": [
              "<IPython.core.display.HTML object>"
            ],
            "text/html": [
              "Waiting for W&B process to finish... <strong style=\"color:green\">(success).</strong>"
            ]
          },
          "metadata": {}
        },
        {
          "output_type": "display_data",
          "data": {
            "text/plain": [
              "VBox(children=(Label(value='0.001 MB of 0.001 MB uploaded (0.000 MB deduped)\\r'), FloatProgress(value=1.0, max…"
            ],
            "application/vnd.jupyter.widget-view+json": {
              "version_major": 2,
              "version_minor": 0,
              "model_id": "be986653c5d644749c5cae829730fc29"
            }
          },
          "metadata": {}
        },
        {
          "output_type": "display_data",
          "data": {
            "text/plain": [
              "<IPython.core.display.HTML object>"
            ],
            "text/html": [
              "<style>\n",
              "    table.wandb td:nth-child(1) { padding: 0 10px; text-align: left ; width: auto;} td:nth-child(2) {text-align: left ; width: 100%}\n",
              "    .wandb-row { display: flex; flex-direction: row; flex-wrap: wrap; justify-content: flex-start; width: 100% }\n",
              "    .wandb-col { display: flex; flex-direction: column; flex-basis: 100%; flex: 1; padding: 10px; }\n",
              "    </style>\n",
              "<div class=\"wandb-row\"><div class=\"wandb-col\"><h3>Run history:</h3><br/><table class=\"wandb\"><tr><td>train accuracy</td><td>▁▅▆▇▇▇██████</td></tr><tr><td>validation accuracy</td><td>▁▅▆▇▇███▇███</td></tr></table><br/></div><div class=\"wandb-col\"><h3>Run summary:</h3><br/><table class=\"wandb\"><tr><td>train accuracy</td><td>0.80107</td></tr><tr><td>validation accuracy</td><td>0.76344</td></tr></table><br/></div></div>"
            ]
          },
          "metadata": {}
        },
        {
          "output_type": "display_data",
          "data": {
            "text/plain": [
              "<IPython.core.display.HTML object>"
            ],
            "text/html": [
              " View run <strong style=\"color:#cdcd00\">AverageClassifier_5</strong> at: <a href='https://wandb.ai/tarajadidi/Deep%20NLP%2C%20Final/runs/tuon2x6s' target=\"_blank\">https://wandb.ai/tarajadidi/Deep%20NLP%2C%20Final/runs/tuon2x6s</a><br/>Synced 5 W&B file(s), 0 media file(s), 0 artifact file(s) and 0 other file(s)"
            ]
          },
          "metadata": {}
        },
        {
          "output_type": "display_data",
          "data": {
            "text/plain": [
              "<IPython.core.display.HTML object>"
            ],
            "text/html": [
              "Find logs at: <code>./wandb/run-20230601_162655-tuon2x6s/logs</code>"
            ]
          },
          "metadata": {}
        },
        {
          "output_type": "display_data",
          "data": {
            "text/plain": [
              "<IPython.core.display.HTML object>"
            ],
            "text/html": [
              "Successfully finished last run (ID:tuon2x6s). Initializing new run:<br/>"
            ]
          },
          "metadata": {}
        },
        {
          "output_type": "display_data",
          "data": {
            "text/plain": [
              "<IPython.core.display.HTML object>"
            ],
            "text/html": [
              "Tracking run with wandb version 0.15.3"
            ]
          },
          "metadata": {}
        },
        {
          "output_type": "display_data",
          "data": {
            "text/plain": [
              "<IPython.core.display.HTML object>"
            ],
            "text/html": [
              "Run data is saved locally in <code>/content/wandb/run-20230601_163127-d2vcltxq</code>"
            ]
          },
          "metadata": {}
        },
        {
          "output_type": "display_data",
          "data": {
            "text/plain": [
              "<IPython.core.display.HTML object>"
            ],
            "text/html": [
              "Syncing run <strong><a href='https://wandb.ai/tarajadidi/Deep%20NLP%2C%20Final/runs/d2vcltxq' target=\"_blank\">AverageClassifier_6</a></strong> to <a href='https://wandb.ai/tarajadidi/Deep%20NLP%2C%20Final' target=\"_blank\">Weights & Biases</a> (<a href='https://wandb.me/run' target=\"_blank\">docs</a>)<br/>"
            ]
          },
          "metadata": {}
        },
        {
          "output_type": "display_data",
          "data": {
            "text/plain": [
              "<IPython.core.display.HTML object>"
            ],
            "text/html": [
              " View project at <a href='https://wandb.ai/tarajadidi/Deep%20NLP%2C%20Final' target=\"_blank\">https://wandb.ai/tarajadidi/Deep%20NLP%2C%20Final</a>"
            ]
          },
          "metadata": {}
        },
        {
          "output_type": "display_data",
          "data": {
            "text/plain": [
              "<IPython.core.display.HTML object>"
            ],
            "text/html": [
              " View run at <a href='https://wandb.ai/tarajadidi/Deep%20NLP%2C%20Final/runs/d2vcltxq' target=\"_blank\">https://wandb.ai/tarajadidi/Deep%20NLP%2C%20Final/runs/d2vcltxq</a>"
            ]
          },
          "metadata": {}
        },
        {
          "output_type": "stream",
          "name": "stdout",
          "text": [
            "Early stopping training this bacth setting\n",
            "Batch setting: 6\n",
            "best accuracy for this setting is: 0.7661787365177196\n"
          ]
        },
        {
          "output_type": "display_data",
          "data": {
            "text/plain": [
              "<IPython.core.display.HTML object>"
            ],
            "text/html": [
              "Finishing last run (ID:d2vcltxq) before initializing another..."
            ]
          },
          "metadata": {}
        },
        {
          "output_type": "display_data",
          "data": {
            "text/plain": [
              "<IPython.core.display.HTML object>"
            ],
            "text/html": [
              "Waiting for W&B process to finish... <strong style=\"color:green\">(success).</strong>"
            ]
          },
          "metadata": {}
        },
        {
          "output_type": "display_data",
          "data": {
            "text/plain": [
              "VBox(children=(Label(value='0.001 MB of 0.001 MB uploaded (0.000 MB deduped)\\r'), FloatProgress(value=1.0, max…"
            ],
            "application/vnd.jupyter.widget-view+json": {
              "version_major": 2,
              "version_minor": 0,
              "model_id": "562ed5865a3f4e5097f880bf5ed2d611"
            }
          },
          "metadata": {}
        },
        {
          "output_type": "display_data",
          "data": {
            "text/plain": [
              "<IPython.core.display.HTML object>"
            ],
            "text/html": [
              "<style>\n",
              "    table.wandb td:nth-child(1) { padding: 0 10px; text-align: left ; width: auto;} td:nth-child(2) {text-align: left ; width: 100%}\n",
              "    .wandb-row { display: flex; flex-direction: row; flex-wrap: wrap; justify-content: flex-start; width: 100% }\n",
              "    .wandb-col { display: flex; flex-direction: column; flex-basis: 100%; flex: 1; padding: 10px; }\n",
              "    </style>\n",
              "<div class=\"wandb-row\"><div class=\"wandb-col\"><h3>Run history:</h3><br/><table class=\"wandb\"><tr><td>train accuracy</td><td>▁▆▆▇███</td></tr><tr><td>validation accuracy</td><td>▆█▆▃▂▁▂</td></tr></table><br/></div><div class=\"wandb-col\"><h3>Run summary:</h3><br/><table class=\"wandb\"><tr><td>train accuracy</td><td>0.79538</td></tr><tr><td>validation accuracy</td><td>0.7577</td></tr></table><br/></div></div>"
            ]
          },
          "metadata": {}
        },
        {
          "output_type": "display_data",
          "data": {
            "text/plain": [
              "<IPython.core.display.HTML object>"
            ],
            "text/html": [
              " View run <strong style=\"color:#cdcd00\">AverageClassifier_6</strong> at: <a href='https://wandb.ai/tarajadidi/Deep%20NLP%2C%20Final/runs/d2vcltxq' target=\"_blank\">https://wandb.ai/tarajadidi/Deep%20NLP%2C%20Final/runs/d2vcltxq</a><br/>Synced 5 W&B file(s), 0 media file(s), 0 artifact file(s) and 0 other file(s)"
            ]
          },
          "metadata": {}
        },
        {
          "output_type": "display_data",
          "data": {
            "text/plain": [
              "<IPython.core.display.HTML object>"
            ],
            "text/html": [
              "Find logs at: <code>./wandb/run-20230601_163127-d2vcltxq/logs</code>"
            ]
          },
          "metadata": {}
        },
        {
          "output_type": "display_data",
          "data": {
            "text/plain": [
              "<IPython.core.display.HTML object>"
            ],
            "text/html": [
              "Successfully finished last run (ID:d2vcltxq). Initializing new run:<br/>"
            ]
          },
          "metadata": {}
        },
        {
          "output_type": "display_data",
          "data": {
            "text/plain": [
              "<IPython.core.display.HTML object>"
            ],
            "text/html": [
              "Tracking run with wandb version 0.15.3"
            ]
          },
          "metadata": {}
        },
        {
          "output_type": "display_data",
          "data": {
            "text/plain": [
              "<IPython.core.display.HTML object>"
            ],
            "text/html": [
              "Run data is saved locally in <code>/content/wandb/run-20230601_163457-c64q60m4</code>"
            ]
          },
          "metadata": {}
        },
        {
          "output_type": "display_data",
          "data": {
            "text/plain": [
              "<IPython.core.display.HTML object>"
            ],
            "text/html": [
              "Syncing run <strong><a href='https://wandb.ai/tarajadidi/Deep%20NLP%2C%20Final/runs/c64q60m4' target=\"_blank\">AverageClassifier_7</a></strong> to <a href='https://wandb.ai/tarajadidi/Deep%20NLP%2C%20Final' target=\"_blank\">Weights & Biases</a> (<a href='https://wandb.me/run' target=\"_blank\">docs</a>)<br/>"
            ]
          },
          "metadata": {}
        },
        {
          "output_type": "display_data",
          "data": {
            "text/plain": [
              "<IPython.core.display.HTML object>"
            ],
            "text/html": [
              " View project at <a href='https://wandb.ai/tarajadidi/Deep%20NLP%2C%20Final' target=\"_blank\">https://wandb.ai/tarajadidi/Deep%20NLP%2C%20Final</a>"
            ]
          },
          "metadata": {}
        },
        {
          "output_type": "display_data",
          "data": {
            "text/plain": [
              "<IPython.core.display.HTML object>"
            ],
            "text/html": [
              " View run at <a href='https://wandb.ai/tarajadidi/Deep%20NLP%2C%20Final/runs/c64q60m4' target=\"_blank\">https://wandb.ai/tarajadidi/Deep%20NLP%2C%20Final/runs/c64q60m4</a>"
            ]
          },
          "metadata": {}
        },
        {
          "output_type": "stream",
          "name": "stdout",
          "text": [
            "Early stopping training this bacth setting\n",
            "Batch setting: 7\n",
            "best accuracy for this setting is: 0.7679487179487182\n"
          ]
        },
        {
          "output_type": "display_data",
          "data": {
            "text/plain": [
              "<IPython.core.display.HTML object>"
            ],
            "text/html": [
              "Finishing last run (ID:c64q60m4) before initializing another..."
            ]
          },
          "metadata": {}
        },
        {
          "output_type": "display_data",
          "data": {
            "text/plain": [
              "<IPython.core.display.HTML object>"
            ],
            "text/html": [
              "Waiting for W&B process to finish... <strong style=\"color:green\">(success).</strong>"
            ]
          },
          "metadata": {}
        },
        {
          "output_type": "display_data",
          "data": {
            "text/plain": [
              "<IPython.core.display.HTML object>"
            ],
            "text/html": [
              "<style>\n",
              "    table.wandb td:nth-child(1) { padding: 0 10px; text-align: left ; width: auto;} td:nth-child(2) {text-align: left ; width: 100%}\n",
              "    .wandb-row { display: flex; flex-direction: row; flex-wrap: wrap; justify-content: flex-start; width: 100% }\n",
              "    .wandb-col { display: flex; flex-direction: column; flex-basis: 100%; flex: 1; padding: 10px; }\n",
              "    </style>\n",
              "<div class=\"wandb-row\"><div class=\"wandb-col\"><h3>Run history:</h3><br/><table class=\"wandb\"><tr><td>train accuracy</td><td>▁▆▇▇▇████</td></tr><tr><td>validation accuracy</td><td>▁▆███▇▇▅▄</td></tr></table><br/></div><div class=\"wandb-col\"><h3>Run summary:</h3><br/><table class=\"wandb\"><tr><td>train accuracy</td><td>0.80132</td></tr><tr><td>validation accuracy</td><td>0.76026</td></tr></table><br/></div></div>"
            ]
          },
          "metadata": {}
        },
        {
          "output_type": "display_data",
          "data": {
            "text/plain": [
              "<IPython.core.display.HTML object>"
            ],
            "text/html": [
              " View run <strong style=\"color:#cdcd00\">AverageClassifier_7</strong> at: <a href='https://wandb.ai/tarajadidi/Deep%20NLP%2C%20Final/runs/c64q60m4' target=\"_blank\">https://wandb.ai/tarajadidi/Deep%20NLP%2C%20Final/runs/c64q60m4</a><br/>Synced 5 W&B file(s), 0 media file(s), 0 artifact file(s) and 0 other file(s)"
            ]
          },
          "metadata": {}
        },
        {
          "output_type": "display_data",
          "data": {
            "text/plain": [
              "<IPython.core.display.HTML object>"
            ],
            "text/html": [
              "Find logs at: <code>./wandb/run-20230601_163457-c64q60m4/logs</code>"
            ]
          },
          "metadata": {}
        },
        {
          "output_type": "display_data",
          "data": {
            "text/plain": [
              "<IPython.core.display.HTML object>"
            ],
            "text/html": [
              "Successfully finished last run (ID:c64q60m4). Initializing new run:<br/>"
            ]
          },
          "metadata": {}
        },
        {
          "output_type": "display_data",
          "data": {
            "text/plain": [
              "<IPython.core.display.HTML object>"
            ],
            "text/html": [
              "Tracking run with wandb version 0.15.3"
            ]
          },
          "metadata": {}
        },
        {
          "output_type": "display_data",
          "data": {
            "text/plain": [
              "<IPython.core.display.HTML object>"
            ],
            "text/html": [
              "Run data is saved locally in <code>/content/wandb/run-20230601_163852-wwtka2ew</code>"
            ]
          },
          "metadata": {}
        },
        {
          "output_type": "display_data",
          "data": {
            "text/plain": [
              "<IPython.core.display.HTML object>"
            ],
            "text/html": [
              "Syncing run <strong><a href='https://wandb.ai/tarajadidi/Deep%20NLP%2C%20Final/runs/wwtka2ew' target=\"_blank\">AverageClassifier_8</a></strong> to <a href='https://wandb.ai/tarajadidi/Deep%20NLP%2C%20Final' target=\"_blank\">Weights & Biases</a> (<a href='https://wandb.me/run' target=\"_blank\">docs</a>)<br/>"
            ]
          },
          "metadata": {}
        },
        {
          "output_type": "display_data",
          "data": {
            "text/plain": [
              "<IPython.core.display.HTML object>"
            ],
            "text/html": [
              " View project at <a href='https://wandb.ai/tarajadidi/Deep%20NLP%2C%20Final' target=\"_blank\">https://wandb.ai/tarajadidi/Deep%20NLP%2C%20Final</a>"
            ]
          },
          "metadata": {}
        },
        {
          "output_type": "display_data",
          "data": {
            "text/plain": [
              "<IPython.core.display.HTML object>"
            ],
            "text/html": [
              " View run at <a href='https://wandb.ai/tarajadidi/Deep%20NLP%2C%20Final/runs/wwtka2ew' target=\"_blank\">https://wandb.ai/tarajadidi/Deep%20NLP%2C%20Final/runs/wwtka2ew</a>"
            ]
          },
          "metadata": {}
        },
        {
          "output_type": "stream",
          "name": "stdout",
          "text": [
            "Early stopping training this bacth setting\n",
            "Batch setting: 8\n",
            "best accuracy for this setting is: 0.7642140468227422\n"
          ]
        }
      ],
      "source": [
        "#training of classification average model\n",
        "from torch.optim import Adam\n",
        "import torch.nn as nn\n",
        "\n",
        "n_epochs = 20\n",
        "lr = 1e-2\n",
        "early_stopping = 5\n",
        "\n",
        "best_model_idx = 0\n",
        "best_acc_overall = 0\n",
        "batch_type = -1\n",
        "train_losses = {}\n",
        "validation_losses = {}\n",
        "\n",
        "for batches in all_batches:\n",
        "    batch_type += 1\n",
        "    wandb.init(\n",
        "      # Set the project where this run will be logged\n",
        "      project=\"Deep NLP, Final\", \n",
        "      # We pass a run name (otherwise it’ll be randomly assigned, like sunshine-lollypop-10)\n",
        "      name=f\"AverageClassifier_{batch_type}\", \n",
        "      # Track hyperparameters and run metadata\n",
        "      config={\n",
        "      \"learning_rate\": lr,\n",
        "      \"architecture\": \"AverageClassifier\",\n",
        "      \"epochs\": 20,\n",
        "      })\n",
        "    train_losses[batch_type] = []\n",
        "    validation_losses[batch_type] = []\n",
        "    loss_fn = nn.CrossEntropyLoss()\n",
        "    model_avg = ClassificationAverageModel(torch_embedding)\n",
        "    optimizer = Adam(model_avg.parameters(), lr=lr)\n",
        "\n",
        "    best_val_acc = 0\n",
        "    model_save_path = './best_class_avg'\n",
        "\n",
        "    no_change = 0\n",
        "    for epoch in range(n_epochs):\n",
        "        model_avg.train()\n",
        "\n",
        "        #train\n",
        "        train_accs = []\n",
        "        for idx,batch in enumerate(batches['train']):\n",
        "            output = model_avg(torch.Tensor(batch))\n",
        "            true_labels = torch.Tensor(batches['train_labels'][idx]).type(torch.int64)\n",
        "            loss = loss_fn(output,true_labels)\n",
        "            acc = (output.argmax(dim=1) == true_labels).sum().item()\n",
        "            loss.backward()\n",
        "            optimizer.step()\n",
        "            optimizer.zero_grad()\n",
        "            train_accs.append(acc/len(true_labels))\n",
        "        avg_acc = sum(train_accs)/len(train_accs)\n",
        "        train_losses[batch_type].append(avg_acc)\n",
        "        wandb.log({'train accuracy' : avg_acc})\n",
        "\n",
        "        #validation\n",
        "        model_avg.eval()\n",
        "        val_accs = []\n",
        "        for idx,batch in enumerate(batches['validation']):\n",
        "            output = model_avg(torch.Tensor(batch))\n",
        "            true_labels = torch.Tensor(batches['validation_labels'][idx]).type(torch.int64)\n",
        "            loss = loss_fn(output,true_labels)\n",
        "            acc = (output.argmax(dim=1) == true_labels).sum().item()\n",
        "            val_accs.append(acc/len(true_labels))\n",
        "        avg_acc = sum(val_accs)/len(val_accs)\n",
        "        validation_losses[batch_type].append(avg_acc)\n",
        "        wandb.log({'validation accuracy' : avg_acc})\n",
        "\n",
        "        if avg_acc > best_val_acc:\n",
        "            no_change = 0\n",
        "            best_val_acc = avg_acc\n",
        "            torch.save(model_avg.state_dict(), model_save_path + '_{}_.pt'.format(batch_type))\n",
        "\n",
        "            if avg_acc > best_acc_overall:\n",
        "                best_acc_overall = avg_acc\n",
        "                torch.save(model_avg.state_dict(), model_save_path + '.pt')\n",
        "        else:\n",
        "            no_change += 1\n",
        "            if no_change == early_stopping:\n",
        "                print(\"Early stopping training this bacth setting\")\n",
        "                break\n",
        "\n",
        "    print('Batch setting:', batch_type)\n",
        "    print('best accuracy for this setting is:', best_val_acc)\n",
        "\n",
        "\n",
        "    if best_val_acc > best_acc_overall:\n",
        "        best_acc_overall = best_val_acc\n",
        "        best_model_idx = batch_type\n"
      ]
    },
    {
      "cell_type": "code",
      "execution_count": 35,
      "metadata": {
        "id": "KdSBoxJbmXVn",
        "outputId": "c2ac67ac-4bc7-4800-ccbf-e63cf3457f62",
        "colab": {
          "base_uri": "https://localhost:8080/",
          "height": 1000
        }
      },
      "outputs": [
        {
          "output_type": "display_data",
          "data": {
            "text/plain": [
              "<Figure size 640x480 with 1 Axes>"
            ],
            "image/png": "[encoded data removed]"
          },
          "metadata": {}
        },
        {
          "output_type": "display_data",
          "data": {
            "text/plain": [
              "<Figure size 640x480 with 1 Axes>"
            ],
            "image/png": "[encoded data removed]"
          },
          "metadata": {}
        },
        {
          "output_type": "display_data",
          "data": {
            "text/plain": [
              "<Figure size 640x480 with 1 Axes>"
            ],
            "image/png": "[encoded data removed]"
          },
          "metadata": {}
        },
        {
          "output_type": "display_data",
          "data": {
            "text/plain": [
              "<Figure size 640x480 with 1 Axes>"
            ],
            "image/png": "[encoded data removed]"
          },
          "metadata": {}
        },
        {
          "output_type": "display_data",
          "data": {
            "text/plain": [
              "<Figure size 640x480 with 1 Axes>"
            ],
            "image/png": "[encoded data removed]"
          },
          "metadata": {}
        },
        {
          "output_type": "display_data",
          "data": {
            "text/plain": [
              "<Figure size 640x480 with 1 Axes>"
            ],
            "image/png": "[encoded data removed]"
          },
          "metadata": {}
        },
        {
          "output_type": "display_data",
          "data": {
            "text/plain": [
              "<Figure size 640x480 with 1 Axes>"
            ],
            "image/png": "[encoded data removed]"
          },
          "metadata": {}
        },
        {
          "output_type": "display_data",
          "data": {
            "text/plain": [
              "<Figure size 640x480 with 1 Axes>"
            ],
            "image/png": "[encoded data removed]"
          },
          "metadata": {}
        },
        {
          "output_type": "display_data",
          "data": {
            "text/plain": [
              "<Figure size 640x480 with 1 Axes>"
            ],
            "image/png": "[encoded data removed]"
          },
          "metadata": {}
        }
      ],
      "source": [
        "#plot for validation and training accuracy for different batch sizes configuration\n",
        "max_doc_length = [50 , 100, 200]\n",
        "batch_size = [2 , 10, 50]\n",
        "titles = ['doclength:50, batch size:2','doclength:50, batch size:10','doclength:50, batch size:50','doclength:100, batch size:2','doclength:100, batch size:10','doclength:100, batch size:50','doclength:200, batch size:2','doclength:200, batch size:10','doclength:200, batch size:50']\n",
        "\n",
        "for plot_num,bt in enumerate(train_losses):\n",
        "    fig, axs = plt.subplots()\n",
        "    tl = train_losses[bt]\n",
        "    vl = validation_losses[bt]\n",
        "    axs.plot(tl)\n",
        "    axs.plot(vl)\n",
        "    axs.set_title(titles[plot_num])\n",
        "\n",
        "plt.show()"
      ]
    },
    {
      "cell_type": "code",
      "execution_count": 36,
      "metadata": {
        "id": "BZSt5vyymXVn",
        "outputId": "9ad14b3c-d630-4584-cf17-1deca81ac875",
        "colab": {
          "base_uri": "https://localhost:8080/",
          "height": 432
        }
      },
      "outputs": [
        {
          "output_type": "display_data",
          "data": {
            "text/plain": [
              "<Figure size 640x480 with 1 Axes>"
            ],
            "image/png": "[encoded data removed]"
          },
          "metadata": {}
        }
      ],
      "source": [
        "vl = list(validation_losses.values())\n",
        "for plot_num,bt in enumerate(vl):\n",
        "    curr = plt.plot(vl[plot_num], label = titles[plot_num])\n",
        "plt.legend()\n",
        "plt.show()"
      ]
    },
    {
      "cell_type": "markdown",
      "metadata": {
        "id": "cEyXv7PJOI87"
      },
      "source": [
        "From the chart and training log, we can conclude that the best perfroming model is of batch configuration 7: document length: 200, batch size: 10"
      ]
    },
    {
      "cell_type": "code",
      "execution_count": 37,
      "metadata": {
        "id": "j-qyZFg-mXVo",
        "outputId": "bf3c2481-6f29-4a8f-de86-dc70cbabfec8",
        "colab": {
          "base_uri": "https://localhost:8080/"
        }
      },
      "outputs": [
        {
          "output_type": "stream",
          "name": "stdout",
          "text": [
            "0.7775213675213675\n"
          ]
        }
      ],
      "source": [
        "#Average accuray in the test dataset for thr best performing model\n",
        "final_model = ClassificationAverageModel(torch_embedding)\n",
        "final_model.load_state_dict(torch.load(model_save_path +  '.pt'))\n",
        "model_avg.eval()\n",
        "test_accs = []\n",
        "\n",
        "for idx,batch in enumerate(batches['test']):\n",
        "    output = model_avg(torch.Tensor(batch))\n",
        "    true_labels = torch.Tensor(batches['test_labels'][idx]).type(torch.int64)\n",
        "    loss = loss_fn(output,true_labels)\n",
        "    acc = (output.argmax(dim=1) == true_labels).sum().item()\n",
        "    test_accs.append(acc/len(true_labels))\n",
        "\n",
        "avg_acc = sum(test_accs)/len(test_accs)\n",
        "print(avg_acc)"
      ]
    },
    {
      "cell_type": "markdown",
      "metadata": {
        "id": "aUWDfjByOI8-"
      },
      "source": [
        "Validation and test accuracy results for best performing model\n",
        "\n",
        "| Metric | Value |\n",
        "| --- | --- |\n",
        "| Validation accuracy | 0.774 |\n",
        "|  Test accuracy  | 0.771 |\n"
      ]
    },
    {
      "cell_type": "markdown",
      "metadata": {
        "id": "DEbt-fN9mXVo"
      },
      "source": [
        "<a name=\"section-classification-rnn\"></a><h2 style=\"color:rgb(0,120,170)\">Task B: Classification with LSTM (15 points)</h2>"
      ]
    },
    {
      "cell_type": "markdown",
      "metadata": {
        "id": "Qxn2E247mXVo"
      },
      "source": [
        "<div style=\"background-color:rgb(224, 243, 255)\">\n",
        "\n",
        "This task implements a document classification model with PyTorch using Long Short-Term Memory (LSTM). This model should be called **`ClassificationRNNModel`** in your code, which contains all various variants as explained later. The schematic architecture of `ClassificationRNNModel` is shown in the figure below. `ClassificationRNNModel` extends `ClassificationAverageModel` by an LSTM layer. \n",
        "\n",
        "<img src=\"attachment:rnn_model.png\" alt=\"Drawing\" style=\"width: 220px;\"/>\n",
        "\n",
        "The implementation of `ClassificationRNNModel` covers the following points:\n",
        "\n",
        "**Baseline model (5 points):** The baseline LSTM model first fetches the corresponding embeddings of the word IDs of a given batch. It then calculates hidden states of the given sequences (documents) with the LSTM model. Finally, the **last hidden state** of LSTM is used as document embedding to predict the probability distribution of the output classes by the decoder (a linear projection) and a softmax layer. A dropout layer is applied to the output of the LSTM.\n",
        "\n",
        "**Model variations (3 points):** Implement the **three variations** of the baseline LSTM model as explained below. Each variation applies only one change to the baseline architecture, making it possible to study the effect of the change. The code of all variations should be inside `ClassificationRNNModel`, and executing a variation should be done by simply passing the corresponding parameters of the variation to the model. \n",
        "\n",
        "- **Variation 1 - Word Embeddings & RNN (1 point).** Select (at least) one of these proposed cases:\n",
        "  - Freeze the weights of encoder word embeddings (no updates)\n",
        "  - Initialize the encoder word embeddings randomly instead of using pretrained embeddings. \n",
        "  - Increase/decrease the dimension of the hidden state of the RNN.\n",
        "  - Use GRU instead of LSTM.\n",
        "\n",
        "- **Variation 2 - Regularization & Optimization (1 point).** Select (at least) one of these proposed cases:\n",
        "  - Increase/decrease drop out rates and tune the model accordingly.\n",
        "  - Add L2 weight regularization to the loss function.\n",
        "  - Use SGD instead of Adam.\n",
        "\n",
        "- **Variation 3 - Document Embedding (1 point).** Select (at least) one of these proposed cases:\n",
        "  - Use a Bidirectional LSTM, and set the document embedding as the concatenation of the last state of forward LSTM with the last state of backward LSTM.\n",
        "  - Calculate the mean of all the intermediary hidden states as the final document embedding.\n",
        "\n",
        "**Reporting and discussion (2 points)** Report the evaluation results of the baseline model, as well as the ones for all the variations in a table and also in a plot. Discuss which variation(s) appear to be the most effective. Explain your take.\n",
        "\n",
        "</div>"
      ]
    },
    {
      "cell_type": "markdown",
      "source": [
        "First, there are slight differences on how we process the dara here. Sentences have BOS and EOS added, and EOS is used for padding."
      ],
      "metadata": {
        "id": "b_D_8AaOpEy2"
      }
    },
    {
      "cell_type": "code",
      "execution_count": 13,
      "metadata": {
        "id": "dU-uvFQxmXVp",
        "colab": {
          "base_uri": "https://localhost:8080/"
        },
        "outputId": "564cdb85-6384-42a9-d898-6d17ae9f97f5"
      },
      "outputs": [
        {
          "output_type": "stream",
          "name": "stderr",
          "text": [
            "<ipython-input-13-b589309a1717>:1: SettingWithCopyWarning: \n",
            "A value is trying to be set on a copy of a slice from a DataFrame\n",
            "\n",
            "See the caveats in the documentation: https://pandas.pydata.org/pandas-docs/stable/user_guide/indexing.html#returning-a-view-versus-a-copy\n",
            "  data['train']['final'][:] = 'BOS ' + data['train']['final'][:]\n",
            "<ipython-input-13-b589309a1717>:2: SettingWithCopyWarning: \n",
            "A value is trying to be set on a copy of a slice from a DataFrame\n",
            "\n",
            "See the caveats in the documentation: https://pandas.pydata.org/pandas-docs/stable/user_guide/indexing.html#returning-a-view-versus-a-copy\n",
            "  data['test']['final'][:] = 'BOS ' + data['test']['final'][:]\n",
            "<ipython-input-13-b589309a1717>:3: SettingWithCopyWarning: \n",
            "A value is trying to be set on a copy of a slice from a DataFrame\n",
            "\n",
            "See the caveats in the documentation: https://pandas.pydata.org/pandas-docs/stable/user_guide/indexing.html#returning-a-view-versus-a-copy\n",
            "  data['validation']['final'][:] = 'BOS ' + data['validation']['final'][:]\n",
            "<ipython-input-13-b589309a1717>:4: SettingWithCopyWarning: \n",
            "A value is trying to be set on a copy of a slice from a DataFrame\n",
            "\n",
            "See the caveats in the documentation: https://pandas.pydata.org/pandas-docs/stable/user_guide/indexing.html#returning-a-view-versus-a-copy\n",
            "  data['test']['final'][:] += ' EOS'\n",
            "<ipython-input-13-b589309a1717>:5: SettingWithCopyWarning: \n",
            "A value is trying to be set on a copy of a slice from a DataFrame\n",
            "\n",
            "See the caveats in the documentation: https://pandas.pydata.org/pandas-docs/stable/user_guide/indexing.html#returning-a-view-versus-a-copy\n",
            "  data['validation']['final'][:] += ' EOS'\n",
            "<ipython-input-13-b589309a1717>:6: SettingWithCopyWarning: \n",
            "A value is trying to be set on a copy of a slice from a DataFrame\n",
            "\n",
            "See the caveats in the documentation: https://pandas.pydata.org/pandas-docs/stable/user_guide/indexing.html#returning-a-view-versus-a-copy\n",
            "  data['train']['final'][:] += ' EOS'\n"
          ]
        }
      ],
      "source": [
        "data['train']['final'][:] = 'BOS ' + data['train']['final'][:]\n",
        "data['test']['final'][:] = 'BOS ' + data['test']['final'][:]\n",
        "data['validation']['final'][:] = 'BOS ' + data['validation']['final'][:]\n",
        "data['test']['final'][:] += ' EOS'\n",
        "data['validation']['final'][:] += ' EOS'\n",
        "data['train']['final'][:] += ' EOS'\n",
        "dictionary = Dictionary(data['train']['final'].apply(lambda x: tokenize(x)))\n"
      ]
    },
    {
      "cell_type": "code",
      "execution_count": 14,
      "metadata": {
        "id": "u_CDJpQHmXVp"
      },
      "outputs": [],
      "source": [
        "from copy import deepcopy\n",
        "reduced_dictionary = deepcopy(dictionary)\n",
        "\n",
        "len_before = len(reduced_dictionary)\n",
        "\n",
        "reduced_dictionary.filter_extremes(no_below=3,no_above=2)\n",
        "reduced_dictionary.compactify()\n"
      ]
    },
    {
      "cell_type": "code",
      "source": [
        "data['train']['oov_removed'] = data['train']['final'].apply(lambda x: ([word for word in x.split() if word in set(reduced_dictionary.token2id.keys())]))\n",
        "data['test']['oov_removed'] = data['test']['final'].apply(lambda x: ([word for word in x.split() if word in set(reduced_dictionary.token2id.keys())]))\n",
        "data['validation']['oov_removed'] = data['validation']['final'].apply(lambda x: ([word for word in x.split() if word in set(reduced_dictionary.token2id.keys())]))"
      ],
      "metadata": {
        "id": "LCKn8NWxqYsU"
      },
      "execution_count": 15,
      "outputs": []
    },
    {
      "cell_type": "code",
      "source": [
        "#final preprocssed dataset\n",
        "processed_data = dict()\n",
        "processed_data['train'] = data['train']['oov_removed']\n",
        "processed_data['test'] = data['test']['oov_removed']\n",
        "processed_data['validation'] = data['validation']['oov_removed']\n",
        "\n",
        "\n",
        "processed_data['train_labels'] = data['train']['label']\n",
        "processed_data['test_labels'] = data['test']['label']\n",
        "processed_data['validation_labels'] = data['validation']['label']"
      ],
      "metadata": {
        "id": "Y8H53XL5qgSa"
      },
      "execution_count": 16,
      "outputs": []
    },
    {
      "cell_type": "code",
      "source": [
        "#function to create batches from a given dataset\n",
        "def make_batches(data, dictionary, max_doc_length, batch_size):\n",
        "    batches = {}\n",
        "\n",
        "    sets = ['train', 'test', 'validation']\n",
        "\n",
        "    inverse_dictionary = {v: k for k, v in dictionary.items()}\n",
        "\n",
        "    for s in sets:\n",
        "        s_labels = s + '_labels'\n",
        "        batches[s] = []\n",
        "        batches[s_labels] = []\n",
        "\n",
        "        for idx in range(0,len(data[s]), batch_size):\n",
        "            cur_batch = []\n",
        "            labels = []\n",
        "\n",
        "            for idx2,doc in enumerate(data[s][idx:idx+batch_size]):\n",
        "                if len(doc) < max_doc_length:\n",
        "                    doc += ['EOS'] * (max_doc_length - len(doc))\n",
        "                sent = []\n",
        "                for word in range(0,max_doc_length):\n",
        "                    sent.append(inverse_dictionary[doc[word]])\n",
        "                cur_batch.append(sent)\n",
        "                labels.append(data[s_labels][idx + idx2])\n",
        "            batches[s].append(cur_batch)\n",
        "            batches[s_labels].append(labels)\n",
        "\n",
        "    return batches\n",
        "\n",
        "#creating batches\n",
        "max_doc_length = [50 , 100, 200]\n",
        "batch_size = [2 , 10, 50]\n",
        "all_batches = []\n",
        "\n",
        "for m_length in max_doc_length:\n",
        "    for b_size in batch_size:\n",
        "        all_batches.append(make_batches(processed_data, reduced_dictionary, m_length, b_size))"
      ],
      "metadata": {
        "id": "y_lEPfJiqjG-"
      },
      "execution_count": 18,
      "outputs": []
    },
    {
      "cell_type": "code",
      "source": [
        "#creating embeddings\n",
        "emb_size = len(model['apple'])\n",
        "embeddings = []\n",
        "not_in_model = []\n",
        "for idx in range(len(dictionary)):\n",
        "    try:\n",
        "        embeddings.append(model[dictionary[idx]])\n",
        "    except:\n",
        "        embeddings.append(np.random.uniform(low=-1.0, high=1.0, size=emb_size))\n",
        "        not_in_model.append(dictionary[idx])\n",
        "#making an embedding look-up\n",
        "weights = torch.FloatTensor(embeddings)\n",
        "torch_embedding = torch.nn.Embedding.from_pretrained(weights)"
      ],
      "metadata": {
        "colab": {
          "base_uri": "https://localhost:8080/"
        },
        "id": "YPOwYPKnqmcy",
        "outputId": "6ef80a2b-eff1-495c-883e-90898b58a3d7"
      },
      "execution_count": 19,
      "outputs": [
        {
          "output_type": "stream",
          "name": "stderr",
          "text": [
            "<ipython-input-19-46825ecde059>:12: UserWarning: Creating a tensor from a list of numpy.ndarrays is extremely slow. Please consider converting the list to a single numpy.ndarray with numpy.array() before converting to a tensor. (Triggered internally at ../torch/csrc/utils/tensor_new.cpp:245.)\n",
            "  weights = torch.FloatTensor(embeddings)\n"
          ]
        }
      ]
    },
    {
      "cell_type": "markdown",
      "source": [
        "Now, on to implementing the LSTM model!"
      ],
      "metadata": {
        "id": "IYTg5R9bqqBY"
      }
    },
    {
      "cell_type": "code",
      "execution_count": 20,
      "metadata": {
        "id": "s0Lca2V8kQMA"
      },
      "outputs": [],
      "source": [
        "#use cuda if feasible \n",
        "device = torch.device('cuda' if torch.cuda.is_available() else 'cpu')\n",
        "device\n",
        "\n",
        "rnn_acc = {}"
      ]
    },
    {
      "cell_type": "code",
      "execution_count": 21,
      "metadata": {
        "id": "ZHvYO0UGpvD7"
      },
      "outputs": [],
      "source": [
        "#classification RNN model class\n",
        "import torch.nn.utils.rnn as rnn_utils\n",
        "\n",
        "class ClassificationRNNModel(torch.nn.Module):\n",
        "    def __init__(self, embeddings, h_dim=100, rnn_layers=1, dropout=0.1, output_dim=12, mean=False, device='cuda',bidirectional=False):\n",
        "\n",
        "        super(ClassificationRNNModel, self).__init__()\n",
        "\n",
        "\n",
        "        input = torch.LongTensor([0]).to(device)\n",
        "        self.emb = embeddings.to(device)\n",
        "        self.dim = len(self.emb(input)[0])\n",
        "        self.h_dim = h_dim\n",
        "        self.rnn_layers = rnn_layers\n",
        "\n",
        "        self.rnn = torch.nn.LSTM(self.dim, self.h_dim, num_layers=rnn_layers,bidirectional=bidirectional)\n",
        "\n",
        "        #setting the input of the fully connected layer based on the output of the LSTM\n",
        "        if(bidirectional):\n",
        "            self.lin_a = torch.nn.Linear(self.h_dim*2, output_dim)\n",
        "        else:\n",
        "            self.lin_a = torch.nn.Linear(self.h_dim, output_dim)\n",
        "\n",
        "        #If True, we use the mean of the hidden layers, else the last one.\n",
        "        self.mean = mean\n",
        "\n",
        "        self.dropout = torch.nn.Dropout(dropout)\n",
        "\n",
        "\n",
        "    def forward(self, inp_batch):\n",
        "        #in the embedding, 1 (EOS) is used as padding.\n",
        "        mask = (inp_batch != 1).int().to(device)\n",
        "\n",
        "        #finfing the true length of each padded sentence\n",
        "        sent_lengths = [torch.sum(sentence) for sentence in mask]\n",
        "\n",
        "        embed = self.emb(inp_batch.type(torch.LongTensor).to(device))\n",
        "        \n",
        "        packed_input = rnn_utils.pack_padded_sequence(embed, sent_lengths, batch_first=True, enforce_sorted=False)\n",
        "        \n",
        "        h0 = torch.randn(self.rnn_layers, len(inp_batch), self.h_dim).to(device)\n",
        "        c0 = torch.randn(self.rnn_layers, len(inp_batch), self.h_dim).to(device)\n",
        "        packed_output, _ = self.rnn(packed_input, (h0, c0))\n",
        "        \n",
        "        output, _ = rnn_utils.pad_packed_sequence(packed_output, batch_first=True)\n",
        "\n",
        "        if self.mean:\n",
        "            output = output.sum(dim=1) / mask.unsqueeze(-1).sum(dim=1)\n",
        "        else:\n",
        "            last_hidden_indices = torch.tensor(sent_lengths) - 1\n",
        "            output = output[torch.arange(output.size(0)), last_hidden_indices]\n",
        "        \n",
        "        #applying drop out to the representations before passing them to the classifier\n",
        "        output = self.dropout(output)\n",
        "\n",
        "        #we're using crossEntropy, so no softmax\n",
        "        sent_class = self.lin_a(output)\n",
        "        \n",
        "        return sent_class\n"
      ]
    },
    {
      "cell_type": "code",
      "source": [
        "#function to train model \n",
        "def train_model(n_epochs, attn_model,batches,optimizer,params=''):\n",
        "  wandb.init(\n",
        "      # Set the project where this run will be logged\n",
        "      project=\"Deep NLP, Final\", \n",
        "      # We pass a run name (otherwise it’ll be randomly assigned, like sunshine-lollypop-10)\n",
        "      name= f'{params}', \n",
        "      # Track hyperparameters and run metadata\n",
        "      config={\n",
        "      \"model\": 'LSTMClassifier',\n",
        "      \"n_epochs\": n_epochs,\n",
        "      })\n",
        "  e_val_acc = []\n",
        "  e_train_acc = []\n",
        "  for epoch in range(n_epochs):\n",
        "\n",
        "      attn_model.train()\n",
        "      train_accs = []\n",
        "      for idx, batch in enumerate(batches['train']):\n",
        "          batch = torch.FloatTensor(batch)\n",
        "          # instead of -1 use 30370 index for padding\n",
        "          batch[batch == -1] = 30370\n",
        "          batch = torch.Tensor(batch).to(device)\n",
        "          output = attn_model(batch)\n",
        "          true_labels = torch.Tensor(batches['train_labels'][idx]).type(torch.int64)\n",
        "          true_labels = true_labels.to(device)\n",
        "          loss = loss_fn(output,true_labels)\n",
        "          acc = (output.argmax(dim=1) == true_labels).sum().item()\n",
        "          train_accs.append(acc/len(true_labels))\n",
        "          loss.backward()\n",
        "          optimizer.step()\n",
        "          optimizer.zero_grad()\n",
        "      \n",
        "      attn_model.eval()\n",
        "      val_accs = []\n",
        "      val_loss = []\n",
        "        \n",
        "      for idx,batch in enumerate(batches['validation']):\n",
        "          batch = torch.FloatTensor(batch)\n",
        "          batch[batch == -1] = 30370\n",
        "          batch = torch.Tensor(batch).to(device)\n",
        "          output = attn_model(batch)\n",
        "          true_labels = torch.Tensor(batches['validation_labels'][idx]).type(torch.int64)\n",
        "          true_labels = true_labels.to(device)\n",
        "          loss = loss_fn(output,true_labels)\n",
        "          acc = (output.argmax(dim=1) == true_labels).sum().item()\n",
        "          val_accs.append(acc/len(true_labels))\n",
        "          val_loss.append(loss)\n",
        "\n",
        "      val_avg_acc = sum(val_accs)/len(val_accs)\n",
        "      train_avg_acc =  sum(train_accs)/len(train_accs)\n",
        "      wandb.log({'LSTM validation accuracy' : val_avg_acc})\n",
        "      wandb.log({'LSTM train accuracy' : train_avg_acc})\n",
        "      print(\"Epoch-------\", epoch)\n",
        "      print(\"Average val accuray\", val_avg_acc)\n",
        "      print(\"Average train accuray\", train_avg_acc)\n",
        "      print(\"Average loss\", torch.mean(torch.Tensor(val_loss)))\n",
        "      e_val_acc.append(val_avg_acc)\n",
        "      e_train_acc.append(train_avg_acc)\n",
        "  return (e_val_acc, e_train_acc)"
      ],
      "metadata": {
        "id": "4wsoXv1Nu_ln"
      },
      "execution_count": 24,
      "outputs": []
    },
    {
      "cell_type": "markdown",
      "metadata": {
        "id": "agR1-cPFj7kx"
      },
      "source": [
        "Let's start by training the baseline model. In the following cells, we train each model for 20 epochs and compaer thier performance."
      ]
    },
    {
      "cell_type": "code",
      "execution_count": 25,
      "metadata": {
        "colab": {
          "base_uri": "https://localhost:8080/",
          "height": 1000
        },
        "id": "YuEyQpJ4kakJ",
        "outputId": "b5de729b-ff6a-423f-9c8c-5f295056b282"
      },
      "outputs": [
        {
          "output_type": "display_data",
          "data": {
            "text/plain": [
              "<IPython.core.display.HTML object>"
            ],
            "text/html": [
              "Finishing last run (ID:4ijfx5xv) before initializing another..."
            ]
          },
          "metadata": {}
        },
        {
          "output_type": "display_data",
          "data": {
            "text/plain": [
              "<IPython.core.display.HTML object>"
            ],
            "text/html": [
              "Waiting for W&B process to finish... <strong style=\"color:green\">(success).</strong>"
            ]
          },
          "metadata": {}
        },
        {
          "output_type": "display_data",
          "data": {
            "text/plain": [
              "<IPython.core.display.HTML object>"
            ],
            "text/html": [
              "<style>\n",
              "    table.wandb td:nth-child(1) { padding: 0 10px; text-align: left ; width: auto;} td:nth-child(2) {text-align: left ; width: 100%}\n",
              "    .wandb-row { display: flex; flex-direction: row; flex-wrap: wrap; justify-content: flex-start; width: 100% }\n",
              "    .wandb-col { display: flex; flex-direction: column; flex-basis: 100%; flex: 1; padding: 10px; }\n",
              "    </style>\n",
              "<div class=\"wandb-row\"><div class=\"wandb-col\"><h3>Run history:</h3><br/><table class=\"wandb\"><tr><td>LSTM train accuracy</td><td>▁▄▅▆▆▇▇▇███</td></tr><tr><td>LSTM validation accuracy</td><td>▁▅▆▆▇▇█████</td></tr></table><br/></div><div class=\"wandb-col\"><h3>Run summary:</h3><br/><table class=\"wandb\"><tr><td>LSTM train accuracy</td><td>0.78469</td></tr><tr><td>LSTM validation accuracy</td><td>0.69132</td></tr></table><br/></div></div>"
            ]
          },
          "metadata": {}
        },
        {
          "output_type": "display_data",
          "data": {
            "text/plain": [
              "<IPython.core.display.HTML object>"
            ],
            "text/html": [
              " View run <strong style=\"color:#cdcd00\">LSTMClassifier</strong> at: <a href='https://wandb.ai/tarajadidi/Deep%20NLP%2C%20Final/runs/4ijfx5xv' target=\"_blank\">https://wandb.ai/tarajadidi/Deep%20NLP%2C%20Final/runs/4ijfx5xv</a><br/>Synced 5 W&B file(s), 0 media file(s), 0 artifact file(s) and 0 other file(s)"
            ]
          },
          "metadata": {}
        },
        {
          "output_type": "display_data",
          "data": {
            "text/plain": [
              "<IPython.core.display.HTML object>"
            ],
            "text/html": [
              "Find logs at: <code>./wandb/run-20230601_172521-4ijfx5xv/logs</code>"
            ]
          },
          "metadata": {}
        },
        {
          "output_type": "display_data",
          "data": {
            "text/plain": [
              "<IPython.core.display.HTML object>"
            ],
            "text/html": [
              "Successfully finished last run (ID:4ijfx5xv). Initializing new run:<br/>"
            ]
          },
          "metadata": {}
        },
        {
          "output_type": "display_data",
          "data": {
            "text/plain": [
              "<IPython.core.display.HTML object>"
            ],
            "text/html": [
              "Tracking run with wandb version 0.15.3"
            ]
          },
          "metadata": {}
        },
        {
          "output_type": "display_data",
          "data": {
            "text/plain": [
              "<IPython.core.display.HTML object>"
            ],
            "text/html": [
              "Run data is saved locally in <code>/content/wandb/run-20230601_172614-urpz4vtu</code>"
            ]
          },
          "metadata": {}
        },
        {
          "output_type": "display_data",
          "data": {
            "text/plain": [
              "<IPython.core.display.HTML object>"
            ],
            "text/html": [
              "Syncing run <strong><a href='https://wandb.ai/tarajadidi/Deep%20NLP%2C%20Final/runs/urpz4vtu' target=\"_blank\">h_dim=100, dropout=0.2, mean=False, layers=1, Adam</a></strong> to <a href='https://wandb.ai/tarajadidi/Deep%20NLP%2C%20Final' target=\"_blank\">Weights & Biases</a> (<a href='https://wandb.me/run' target=\"_blank\">docs</a>)<br/>"
            ]
          },
          "metadata": {}
        },
        {
          "output_type": "display_data",
          "data": {
            "text/plain": [
              "<IPython.core.display.HTML object>"
            ],
            "text/html": [
              " View project at <a href='https://wandb.ai/tarajadidi/Deep%20NLP%2C%20Final' target=\"_blank\">https://wandb.ai/tarajadidi/Deep%20NLP%2C%20Final</a>"
            ]
          },
          "metadata": {}
        },
        {
          "output_type": "display_data",
          "data": {
            "text/plain": [
              "<IPython.core.display.HTML object>"
            ],
            "text/html": [
              " View run at <a href='https://wandb.ai/tarajadidi/Deep%20NLP%2C%20Final/runs/urpz4vtu' target=\"_blank\">https://wandb.ai/tarajadidi/Deep%20NLP%2C%20Final/runs/urpz4vtu</a>"
            ]
          },
          "metadata": {}
        },
        {
          "output_type": "stream",
          "name": "stdout",
          "text": [
            "Epoch------- 0\n",
            "Average val accuray 0.4779431438127092\n",
            "Average train accuray 0.3534979423868315\n",
            "Average loss tensor(1.7497)\n",
            "Epoch------- 1\n",
            "Average val accuray 0.5476923076923078\n",
            "Average train accuray 0.5347325102880658\n",
            "Average loss tensor(1.5187)\n",
            "Epoch------- 2\n",
            "Average val accuray 0.586153846153846\n",
            "Average train accuray 0.5637037037037039\n",
            "Average loss tensor(1.3757)\n",
            "Epoch------- 3\n",
            "Average val accuray 0.6521237458193979\n",
            "Average train accuray 0.6423045267489713\n",
            "Average loss tensor(1.2087)\n",
            "Epoch------- 4\n",
            "Average val accuray 0.6597157190635451\n",
            "Average train accuray 0.6828806584362139\n",
            "Average loss tensor(1.1829)\n",
            "Epoch------- 5\n",
            "Average val accuray 0.6747491638795986\n",
            "Average train accuray 0.7069958847736625\n",
            "Average loss tensor(1.1568)\n",
            "Epoch------- 6\n",
            "Average val accuray 0.6793645484949832\n",
            "Average train accuray 0.7252674897119341\n",
            "Average loss tensor(1.1297)\n",
            "Epoch------- 7\n",
            "Average val accuray 0.6828595317725751\n",
            "Average train accuray 0.7469958847736619\n",
            "Average loss tensor(1.1089)\n",
            "Epoch------- 8\n",
            "Average val accuray 0.6913210702341137\n",
            "Average train accuray 0.7646913580246918\n",
            "Average loss tensor(1.1040)\n",
            "Epoch------- 9\n",
            "Average val accuray 0.6912876254180603\n",
            "Average train accuray 0.7793415637860088\n",
            "Average loss tensor(1.1800)\n",
            "Epoch------- 10\n",
            "Average val accuray 0.6905183946488295\n",
            "Average train accuray 0.7979423868312757\n",
            "Average loss tensor(1.1240)\n",
            "Epoch------- 11\n",
            "Average val accuray 0.700133779264214\n",
            "Average train accuray 0.8036213991769549\n",
            "Average loss tensor(1.1542)\n",
            "Epoch------- 12\n",
            "Average val accuray 0.7040468227424748\n",
            "Average train accuray 0.8310288065843623\n",
            "Average loss tensor(1.1779)\n",
            "Epoch------- 13\n",
            "Average val accuray 0.7024749163879598\n",
            "Average train accuray 0.8473251028806587\n",
            "Average loss tensor(1.1747)\n",
            "Epoch------- 14\n",
            "Average val accuray 0.7028595317725752\n",
            "Average train accuray 0.8600000000000001\n",
            "Average loss tensor(1.2508)\n",
            "Epoch------- 15\n",
            "Average val accuray 0.6974414715719063\n",
            "Average train accuray 0.8615637860082307\n",
            "Average loss tensor(1.2365)\n",
            "Epoch------- 16\n",
            "Average val accuray 0.6997491638795987\n",
            "Average train accuray 0.8818106995884769\n",
            "Average loss tensor(1.2635)\n",
            "Epoch------- 17\n",
            "Average val accuray 0.6566722408026757\n",
            "Average train accuray 0.8828806584362144\n",
            "Average loss tensor(1.3519)\n",
            "Epoch------- 18\n",
            "Average val accuray 0.6924414715719063\n",
            "Average train accuray 0.8680658436213988\n",
            "Average loss tensor(1.3421)\n",
            "Epoch------- 19\n",
            "Average val accuray 0.6939464882943144\n",
            "Average train accuray 0.9041975308641965\n",
            "Average loss tensor(1.4772)\n"
          ]
        }
      ],
      "source": [
        "from torch.optim import Adam\n",
        "import torch.nn as nn\n",
        "\n",
        "n_epochs = 20\n",
        "lr = 1e-3\n",
        "loss_fn = nn.CrossEntropyLoss()\n",
        "hidden_dim = 100\n",
        "embedding = torch_embedding\n",
        "dropout = 0.2\n",
        "batches = all_batches[5] \n",
        "mean = False\n",
        "params = 'h_dim=100, dropout=0.2, mean=False, layers=1, Adam'\n",
        "\n",
        "basic_rnn_model = ClassificationRNNModel(embedding, h_dim=hidden_dim, dropout=dropout,mean=mean)\n",
        "basic_rnn_model.to(device)\n",
        "optimizer = Adam(basic_rnn_model.parameters(), lr=lr)\n",
        "\n",
        "basic_val_acc, basic_train_acc = train_model(n_epochs, basic_rnn_model,batches,optimizer, params)\n",
        "\n",
        "rnn_acc['basic'] = {}\n",
        "rnn_acc['basic']['val'] = basic_val_acc\n",
        "rnn_acc['basic']['train'] = basic_train_acc\n"
      ]
    },
    {
      "cell_type": "markdown",
      "metadata": {
        "id": "qB8tEKuB05je"
      },
      "source": [
        "Let's try increaseing the RNN Layers to see if this improves the results:"
      ]
    },
    {
      "cell_type": "code",
      "execution_count": 26,
      "metadata": {
        "id": "6SkEWbbU0_vt",
        "colab": {
          "base_uri": "https://localhost:8080/",
          "height": 1000
        },
        "outputId": "3bc4d32d-2d66-4e2b-9e9c-69c49301ecd4"
      },
      "outputs": [
        {
          "output_type": "display_data",
          "data": {
            "text/plain": [
              "<IPython.core.display.HTML object>"
            ],
            "text/html": [
              "Finishing last run (ID:urpz4vtu) before initializing another..."
            ]
          },
          "metadata": {}
        },
        {
          "output_type": "display_data",
          "data": {
            "text/plain": [
              "<IPython.core.display.HTML object>"
            ],
            "text/html": [
              "Waiting for W&B process to finish... <strong style=\"color:green\">(success).</strong>"
            ]
          },
          "metadata": {}
        },
        {
          "output_type": "display_data",
          "data": {
            "text/plain": [
              "<IPython.core.display.HTML object>"
            ],
            "text/html": [
              "<style>\n",
              "    table.wandb td:nth-child(1) { padding: 0 10px; text-align: left ; width: auto;} td:nth-child(2) {text-align: left ; width: 100%}\n",
              "    .wandb-row { display: flex; flex-direction: row; flex-wrap: wrap; justify-content: flex-start; width: 100% }\n",
              "    .wandb-col { display: flex; flex-direction: column; flex-basis: 100%; flex: 1; padding: 10px; }\n",
              "    </style>\n",
              "<div class=\"wandb-row\"><div class=\"wandb-col\"><h3>Run history:</h3><br/><table class=\"wandb\"><tr><td>LSTM train accuracy</td><td>▁▃▄▅▅▅▆▆▆▆▇▇▇▇▇▇████</td></tr><tr><td>LSTM validation accuracy</td><td>▁▃▄▆▇▇▇▇█████████▇██</td></tr></table><br/></div><div class=\"wandb-col\"><h3>Run summary:</h3><br/><table class=\"wandb\"><tr><td>LSTM train accuracy</td><td>0.9042</td></tr><tr><td>LSTM validation accuracy</td><td>0.69395</td></tr></table><br/></div></div>"
            ]
          },
          "metadata": {}
        },
        {
          "output_type": "display_data",
          "data": {
            "text/plain": [
              "<IPython.core.display.HTML object>"
            ],
            "text/html": [
              " View run <strong style=\"color:#cdcd00\">h_dim=100, dropout=0.2, mean=False, layers=1, Adam</strong> at: <a href='https://wandb.ai/tarajadidi/Deep%20NLP%2C%20Final/runs/urpz4vtu' target=\"_blank\">https://wandb.ai/tarajadidi/Deep%20NLP%2C%20Final/runs/urpz4vtu</a><br/>Synced 5 W&B file(s), 0 media file(s), 0 artifact file(s) and 0 other file(s)"
            ]
          },
          "metadata": {}
        },
        {
          "output_type": "display_data",
          "data": {
            "text/plain": [
              "<IPython.core.display.HTML object>"
            ],
            "text/html": [
              "Find logs at: <code>./wandb/run-20230601_172614-urpz4vtu/logs</code>"
            ]
          },
          "metadata": {}
        },
        {
          "output_type": "display_data",
          "data": {
            "text/plain": [
              "<IPython.core.display.HTML object>"
            ],
            "text/html": [
              "Successfully finished last run (ID:urpz4vtu). Initializing new run:<br/>"
            ]
          },
          "metadata": {}
        },
        {
          "output_type": "display_data",
          "data": {
            "text/plain": [
              "<IPython.core.display.HTML object>"
            ],
            "text/html": [
              "Tracking run with wandb version 0.15.3"
            ]
          },
          "metadata": {}
        },
        {
          "output_type": "display_data",
          "data": {
            "text/plain": [
              "<IPython.core.display.HTML object>"
            ],
            "text/html": [
              "Run data is saved locally in <code>/content/wandb/run-20230601_172731-k6avfioi</code>"
            ]
          },
          "metadata": {}
        },
        {
          "output_type": "display_data",
          "data": {
            "text/plain": [
              "<IPython.core.display.HTML object>"
            ],
            "text/html": [
              "Syncing run <strong><a href='https://wandb.ai/tarajadidi/Deep%20NLP%2C%20Final/runs/k6avfioi' target=\"_blank\">h_dim=100, dropout=0.2, mean=False, layers=3, Adam</a></strong> to <a href='https://wandb.ai/tarajadidi/Deep%20NLP%2C%20Final' target=\"_blank\">Weights & Biases</a> (<a href='https://wandb.me/run' target=\"_blank\">docs</a>)<br/>"
            ]
          },
          "metadata": {}
        },
        {
          "output_type": "display_data",
          "data": {
            "text/plain": [
              "<IPython.core.display.HTML object>"
            ],
            "text/html": [
              " View project at <a href='https://wandb.ai/tarajadidi/Deep%20NLP%2C%20Final' target=\"_blank\">https://wandb.ai/tarajadidi/Deep%20NLP%2C%20Final</a>"
            ]
          },
          "metadata": {}
        },
        {
          "output_type": "display_data",
          "data": {
            "text/plain": [
              "<IPython.core.display.HTML object>"
            ],
            "text/html": [
              " View run at <a href='https://wandb.ai/tarajadidi/Deep%20NLP%2C%20Final/runs/k6avfioi' target=\"_blank\">https://wandb.ai/tarajadidi/Deep%20NLP%2C%20Final/runs/k6avfioi</a>"
            ]
          },
          "metadata": {}
        },
        {
          "output_type": "stream",
          "name": "stdout",
          "text": [
            "Epoch------- 0\n",
            "Average val accuray 0.35232441471571924\n",
            "Average train accuray 0.26864197530864214\n",
            "Average loss tensor(1.8630)\n",
            "Epoch------- 1\n",
            "Average val accuray 0.5592642140468228\n",
            "Average train accuray 0.4860905349794243\n",
            "Average loss tensor(1.4834)\n",
            "Epoch------- 2\n",
            "Average val accuray 0.5966722408026754\n",
            "Average train accuray 0.5925925925925927\n",
            "Average loss tensor(1.3352)\n",
            "Epoch------- 3\n",
            "Average val accuray 0.6235953177257524\n",
            "Average train accuray 0.6291358024691354\n",
            "Average loss tensor(1.2844)\n",
            "Epoch------- 4\n",
            "Average val accuray 0.648628762541806\n",
            "Average train accuray 0.660164609053498\n",
            "Average loss tensor(1.2019)\n",
            "Epoch------- 5\n",
            "Average val accuray 0.6771571906354512\n",
            "Average train accuray 0.6974485596707825\n",
            "Average loss tensor(1.1221)\n",
            "Epoch------- 6\n",
            "Average val accuray 0.6853010033444815\n",
            "Average train accuray 0.7246913580246912\n",
            "Average loss tensor(1.1084)\n",
            "Epoch------- 7\n",
            "Average val accuray 0.7025418060200669\n",
            "Average train accuray 0.7463374485596703\n",
            "Average loss tensor(1.0664)\n",
            "Epoch------- 8\n",
            "Average val accuray 0.7075418060200668\n",
            "Average train accuray 0.7619753086419756\n",
            "Average loss tensor(1.0699)\n",
            "Epoch------- 9\n",
            "Average val accuray 0.7052006688963209\n",
            "Average train accuray 0.7802469135802477\n",
            "Average loss tensor(1.0976)\n",
            "Epoch------- 10\n",
            "Average val accuray 0.6967391304347826\n",
            "Average train accuray 0.7887242798353911\n",
            "Average loss tensor(1.1223)\n",
            "Epoch------- 11\n",
            "Average val accuray 0.704046822742475\n",
            "Average train accuray 0.8042798353909475\n",
            "Average loss tensor(1.0954)\n",
            "Epoch------- 12\n",
            "Average val accuray 0.7029598662207357\n",
            "Average train accuray 0.8119341563786012\n",
            "Average loss tensor(1.1672)\n",
            "Epoch------- 13\n",
            "Average val accuray 0.7182441471571906\n",
            "Average train accuray 0.8201646090534983\n",
            "Average loss tensor(1.0875)\n",
            "Epoch------- 14\n",
            "Average val accuray 0.7163545150501671\n",
            "Average train accuray 0.8367901234567905\n",
            "Average loss tensor(1.0962)\n",
            "Epoch------- 15\n",
            "Average val accuray 0.7255852842809365\n",
            "Average train accuray 0.8434567901234575\n",
            "Average loss tensor(1.1208)\n",
            "Epoch------- 16\n",
            "Average val accuray 0.7321571906354514\n",
            "Average train accuray 0.8373662551440336\n",
            "Average loss tensor(1.0916)\n",
            "Epoch------- 17\n",
            "Average val accuray 0.7206187290969901\n",
            "Average train accuray 0.8684773662551447\n",
            "Average loss tensor(1.1456)\n",
            "Epoch------- 18\n",
            "Average val accuray 0.7198160535117056\n",
            "Average train accuray 0.8757201646090533\n",
            "Average loss tensor(1.1763)\n",
            "Epoch------- 19\n",
            "Average val accuray 0.7174749163879599\n",
            "Average train accuray 0.8755555555555566\n",
            "Average loss tensor(1.1738)\n"
          ]
        }
      ],
      "source": [
        "basic_rnn_model2 = ClassificationRNNModel(embedding, h_dim=hidden_dim, dropout=dropout,mean=mean,rnn_layers=3)\n",
        "basic_rnn_model2.to(device)\n",
        "optimizer = Adam(basic_rnn_model2.parameters(), lr=lr)\n",
        "params = 'h_dim=100, dropout=0.2, mean=False, layers=3, Adam'\n",
        "\n",
        "basic_val_acc, basic_train_acc = train_model(n_epochs, basic_rnn_model2,batches,optimizer, params)\n",
        "\n",
        "rnn_acc['basic2'] = {}\n",
        "rnn_acc['basic2']['val'] = basic_val_acc\n",
        "rnn_acc['basic2']['train'] = basic_train_acc"
      ]
    },
    {
      "cell_type": "markdown",
      "metadata": {
        "id": "9Pq5d9DCmDZT"
      },
      "source": [
        "Now for the first variation, we try increaseing and decreasing the number of neurons in the hidden state:"
      ]
    },
    {
      "cell_type": "code",
      "execution_count": 27,
      "metadata": {
        "id": "I_dxxqxbmSYW",
        "colab": {
          "base_uri": "https://localhost:8080/",
          "height": 1000,
          "referenced_widgets": [
            "75b1d5d84e9248549ccbf384f7e8bb95",
            "120859e2604d44a09dea81f50a29de5b",
            "f2afb38503634f1280b6cbe437b91a4f",
            "6fa60a70e7ee40b6bab1d742758b1d7a",
            "c4c6c05b2a474abbb3a60edffca04c24",
            "43f813895f9f479fa384d239cc60bf2e",
            "21357ffbfdba4c6eb6f0ea29d4ab6efb",
            "d9d59fdfa233445ea73b5d2235285d2b"
          ]
        },
        "outputId": "3290e13b-f540-40f3-dd66-c959e07b6a10"
      },
      "outputs": [
        {
          "output_type": "display_data",
          "data": {
            "text/plain": [
              "<IPython.core.display.HTML object>"
            ],
            "text/html": [
              "Finishing last run (ID:k6avfioi) before initializing another..."
            ]
          },
          "metadata": {}
        },
        {
          "output_type": "display_data",
          "data": {
            "text/plain": [
              "<IPython.core.display.HTML object>"
            ],
            "text/html": [
              "Waiting for W&B process to finish... <strong style=\"color:green\">(success).</strong>"
            ]
          },
          "metadata": {}
        },
        {
          "output_type": "display_data",
          "data": {
            "text/plain": [
              "VBox(children=(Label(value='0.001 MB of 0.001 MB uploaded (0.000 MB deduped)\\r'), FloatProgress(value=1.0, max…"
            ],
            "application/vnd.jupyter.widget-view+json": {
              "version_major": 2,
              "version_minor": 0,
              "model_id": "75b1d5d84e9248549ccbf384f7e8bb95"
            }
          },
          "metadata": {}
        },
        {
          "output_type": "display_data",
          "data": {
            "text/plain": [
              "<IPython.core.display.HTML object>"
            ],
            "text/html": [
              "<style>\n",
              "    table.wandb td:nth-child(1) { padding: 0 10px; text-align: left ; width: auto;} td:nth-child(2) {text-align: left ; width: 100%}\n",
              "    .wandb-row { display: flex; flex-direction: row; flex-wrap: wrap; justify-content: flex-start; width: 100% }\n",
              "    .wandb-col { display: flex; flex-direction: column; flex-basis: 100%; flex: 1; padding: 10px; }\n",
              "    </style>\n",
              "<div class=\"wandb-row\"><div class=\"wandb-col\"><h3>Run history:</h3><br/><table class=\"wandb\"><tr><td>LSTM train accuracy</td><td>▁▄▅▅▆▆▆▇▇▇▇▇▇▇██████</td></tr><tr><td>LSTM validation accuracy</td><td>▁▅▆▆▆▇▇▇██▇▇▇███████</td></tr></table><br/></div><div class=\"wandb-col\"><h3>Run summary:</h3><br/><table class=\"wandb\"><tr><td>LSTM train accuracy</td><td>0.87556</td></tr><tr><td>LSTM validation accuracy</td><td>0.71747</td></tr></table><br/></div></div>"
            ]
          },
          "metadata": {}
        },
        {
          "output_type": "display_data",
          "data": {
            "text/plain": [
              "<IPython.core.display.HTML object>"
            ],
            "text/html": [
              " View run <strong style=\"color:#cdcd00\">h_dim=100, dropout=0.2, mean=False, layers=3, Adam</strong> at: <a href='https://wandb.ai/tarajadidi/Deep%20NLP%2C%20Final/runs/k6avfioi' target=\"_blank\">https://wandb.ai/tarajadidi/Deep%20NLP%2C%20Final/runs/k6avfioi</a><br/>Synced 5 W&B file(s), 0 media file(s), 0 artifact file(s) and 0 other file(s)"
            ]
          },
          "metadata": {}
        },
        {
          "output_type": "display_data",
          "data": {
            "text/plain": [
              "<IPython.core.display.HTML object>"
            ],
            "text/html": [
              "Find logs at: <code>./wandb/run-20230601_172731-k6avfioi/logs</code>"
            ]
          },
          "metadata": {}
        },
        {
          "output_type": "display_data",
          "data": {
            "text/plain": [
              "<IPython.core.display.HTML object>"
            ],
            "text/html": [
              "Successfully finished last run (ID:k6avfioi). Initializing new run:<br/>"
            ]
          },
          "metadata": {}
        },
        {
          "output_type": "display_data",
          "data": {
            "text/plain": [
              "<IPython.core.display.HTML object>"
            ],
            "text/html": [
              "Tracking run with wandb version 0.15.3"
            ]
          },
          "metadata": {}
        },
        {
          "output_type": "display_data",
          "data": {
            "text/plain": [
              "<IPython.core.display.HTML object>"
            ],
            "text/html": [
              "Run data is saved locally in <code>/content/wandb/run-20230601_172924-mv0i1zz7</code>"
            ]
          },
          "metadata": {}
        },
        {
          "output_type": "display_data",
          "data": {
            "text/plain": [
              "<IPython.core.display.HTML object>"
            ],
            "text/html": [
              "Syncing run <strong><a href='https://wandb.ai/tarajadidi/Deep%20NLP%2C%20Final/runs/mv0i1zz7' target=\"_blank\">h_dim=20, dropout=0.2, mean=False, layers=1, Adam</a></strong> to <a href='https://wandb.ai/tarajadidi/Deep%20NLP%2C%20Final' target=\"_blank\">Weights & Biases</a> (<a href='https://wandb.me/run' target=\"_blank\">docs</a>)<br/>"
            ]
          },
          "metadata": {}
        },
        {
          "output_type": "display_data",
          "data": {
            "text/plain": [
              "<IPython.core.display.HTML object>"
            ],
            "text/html": [
              " View project at <a href='https://wandb.ai/tarajadidi/Deep%20NLP%2C%20Final' target=\"_blank\">https://wandb.ai/tarajadidi/Deep%20NLP%2C%20Final</a>"
            ]
          },
          "metadata": {}
        },
        {
          "output_type": "display_data",
          "data": {
            "text/plain": [
              "<IPython.core.display.HTML object>"
            ],
            "text/html": [
              " View run at <a href='https://wandb.ai/tarajadidi/Deep%20NLP%2C%20Final/runs/mv0i1zz7' target=\"_blank\">https://wandb.ai/tarajadidi/Deep%20NLP%2C%20Final/runs/mv0i1zz7</a>"
            ]
          },
          "metadata": {}
        },
        {
          "output_type": "stream",
          "name": "stdout",
          "text": [
            "Epoch------- 0\n",
            "Average val accuray 0.3428428093645486\n",
            "Average train accuray 0.24748971193415642\n",
            "Average loss tensor(2.0087)\n",
            "Epoch------- 1\n",
            "Average val accuray 0.513846153846154\n",
            "Average train accuray 0.4465020576131688\n",
            "Average loss tensor(1.6442)\n",
            "Epoch------- 2\n",
            "Average val accuray 0.5488461538461537\n",
            "Average train accuray 0.5225514403292182\n",
            "Average loss tensor(1.5145)\n",
            "Epoch------- 3\n",
            "Average val accuray 0.5754515050167223\n",
            "Average train accuray 0.5661728395061727\n",
            "Average loss tensor(1.4274)\n",
            "Epoch------- 4\n",
            "Average val accuray 0.5889130434782609\n",
            "Average train accuray 0.5931687242798356\n",
            "Average loss tensor(1.3941)\n",
            "Epoch------- 5\n",
            "Average val accuray 0.6000668896321069\n",
            "Average train accuray 0.6203292181069959\n",
            "Average loss tensor(1.3390)\n",
            "Epoch------- 6\n",
            "Average val accuray 0.6188461538461537\n",
            "Average train accuray 0.64798353909465\n",
            "Average loss tensor(1.2818)\n",
            "Epoch------- 7\n",
            "Average val accuray 0.6388461538461537\n",
            "Average train accuray 0.6739917695473258\n",
            "Average loss tensor(1.2427)\n",
            "Epoch------- 8\n",
            "Average val accuray 0.6511872909698997\n",
            "Average train accuray 0.6891358024691359\n",
            "Average loss tensor(1.2169)\n",
            "Epoch------- 9\n",
            "Average val accuray 0.6619899665551838\n",
            "Average train accuray 0.7083127572016461\n",
            "Average loss tensor(1.1898)\n",
            "Epoch------- 10\n",
            "Average val accuray 0.675133779264214\n",
            "Average train accuray 0.7182716049382718\n",
            "Average loss tensor(1.1504)\n",
            "Epoch------- 11\n",
            "Average val accuray 0.6693645484949833\n",
            "Average train accuray 0.7338271604938277\n",
            "Average loss tensor(1.1500)\n",
            "Epoch------- 12\n",
            "Average val accuray 0.6705183946488293\n",
            "Average train accuray 0.7445267489711942\n",
            "Average loss tensor(1.1508)\n",
            "Epoch------- 13\n",
            "Average val accuray 0.6774749163879596\n",
            "Average train accuray 0.7451028806584368\n",
            "Average loss tensor(1.1506)\n",
            "Epoch------- 14\n",
            "Average val accuray 0.6790133779264215\n",
            "Average train accuray 0.7560493827160499\n",
            "Average loss tensor(1.1425)\n",
            "Epoch------- 15\n",
            "Average val accuray 0.6732441471571906\n",
            "Average train accuray 0.7610699588477363\n",
            "Average loss tensor(1.1862)\n",
            "Epoch------- 16\n",
            "Average val accuray 0.6801672240802676\n",
            "Average train accuray 0.7678189300411525\n",
            "Average loss tensor(1.1603)\n",
            "Epoch------- 17\n",
            "Average val accuray 0.685551839464883\n",
            "Average train accuray 0.7755555555555563\n",
            "Average loss tensor(1.1660)\n",
            "Epoch------- 18\n",
            "Average val accuray 0.6819899665551836\n",
            "Average train accuray 0.7837037037037037\n",
            "Average loss tensor(1.1925)\n",
            "Epoch------- 19\n",
            "Average val accuray 0.6827926421404681\n",
            "Average train accuray 0.7837860082304534\n",
            "Average loss tensor(1.1880)\n"
          ]
        }
      ],
      "source": [
        "hidden_dim = 20\n",
        "\n",
        "rnn_model_var1_low = ClassificationRNNModel(embedding, h_dim=hidden_dim, dropout=dropout,mean=mean)\n",
        "rnn_model_var1_low.to(device)\n",
        "optimizer = Adam(rnn_model_var1_low.parameters(), lr=lr)\n",
        "params = 'h_dim=20, dropout=0.2, mean=False, layers=1, Adam'\n",
        "\n",
        "basic_val_acc, basic_train_acc = train_model(n_epochs, rnn_model_var1_low,batches,optimizer, params)\n",
        "\n",
        "rnn_acc['var_1_1'] = {}\n",
        "rnn_acc['var_1_1']['val'] = basic_val_acc\n",
        "rnn_acc['var_1_1']['train'] = basic_train_acc"
      ]
    },
    {
      "cell_type": "code",
      "source": [
        "hidden_dim = 300\n",
        "\n",
        "rnn_model_var1_low = ClassificationRNNModel(embedding, h_dim=hidden_dim, dropout=dropout,mean=mean)\n",
        "rnn_model_var1_low.to(device)\n",
        "optimizer = Adam(rnn_model_var1_low.parameters(), lr=lr)\n",
        "\n",
        "params = 'h_dim=300, dropout=0.2, mean=False, layers=1, Adam'\n",
        "\n",
        "basic_val_acc, basic_train_acc = train_model(n_epochs, rnn_model_var1_low,batches,optimizer, params)\n",
        "\n",
        "rnn_acc['var_1_2'] = {}\n",
        "rnn_acc['var_1_2']['val'] = basic_val_acc\n",
        "rnn_acc['var_1_2']['train'] = basic_train_acc"
      ],
      "metadata": {
        "colab": {
          "base_uri": "https://localhost:8080/",
          "height": 1000
        },
        "id": "uJOryPpObIL4",
        "outputId": "77f4fe5a-3731-47df-ee9f-bf36d4677249"
      },
      "execution_count": 28,
      "outputs": [
        {
          "output_type": "display_data",
          "data": {
            "text/plain": [
              "<IPython.core.display.HTML object>"
            ],
            "text/html": [
              "Finishing last run (ID:mv0i1zz7) before initializing another..."
            ]
          },
          "metadata": {}
        },
        {
          "output_type": "display_data",
          "data": {
            "text/plain": [
              "<IPython.core.display.HTML object>"
            ],
            "text/html": [
              "Waiting for W&B process to finish... <strong style=\"color:green\">(success).</strong>"
            ]
          },
          "metadata": {}
        },
        {
          "output_type": "display_data",
          "data": {
            "text/plain": [
              "<IPython.core.display.HTML object>"
            ],
            "text/html": [
              "<style>\n",
              "    table.wandb td:nth-child(1) { padding: 0 10px; text-align: left ; width: auto;} td:nth-child(2) {text-align: left ; width: 100%}\n",
              "    .wandb-row { display: flex; flex-direction: row; flex-wrap: wrap; justify-content: flex-start; width: 100% }\n",
              "    .wandb-col { display: flex; flex-direction: column; flex-basis: 100%; flex: 1; padding: 10px; }\n",
              "    </style>\n",
              "<div class=\"wandb-row\"><div class=\"wandb-col\"><h3>Run history:</h3><br/><table class=\"wandb\"><tr><td>LSTM train accuracy</td><td>▁▄▅▅▆▆▆▇▇▇▇▇▇▇██████</td></tr><tr><td>LSTM validation accuracy</td><td>▁▄▅▆▆▆▇▇▇███████████</td></tr></table><br/></div><div class=\"wandb-col\"><h3>Run summary:</h3><br/><table class=\"wandb\"><tr><td>LSTM train accuracy</td><td>0.78379</td></tr><tr><td>LSTM validation accuracy</td><td>0.68279</td></tr></table><br/></div></div>"
            ]
          },
          "metadata": {}
        },
        {
          "output_type": "display_data",
          "data": {
            "text/plain": [
              "<IPython.core.display.HTML object>"
            ],
            "text/html": [
              " View run <strong style=\"color:#cdcd00\">h_dim=20, dropout=0.2, mean=False, layers=1, Adam</strong> at: <a href='https://wandb.ai/tarajadidi/Deep%20NLP%2C%20Final/runs/mv0i1zz7' target=\"_blank\">https://wandb.ai/tarajadidi/Deep%20NLP%2C%20Final/runs/mv0i1zz7</a><br/>Synced 5 W&B file(s), 0 media file(s), 0 artifact file(s) and 0 other file(s)"
            ]
          },
          "metadata": {}
        },
        {
          "output_type": "display_data",
          "data": {
            "text/plain": [
              "<IPython.core.display.HTML object>"
            ],
            "text/html": [
              "Find logs at: <code>./wandb/run-20230601_172924-mv0i1zz7/logs</code>"
            ]
          },
          "metadata": {}
        },
        {
          "output_type": "display_data",
          "data": {
            "text/plain": [
              "<IPython.core.display.HTML object>"
            ],
            "text/html": [
              "Successfully finished last run (ID:mv0i1zz7). Initializing new run:<br/>"
            ]
          },
          "metadata": {}
        },
        {
          "output_type": "display_data",
          "data": {
            "text/plain": [
              "<IPython.core.display.HTML object>"
            ],
            "text/html": [
              "Tracking run with wandb version 0.15.3"
            ]
          },
          "metadata": {}
        },
        {
          "output_type": "display_data",
          "data": {
            "text/plain": [
              "<IPython.core.display.HTML object>"
            ],
            "text/html": [
              "Run data is saved locally in <code>/content/wandb/run-20230601_173039-d61sdv3k</code>"
            ]
          },
          "metadata": {}
        },
        {
          "output_type": "display_data",
          "data": {
            "text/plain": [
              "<IPython.core.display.HTML object>"
            ],
            "text/html": [
              "Syncing run <strong><a href='https://wandb.ai/tarajadidi/Deep%20NLP%2C%20Final/runs/d61sdv3k' target=\"_blank\">h_dim=300, dropout=0.2, mean=False, layers=1, Adam</a></strong> to <a href='https://wandb.ai/tarajadidi/Deep%20NLP%2C%20Final' target=\"_blank\">Weights & Biases</a> (<a href='https://wandb.me/run' target=\"_blank\">docs</a>)<br/>"
            ]
          },
          "metadata": {}
        },
        {
          "output_type": "display_data",
          "data": {
            "text/plain": [
              "<IPython.core.display.HTML object>"
            ],
            "text/html": [
              " View project at <a href='https://wandb.ai/tarajadidi/Deep%20NLP%2C%20Final' target=\"_blank\">https://wandb.ai/tarajadidi/Deep%20NLP%2C%20Final</a>"
            ]
          },
          "metadata": {}
        },
        {
          "output_type": "display_data",
          "data": {
            "text/plain": [
              "<IPython.core.display.HTML object>"
            ],
            "text/html": [
              " View run at <a href='https://wandb.ai/tarajadidi/Deep%20NLP%2C%20Final/runs/d61sdv3k' target=\"_blank\">https://wandb.ai/tarajadidi/Deep%20NLP%2C%20Final/runs/d61sdv3k</a>"
            ]
          },
          "metadata": {}
        },
        {
          "output_type": "stream",
          "name": "stdout",
          "text": [
            "Epoch------- 0\n",
            "Average val accuray 0.4109531772575251\n",
            "Average train accuray 0.3643621399176957\n",
            "Average loss tensor(1.9488)\n",
            "Epoch------- 1\n",
            "Average val accuray 0.5581772575250837\n",
            "Average train accuray 0.5111934156378602\n",
            "Average loss tensor(1.4661)\n",
            "Epoch------- 2\n",
            "Average val accuray 0.5000334448160535\n",
            "Average train accuray 0.5881481481481481\n",
            "Average loss tensor(1.6108)\n",
            "Epoch------- 3\n",
            "Average val accuray 0.628210702341137\n",
            "Average train accuray 0.6241975308641976\n",
            "Average loss tensor(1.2776)\n",
            "Epoch------- 4\n",
            "Average val accuray 0.6532441471571905\n",
            "Average train accuray 0.6715226337448559\n",
            "Average loss tensor(1.1991)\n",
            "Epoch------- 5\n",
            "Average val accuray 0.6632775919732439\n",
            "Average train accuray 0.691358024691358\n",
            "Average loss tensor(1.1793)\n",
            "Epoch------- 6\n",
            "Average val accuray 0.684080267558528\n",
            "Average train accuray 0.7300411522633748\n",
            "Average loss tensor(1.1363)\n",
            "Epoch------- 7\n",
            "Average val accuray 0.6843979933110368\n",
            "Average train accuray 0.7633744855967081\n",
            "Average loss tensor(1.1426)\n",
            "Epoch------- 8\n",
            "Average val accuray 0.675133779264214\n",
            "Average train accuray 0.7855967078189307\n",
            "Average loss tensor(1.1845)\n",
            "Epoch------- 9\n",
            "Average val accuray 0.6693311036789298\n",
            "Average train accuray 0.8115226337448563\n",
            "Average loss tensor(1.2003)\n",
            "Epoch------- 10\n",
            "Average val accuray 0.6643979933110367\n",
            "Average train accuray 0.8408230452674899\n",
            "Average loss tensor(1.2341)\n",
            "Epoch------- 11\n",
            "Average val accuray 0.6940133779264215\n",
            "Average train accuray 0.8573662551440338\n",
            "Average loss tensor(1.2781)\n",
            "Epoch------- 12\n",
            "Average val accuray 0.6913210702341138\n",
            "Average train accuray 0.8833744855967083\n",
            "Average loss tensor(1.2887)\n",
            "Epoch------- 13\n",
            "Average val accuray 0.6649999999999998\n",
            "Average train accuray 0.9065020576131682\n",
            "Average loss tensor(1.4942)\n",
            "Epoch------- 14\n",
            "Average val accuray 0.674782608695652\n",
            "Average train accuray 0.91514403292181\n",
            "Average loss tensor(1.5175)\n",
            "Epoch------- 15\n",
            "Average val accuray 0.6785618729096989\n",
            "Average train accuray 0.9315226337448552\n",
            "Average loss tensor(1.5497)\n",
            "Epoch------- 16\n",
            "Average val accuray 0.6801003344481603\n",
            "Average train accuray 0.9459259259259255\n",
            "Average loss tensor(1.5221)\n",
            "Epoch------- 17\n",
            "Average val accuray 0.6752341137123744\n",
            "Average train accuray 0.9632098765432081\n",
            "Average loss tensor(1.5742)\n",
            "Epoch------- 18\n",
            "Average val accuray 0.6803010033444815\n",
            "Average train accuray 0.9735802469135794\n",
            "Average loss tensor(1.6988)\n",
            "Epoch------- 19\n",
            "Average val accuray 0.6870903010033445\n",
            "Average train accuray 0.9779423868312743\n",
            "Average loss tensor(1.7378)\n"
          ]
        }
      ]
    },
    {
      "cell_type": "code",
      "execution_count": 29,
      "metadata": {
        "id": "k6ig5y-hmz17",
        "colab": {
          "base_uri": "https://localhost:8080/",
          "height": 1000,
          "referenced_widgets": [
            "1dae0a1ee8cd4108a99452bc317b109b",
            "58816aa59d46417daf3f600cbfdb2004",
            "bdae339ea060499ba88dc93acaea7410",
            "ca818501111b4e70bd7413699f5da2d0",
            "d9242386513f44279d13181237971604",
            "6c6a5743254a49bda7132807803ce80d",
            "e1c133eb69d342fdabada5548e857fb8",
            "6ba1619bdd714b8eb095cc2969ed35a9"
          ]
        },
        "outputId": "70e9f964-4d56-4d9e-a26f-e51f4c1ff7ec"
      },
      "outputs": [
        {
          "output_type": "display_data",
          "data": {
            "text/plain": [
              "<IPython.core.display.HTML object>"
            ],
            "text/html": [
              "Finishing last run (ID:d61sdv3k) before initializing another..."
            ]
          },
          "metadata": {}
        },
        {
          "output_type": "display_data",
          "data": {
            "text/plain": [
              "<IPython.core.display.HTML object>"
            ],
            "text/html": [
              "Waiting for W&B process to finish... <strong style=\"color:green\">(success).</strong>"
            ]
          },
          "metadata": {}
        },
        {
          "output_type": "display_data",
          "data": {
            "text/plain": [
              "VBox(children=(Label(value='0.001 MB of 0.001 MB uploaded (0.000 MB deduped)\\r'), FloatProgress(value=1.0, max…"
            ],
            "application/vnd.jupyter.widget-view+json": {
              "version_major": 2,
              "version_minor": 0,
              "model_id": "1dae0a1ee8cd4108a99452bc317b109b"
            }
          },
          "metadata": {}
        },
        {
          "output_type": "display_data",
          "data": {
            "text/plain": [
              "<IPython.core.display.HTML object>"
            ],
            "text/html": [
              "<style>\n",
              "    table.wandb td:nth-child(1) { padding: 0 10px; text-align: left ; width: auto;} td:nth-child(2) {text-align: left ; width: 100%}\n",
              "    .wandb-row { display: flex; flex-direction: row; flex-wrap: wrap; justify-content: flex-start; width: 100% }\n",
              "    .wandb-col { display: flex; flex-direction: column; flex-basis: 100%; flex: 1; padding: 10px; }\n",
              "    </style>\n",
              "<div class=\"wandb-row\"><div class=\"wandb-col\"><h3>Run history:</h3><br/><table class=\"wandb\"><tr><td>LSTM train accuracy</td><td>▁▃▄▄▅▅▅▆▆▆▆▇▇▇▇▇████</td></tr><tr><td>LSTM validation accuracy</td><td>▁▅▃▆▇▇███▇▇██▇██████</td></tr></table><br/></div><div class=\"wandb-col\"><h3>Run summary:</h3><br/><table class=\"wandb\"><tr><td>LSTM train accuracy</td><td>0.97794</td></tr><tr><td>LSTM validation accuracy</td><td>0.68709</td></tr></table><br/></div></div>"
            ]
          },
          "metadata": {}
        },
        {
          "output_type": "display_data",
          "data": {
            "text/plain": [
              "<IPython.core.display.HTML object>"
            ],
            "text/html": [
              " View run <strong style=\"color:#cdcd00\">h_dim=300, dropout=0.2, mean=False, layers=1, Adam</strong> at: <a href='https://wandb.ai/tarajadidi/Deep%20NLP%2C%20Final/runs/d61sdv3k' target=\"_blank\">https://wandb.ai/tarajadidi/Deep%20NLP%2C%20Final/runs/d61sdv3k</a><br/>Synced 5 W&B file(s), 0 media file(s), 0 artifact file(s) and 0 other file(s)"
            ]
          },
          "metadata": {}
        },
        {
          "output_type": "display_data",
          "data": {
            "text/plain": [
              "<IPython.core.display.HTML object>"
            ],
            "text/html": [
              "Find logs at: <code>./wandb/run-20230601_173039-d61sdv3k/logs</code>"
            ]
          },
          "metadata": {}
        },
        {
          "output_type": "display_data",
          "data": {
            "text/plain": [
              "<IPython.core.display.HTML object>"
            ],
            "text/html": [
              "Successfully finished last run (ID:d61sdv3k). Initializing new run:<br/>"
            ]
          },
          "metadata": {}
        },
        {
          "output_type": "display_data",
          "data": {
            "text/plain": [
              "<IPython.core.display.HTML object>"
            ],
            "text/html": [
              "Tracking run with wandb version 0.15.3"
            ]
          },
          "metadata": {}
        },
        {
          "output_type": "display_data",
          "data": {
            "text/plain": [
              "<IPython.core.display.HTML object>"
            ],
            "text/html": [
              "Run data is saved locally in <code>/content/wandb/run-20230601_173206-v73tj1zo</code>"
            ]
          },
          "metadata": {}
        },
        {
          "output_type": "display_data",
          "data": {
            "text/plain": [
              "<IPython.core.display.HTML object>"
            ],
            "text/html": [
              "Syncing run <strong><a href='https://wandb.ai/tarajadidi/Deep%20NLP%2C%20Final/runs/v73tj1zo' target=\"_blank\">h_dim=500, dropout=0.2, mean=False, layers=1, Adam</a></strong> to <a href='https://wandb.ai/tarajadidi/Deep%20NLP%2C%20Final' target=\"_blank\">Weights & Biases</a> (<a href='https://wandb.me/run' target=\"_blank\">docs</a>)<br/>"
            ]
          },
          "metadata": {}
        },
        {
          "output_type": "display_data",
          "data": {
            "text/plain": [
              "<IPython.core.display.HTML object>"
            ],
            "text/html": [
              " View project at <a href='https://wandb.ai/tarajadidi/Deep%20NLP%2C%20Final' target=\"_blank\">https://wandb.ai/tarajadidi/Deep%20NLP%2C%20Final</a>"
            ]
          },
          "metadata": {}
        },
        {
          "output_type": "display_data",
          "data": {
            "text/plain": [
              "<IPython.core.display.HTML object>"
            ],
            "text/html": [
              " View run at <a href='https://wandb.ai/tarajadidi/Deep%20NLP%2C%20Final/runs/v73tj1zo' target=\"_blank\">https://wandb.ai/tarajadidi/Deep%20NLP%2C%20Final/runs/v73tj1zo</a>"
            ]
          },
          "metadata": {}
        },
        {
          "output_type": "stream",
          "name": "stdout",
          "text": [
            "Epoch------- 0\n",
            "Average val accuray 0.47056856187290974\n",
            "Average train accuray 0.319835390946502\n",
            "Average loss tensor(1.7239)\n",
            "Epoch------- 1\n",
            "Average val accuray 0.5526254180602005\n",
            "Average train accuray 0.4923456790123456\n",
            "Average loss tensor(1.5027)\n",
            "Epoch------- 2\n",
            "Average val accuray 0.4888461538461538\n",
            "Average train accuray 0.5743209876543213\n",
            "Average loss tensor(1.6794)\n",
            "Epoch------- 3\n",
            "Average val accuray 0.5351003344481605\n",
            "Average train accuray 0.5900411522633747\n",
            "Average loss tensor(1.4958)\n",
            "Epoch------- 4\n",
            "Average val accuray 0.6329264214046819\n",
            "Average train accuray 0.6237860082304523\n",
            "Average loss tensor(1.2746)\n",
            "Epoch------- 5\n",
            "Average val accuray 0.6605183946488294\n",
            "Average train accuray 0.6850205761316874\n",
            "Average loss tensor(1.2122)\n",
            "Epoch------- 6\n",
            "Average val accuray 0.675200668896321\n",
            "Average train accuray 0.7151440329218108\n",
            "Average loss tensor(1.1487)\n",
            "Epoch------- 7\n",
            "Average val accuray 0.6852341137123745\n",
            "Average train accuray 0.7404115226337453\n",
            "Average loss tensor(1.1465)\n",
            "Epoch------- 8\n",
            "Average val accuray 0.6778595317725752\n",
            "Average train accuray 0.7586831275720166\n",
            "Average loss tensor(1.1651)\n",
            "Epoch------- 9\n",
            "Average val accuray 0.6793645484949834\n",
            "Average train accuray 0.7906172839506177\n",
            "Average loss tensor(1.1925)\n",
            "Epoch------- 10\n",
            "Average val accuray 0.6878929765886288\n",
            "Average train accuray 0.8227160493827161\n",
            "Average loss tensor(1.1536)\n",
            "Epoch------- 11\n",
            "Average val accuray 0.6840468227424749\n",
            "Average train accuray 0.8483950617283954\n",
            "Average loss tensor(1.2277)\n",
            "Epoch------- 12\n",
            "Average val accuray 0.671705685618729\n",
            "Average train accuray 0.8719341563786009\n",
            "Average loss tensor(1.2953)\n",
            "Epoch------- 13\n",
            "Average val accuray 0.6802341137123744\n",
            "Average train accuray 0.8993415637860083\n",
            "Average loss tensor(1.4360)\n",
            "Epoch------- 14\n",
            "Average val accuray 0.6702006688963208\n",
            "Average train accuray 0.9222222222222217\n",
            "Average loss tensor(1.5796)\n",
            "Epoch------- 15\n",
            "Average val accuray 0.6675418060200667\n",
            "Average train accuray 0.9396707818930029\n",
            "Average loss tensor(1.6453)\n",
            "Epoch------- 16\n",
            "Average val accuray 0.6601003344481605\n",
            "Average train accuray 0.9567078189300393\n",
            "Average loss tensor(1.6859)\n",
            "Epoch------- 17\n",
            "Average val accuray 0.6569565217391303\n",
            "Average train accuray 0.968477366255143\n",
            "Average loss tensor(1.6832)\n",
            "Epoch------- 18\n",
            "Average val accuray 0.6624414715719062\n",
            "Average train accuray 0.9778600823045256\n",
            "Average loss tensor(1.7818)\n",
            "Epoch------- 19\n",
            "Average val accuray 0.662408026755853\n",
            "Average train accuray 0.9855967078189289\n",
            "Average loss tensor(1.9149)\n"
          ]
        }
      ],
      "source": [
        "hidden_dim = 500\n",
        "\n",
        "rnn_model_var1_high = ClassificationRNNModel(embedding, h_dim=hidden_dim, dropout=dropout,mean=mean)\n",
        "rnn_model_var1_high.to(device)\n",
        "optimizer = Adam(rnn_model_var1_high.parameters(), lr=lr)\n",
        "\n",
        "params = 'h_dim=500, dropout=0.2, mean=False, layers=1, Adam'\n",
        "\n",
        "basic_val_acc, basic_train_acc = train_model(n_epochs, rnn_model_var1_high,batches,optimizer, params)\n",
        "\n",
        "rnn_acc['var_1_3'] = {}\n",
        "rnn_acc['var_1_3']['val'] = basic_val_acc\n",
        "rnn_acc['var_1_3']['train'] = basic_train_acc"
      ]
    },
    {
      "cell_type": "markdown",
      "metadata": {
        "id": "zbkj94fbnXMy"
      },
      "source": [
        "Now for the second variation, we reset the h_dim parameter to 100 and try both SGD, and increasing the dropout."
      ]
    },
    {
      "cell_type": "code",
      "execution_count": 30,
      "metadata": {
        "id": "X-uuqnP3nkur",
        "colab": {
          "base_uri": "https://localhost:8080/",
          "height": 1000,
          "referenced_widgets": [
            "c107da8c38fe456a9d11efb4eb2379d5",
            "a63af5df1b16434f89ea9dda28272b47",
            "b5d1ef06b8a14ef28560885f35ab8923",
            "8e0fad64434f43fbbebb75f4916e4f24",
            "3af8a8b1862247f885907aa3983966c6",
            "498f3f2f2c6340ffb244b90f3306cbeb",
            "dc5004a28a8d4891b5333347d396b83b",
            "de43adf24ade48aa8e86f38fd0c087d4"
          ]
        },
        "outputId": "2d1af90b-ab89-425e-d4c6-5e033bfe1dbe"
      },
      "outputs": [
        {
          "output_type": "display_data",
          "data": {
            "text/plain": [
              "<IPython.core.display.HTML object>"
            ],
            "text/html": [
              "Finishing last run (ID:v73tj1zo) before initializing another..."
            ]
          },
          "metadata": {}
        },
        {
          "output_type": "display_data",
          "data": {
            "text/plain": [
              "<IPython.core.display.HTML object>"
            ],
            "text/html": [
              "Waiting for W&B process to finish... <strong style=\"color:green\">(success).</strong>"
            ]
          },
          "metadata": {}
        },
        {
          "output_type": "display_data",
          "data": {
            "text/plain": [
              "VBox(children=(Label(value='0.001 MB of 0.009 MB uploaded (0.000 MB deduped)\\r'), FloatProgress(value=0.123354…"
            ],
            "application/vnd.jupyter.widget-view+json": {
              "version_major": 2,
              "version_minor": 0,
              "model_id": "c107da8c38fe456a9d11efb4eb2379d5"
            }
          },
          "metadata": {}
        },
        {
          "output_type": "display_data",
          "data": {
            "text/plain": [
              "<IPython.core.display.HTML object>"
            ],
            "text/html": [
              "<style>\n",
              "    table.wandb td:nth-child(1) { padding: 0 10px; text-align: left ; width: auto;} td:nth-child(2) {text-align: left ; width: 100%}\n",
              "    .wandb-row { display: flex; flex-direction: row; flex-wrap: wrap; justify-content: flex-start; width: 100% }\n",
              "    .wandb-col { display: flex; flex-direction: column; flex-basis: 100%; flex: 1; padding: 10px; }\n",
              "    </style>\n",
              "<div class=\"wandb-row\"><div class=\"wandb-col\"><h3>Run history:</h3><br/><table class=\"wandb\"><tr><td>LSTM train accuracy</td><td>▁▃▄▄▄▅▅▅▆▆▆▇▇▇▇█████</td></tr><tr><td>LSTM validation accuracy</td><td>▁▄▂▃▆▇██████▇█▇▇▇▇▇▇</td></tr></table><br/></div><div class=\"wandb-col\"><h3>Run summary:</h3><br/><table class=\"wandb\"><tr><td>LSTM train accuracy</td><td>0.9856</td></tr><tr><td>LSTM validation accuracy</td><td>0.66241</td></tr></table><br/></div></div>"
            ]
          },
          "metadata": {}
        },
        {
          "output_type": "display_data",
          "data": {
            "text/plain": [
              "<IPython.core.display.HTML object>"
            ],
            "text/html": [
              " View run <strong style=\"color:#cdcd00\">h_dim=500, dropout=0.2, mean=False, layers=1, Adam</strong> at: <a href='https://wandb.ai/tarajadidi/Deep%20NLP%2C%20Final/runs/v73tj1zo' target=\"_blank\">https://wandb.ai/tarajadidi/Deep%20NLP%2C%20Final/runs/v73tj1zo</a><br/>Synced 5 W&B file(s), 0 media file(s), 0 artifact file(s) and 0 other file(s)"
            ]
          },
          "metadata": {}
        },
        {
          "output_type": "display_data",
          "data": {
            "text/plain": [
              "<IPython.core.display.HTML object>"
            ],
            "text/html": [
              "Find logs at: <code>./wandb/run-20230601_173206-v73tj1zo/logs</code>"
            ]
          },
          "metadata": {}
        },
        {
          "output_type": "display_data",
          "data": {
            "text/plain": [
              "<IPython.core.display.HTML object>"
            ],
            "text/html": [
              "Successfully finished last run (ID:v73tj1zo). Initializing new run:<br/>"
            ]
          },
          "metadata": {}
        },
        {
          "output_type": "display_data",
          "data": {
            "text/plain": [
              "<IPython.core.display.HTML object>"
            ],
            "text/html": [
              "Tracking run with wandb version 0.15.3"
            ]
          },
          "metadata": {}
        },
        {
          "output_type": "display_data",
          "data": {
            "text/plain": [
              "<IPython.core.display.HTML object>"
            ],
            "text/html": [
              "Run data is saved locally in <code>/content/wandb/run-20230601_173417-jcb5cz5h</code>"
            ]
          },
          "metadata": {}
        },
        {
          "output_type": "display_data",
          "data": {
            "text/plain": [
              "<IPython.core.display.HTML object>"
            ],
            "text/html": [
              "Syncing run <strong><a href='https://wandb.ai/tarajadidi/Deep%20NLP%2C%20Final/runs/jcb5cz5h' target=\"_blank\">h_dim=100, dropout=0.2, mean=False, layers=1, SGD</a></strong> to <a href='https://wandb.ai/tarajadidi/Deep%20NLP%2C%20Final' target=\"_blank\">Weights & Biases</a> (<a href='https://wandb.me/run' target=\"_blank\">docs</a>)<br/>"
            ]
          },
          "metadata": {}
        },
        {
          "output_type": "display_data",
          "data": {
            "text/plain": [
              "<IPython.core.display.HTML object>"
            ],
            "text/html": [
              " View project at <a href='https://wandb.ai/tarajadidi/Deep%20NLP%2C%20Final' target=\"_blank\">https://wandb.ai/tarajadidi/Deep%20NLP%2C%20Final</a>"
            ]
          },
          "metadata": {}
        },
        {
          "output_type": "display_data",
          "data": {
            "text/plain": [
              "<IPython.core.display.HTML object>"
            ],
            "text/html": [
              " View run at <a href='https://wandb.ai/tarajadidi/Deep%20NLP%2C%20Final/runs/jcb5cz5h' target=\"_blank\">https://wandb.ai/tarajadidi/Deep%20NLP%2C%20Final/runs/jcb5cz5h</a>"
            ]
          },
          "metadata": {}
        },
        {
          "output_type": "stream",
          "name": "stdout",
          "text": [
            "Epoch------- 0\n",
            "Average val accuray 0.08013377926421411\n",
            "Average train accuray 0.06971193415637854\n",
            "Average loss tensor(2.4758)\n",
            "Epoch------- 1\n",
            "Average val accuray 0.15683946488294315\n",
            "Average train accuray 0.1164609053497942\n",
            "Average loss tensor(2.4541)\n",
            "Epoch------- 2\n",
            "Average val accuray 0.1965551839464883\n",
            "Average train accuray 0.17744855967078185\n",
            "Average loss tensor(2.4336)\n",
            "Epoch------- 3\n",
            "Average val accuray 0.21117056856187294\n",
            "Average train accuray 0.21144032921810701\n",
            "Average loss tensor(2.4140)\n",
            "Epoch------- 4\n",
            "Average val accuray 0.21501672240802672\n",
            "Average train accuray 0.2216460905349793\n",
            "Average loss tensor(2.3955)\n",
            "Epoch------- 5\n",
            "Average val accuray 0.21617056856187292\n",
            "Average train accuray 0.22189300411522625\n",
            "Average loss tensor(2.3778)\n",
            "Epoch------- 6\n",
            "Average val accuray 0.22351170568561876\n",
            "Average train accuray 0.22452674897119346\n",
            "Average loss tensor(2.3611)\n",
            "Epoch------- 7\n",
            "Average val accuray 0.22344481605351177\n",
            "Average train accuray 0.22543209876543213\n",
            "Average loss tensor(2.3450)\n",
            "Epoch------- 8\n",
            "Average val accuray 0.22459866220735783\n",
            "Average train accuray 0.23127572016460904\n",
            "Average loss tensor(2.3298)\n",
            "Epoch------- 9\n",
            "Average val accuray 0.2230602006688963\n",
            "Average train accuray 0.233909465020576\n",
            "Average loss tensor(2.3153)\n",
            "Epoch------- 10\n",
            "Average val accuray 0.22767558528428095\n",
            "Average train accuray 0.2326748971193416\n",
            "Average loss tensor(2.3016)\n",
            "Epoch------- 11\n",
            "Average val accuray 0.23187290969899668\n",
            "Average train accuray 0.23423868312757196\n",
            "Average loss tensor(2.2885)\n",
            "Epoch------- 12\n",
            "Average val accuray 0.24190635451505024\n",
            "Average train accuray 0.23530864197530849\n",
            "Average loss tensor(2.2762)\n",
            "Epoch------- 13\n",
            "Average val accuray 0.242190635451505\n",
            "Average train accuray 0.2362962962962962\n",
            "Average loss tensor(2.2645)\n",
            "Epoch------- 14\n",
            "Average val accuray 0.24418060200668898\n",
            "Average train accuray 0.23975308641975313\n",
            "Average loss tensor(2.2533)\n",
            "Epoch------- 15\n",
            "Average val accuray 0.24270903010033443\n",
            "Average train accuray 0.2395884773662552\n",
            "Average loss tensor(2.2428)\n",
            "Epoch------- 16\n",
            "Average val accuray 0.2465551839464883\n",
            "Average train accuray 0.24213991769547324\n",
            "Average loss tensor(2.2328)\n",
            "Epoch------- 17\n",
            "Average val accuray 0.24886287625418063\n",
            "Average train accuray 0.2407407407407407\n",
            "Average loss tensor(2.2236)\n",
            "Epoch------- 18\n",
            "Average val accuray 0.24966555183946487\n",
            "Average train accuray 0.2404938271604939\n",
            "Average loss tensor(2.2147)\n",
            "Epoch------- 19\n",
            "Average val accuray 0.2535117056856187\n",
            "Average train accuray 0.23868312757201662\n",
            "Average loss tensor(2.2065)\n"
          ]
        }
      ],
      "source": [
        "from torch.optim import SGD\n",
        "\n",
        "hidden_dim = 100\n",
        "\n",
        "rnn_model_var2_sgd = ClassificationRNNModel(embedding, h_dim=hidden_dim, dropout=dropout,mean=mean)\n",
        "rnn_model_var2_sgd.to(device)\n",
        "optimizer = SGD(rnn_model_var2_sgd.parameters(), lr=lr)\n",
        "\n",
        "params = 'h_dim=100, dropout=0.2, mean=False, layers=1, SGD'\n",
        "\n",
        "\n",
        "basic_val_acc, basic_train_acc = train_model(n_epochs, rnn_model_var2_sgd,batches,optimizer, params)\n",
        "\n",
        "rnn_acc['var_2_1'] = {}\n",
        "rnn_acc['var_2_1']['val'] = basic_val_acc\n",
        "rnn_acc['var_2_1']['train'] = basic_train_acc"
      ]
    },
    {
      "cell_type": "code",
      "execution_count": 31,
      "metadata": {
        "id": "GTqlqsmEoPgQ",
        "colab": {
          "base_uri": "https://localhost:8080/",
          "height": 1000,
          "referenced_widgets": [
            "4a272647f7ca494d95bb22c04948d5fa",
            "c588ab6eef184b42a123beb8ce15b5ab",
            "eaa06c599fe749a6ab563fe9617768b9",
            "323e1dd301c14816a4f4446d082df7ef",
            "b5fda49e5edf42b681169dacd74b990c",
            "94ae154f14f44c0fa51e770d6337923d",
            "69ed7bcd25a8488cad6996e45ff5d41e",
            "6d610b8a29e646e3b789cd817ef25a09"
          ]
        },
        "outputId": "47121abe-34b5-4a49-91d3-16e0abd66989"
      },
      "outputs": [
        {
          "output_type": "display_data",
          "data": {
            "text/plain": [
              "<IPython.core.display.HTML object>"
            ],
            "text/html": [
              "Finishing last run (ID:jcb5cz5h) before initializing another..."
            ]
          },
          "metadata": {}
        },
        {
          "output_type": "display_data",
          "data": {
            "text/plain": [
              "<IPython.core.display.HTML object>"
            ],
            "text/html": [
              "Waiting for W&B process to finish... <strong style=\"color:green\">(success).</strong>"
            ]
          },
          "metadata": {}
        },
        {
          "output_type": "display_data",
          "data": {
            "text/plain": [
              "VBox(children=(Label(value='0.001 MB of 0.001 MB uploaded (0.000 MB deduped)\\r'), FloatProgress(value=1.0, max…"
            ],
            "application/vnd.jupyter.widget-view+json": {
              "version_major": 2,
              "version_minor": 0,
              "model_id": "4a272647f7ca494d95bb22c04948d5fa"
            }
          },
          "metadata": {}
        },
        {
          "output_type": "display_data",
          "data": {
            "text/plain": [
              "<IPython.core.display.HTML object>"
            ],
            "text/html": [
              "<style>\n",
              "    table.wandb td:nth-child(1) { padding: 0 10px; text-align: left ; width: auto;} td:nth-child(2) {text-align: left ; width: 100%}\n",
              "    .wandb-row { display: flex; flex-direction: row; flex-wrap: wrap; justify-content: flex-start; width: 100% }\n",
              "    .wandb-col { display: flex; flex-direction: column; flex-basis: 100%; flex: 1; padding: 10px; }\n",
              "    </style>\n",
              "<div class=\"wandb-row\"><div class=\"wandb-col\"><h3>Run history:</h3><br/><table class=\"wandb\"><tr><td>LSTM train accuracy</td><td>▁▃▅▇▇▇▇▇████████████</td></tr><tr><td>LSTM validation accuracy</td><td>▁▄▆▆▆▆▇▇▇▇▇▇████████</td></tr></table><br/></div><div class=\"wandb-col\"><h3>Run summary:</h3><br/><table class=\"wandb\"><tr><td>LSTM train accuracy</td><td>0.23868</td></tr><tr><td>LSTM validation accuracy</td><td>0.25351</td></tr></table><br/></div></div>"
            ]
          },
          "metadata": {}
        },
        {
          "output_type": "display_data",
          "data": {
            "text/plain": [
              "<IPython.core.display.HTML object>"
            ],
            "text/html": [
              " View run <strong style=\"color:#cdcd00\">h_dim=100, dropout=0.2, mean=False, layers=1, SGD</strong> at: <a href='https://wandb.ai/tarajadidi/Deep%20NLP%2C%20Final/runs/jcb5cz5h' target=\"_blank\">https://wandb.ai/tarajadidi/Deep%20NLP%2C%20Final/runs/jcb5cz5h</a><br/>Synced 5 W&B file(s), 0 media file(s), 0 artifact file(s) and 0 other file(s)"
            ]
          },
          "metadata": {}
        },
        {
          "output_type": "display_data",
          "data": {
            "text/plain": [
              "<IPython.core.display.HTML object>"
            ],
            "text/html": [
              "Find logs at: <code>./wandb/run-20230601_173417-jcb5cz5h/logs</code>"
            ]
          },
          "metadata": {}
        },
        {
          "output_type": "display_data",
          "data": {
            "text/plain": [
              "<IPython.core.display.HTML object>"
            ],
            "text/html": [
              "Successfully finished last run (ID:jcb5cz5h). Initializing new run:<br/>"
            ]
          },
          "metadata": {}
        },
        {
          "output_type": "display_data",
          "data": {
            "text/plain": [
              "<IPython.core.display.HTML object>"
            ],
            "text/html": [
              "Tracking run with wandb version 0.15.3"
            ]
          },
          "metadata": {}
        },
        {
          "output_type": "display_data",
          "data": {
            "text/plain": [
              "<IPython.core.display.HTML object>"
            ],
            "text/html": [
              "Run data is saved locally in <code>/content/wandb/run-20230601_173544-12lrq45e</code>"
            ]
          },
          "metadata": {}
        },
        {
          "output_type": "display_data",
          "data": {
            "text/plain": [
              "<IPython.core.display.HTML object>"
            ],
            "text/html": [
              "Syncing run <strong><a href='https://wandb.ai/tarajadidi/Deep%20NLP%2C%20Final/runs/12lrq45e' target=\"_blank\">h_dim=100, dropout=0.5, mean=False, layers=1, Adam</a></strong> to <a href='https://wandb.ai/tarajadidi/Deep%20NLP%2C%20Final' target=\"_blank\">Weights & Biases</a> (<a href='https://wandb.me/run' target=\"_blank\">docs</a>)<br/>"
            ]
          },
          "metadata": {}
        },
        {
          "output_type": "display_data",
          "data": {
            "text/plain": [
              "<IPython.core.display.HTML object>"
            ],
            "text/html": [
              " View project at <a href='https://wandb.ai/tarajadidi/Deep%20NLP%2C%20Final' target=\"_blank\">https://wandb.ai/tarajadidi/Deep%20NLP%2C%20Final</a>"
            ]
          },
          "metadata": {}
        },
        {
          "output_type": "display_data",
          "data": {
            "text/plain": [
              "<IPython.core.display.HTML object>"
            ],
            "text/html": [
              " View run at <a href='https://wandb.ai/tarajadidi/Deep%20NLP%2C%20Final/runs/12lrq45e' target=\"_blank\">https://wandb.ai/tarajadidi/Deep%20NLP%2C%20Final/runs/12lrq45e</a>"
            ]
          },
          "metadata": {}
        },
        {
          "output_type": "stream",
          "name": "stdout",
          "text": [
            "Epoch------- 0\n",
            "Average val accuray 0.49207357859531775\n",
            "Average train accuray 0.3332510288065846\n",
            "Average loss tensor(1.7261)\n",
            "Epoch------- 1\n",
            "Average val accuray 0.44787625418060195\n",
            "Average train accuray 0.4915226337448559\n",
            "Average loss tensor(1.7190)\n",
            "Epoch------- 2\n",
            "Average val accuray 0.5729765886287624\n",
            "Average train accuray 0.5385185185185187\n",
            "Average loss tensor(1.4353)\n",
            "Epoch------- 3\n",
            "Average val accuray 0.576220735785953\n",
            "Average train accuray 0.5913580246913581\n",
            "Average loss tensor(1.4075)\n",
            "Epoch------- 4\n",
            "Average val accuray 0.62628762541806\n",
            "Average train accuray 0.6240329218106998\n",
            "Average loss tensor(1.2746)\n",
            "Epoch------- 5\n",
            "Average val accuray 0.6469565217391302\n",
            "Average train accuray 0.666913580246914\n",
            "Average loss tensor(1.2094)\n",
            "Epoch------- 6\n",
            "Average val accuray 0.6717056856187291\n",
            "Average train accuray 0.695144032921811\n",
            "Average loss tensor(1.1544)\n",
            "Epoch------- 7\n",
            "Average val accuray 0.6365384615384614\n",
            "Average train accuray 0.6883127572016459\n",
            "Average loss tensor(1.2824)\n",
            "Epoch------- 8\n",
            "Average val accuray 0.6569565217391303\n",
            "Average train accuray 0.692839506172839\n",
            "Average loss tensor(1.2256)\n",
            "Epoch------- 9\n",
            "Average val accuray 0.655802675585284\n",
            "Average train accuray 0.7053497942386834\n",
            "Average loss tensor(1.2000)\n",
            "Epoch------- 10\n",
            "Average val accuray 0.6646153846153845\n",
            "Average train accuray 0.7172016460905348\n",
            "Average loss tensor(1.1927)\n",
            "Epoch------- 11\n",
            "Average val accuray 0.671153846153846\n",
            "Average train accuray 0.7260905349794238\n",
            "Average loss tensor(1.1829)\n",
            "Epoch------- 12\n",
            "Average val accuray 0.6715719063545147\n",
            "Average train accuray 0.7348971193415637\n",
            "Average loss tensor(1.1744)\n",
            "Epoch------- 13\n",
            "Average val accuray 0.6766722408026754\n",
            "Average train accuray 0.7403292181069965\n",
            "Average loss tensor(1.1585)\n",
            "Epoch------- 14\n",
            "Average val accuray 0.6831772575250835\n",
            "Average train accuray 0.7480658436213994\n",
            "Average loss tensor(1.1578)\n",
            "Epoch------- 15\n",
            "Average val accuray 0.6842976588628761\n",
            "Average train accuray 0.7534979423868317\n",
            "Average loss tensor(1.1418)\n",
            "Epoch------- 16\n",
            "Average val accuray 0.6858361204013376\n",
            "Average train accuray 0.7615637860082305\n",
            "Average loss tensor(1.1598)\n",
            "Epoch------- 17\n",
            "Average val accuray 0.6777257525083612\n",
            "Average train accuray 0.7661728395061731\n",
            "Average loss tensor(1.1605)\n",
            "Epoch------- 18\n",
            "Average val accuray 0.6881772575250836\n",
            "Average train accuray 0.770699588477366\n",
            "Average loss tensor(1.1727)\n",
            "Epoch------- 19\n",
            "Average val accuray 0.6808361204013376\n",
            "Average train accuray 0.7774485596707822\n",
            "Average loss tensor(1.1576)\n"
          ]
        }
      ],
      "source": [
        "dropout = 0.5\n",
        "\n",
        "rnn_model_var2_dropout = ClassificationRNNModel(embedding, h_dim=hidden_dim, dropout=dropout,mean=mean)\n",
        "rnn_model_var2_dropout.to(device)\n",
        "optimizer = Adam(rnn_model_var2_dropout.parameters(), lr=lr)\n",
        "\n",
        "params = 'h_dim=100, dropout=0.5, mean=False, layers=1, Adam'\n",
        "\n",
        "basic_val_acc, basic_train_acc = train_model(n_epochs, rnn_model_var2_dropout,batches,optimizer, params)\n",
        "\n",
        "rnn_acc['var_2_2'] = {}\n",
        "rnn_acc['var_2_2']['val'] = basic_val_acc\n",
        "rnn_acc['var_2_2']['train'] = basic_train_acc"
      ]
    },
    {
      "cell_type": "markdown",
      "source": [
        "Let's try a larger hidden dimention combined with a high dropout rate:"
      ],
      "metadata": {
        "id": "I8RQfkg-WdaL"
      }
    },
    {
      "cell_type": "code",
      "source": [
        "dropout = 0.5\n",
        "hidden_dim = 500\n",
        "rnn_model_var2_dropout = ClassificationRNNModel(embedding, h_dim=hidden_dim, dropout=dropout,mean=mean)\n",
        "rnn_model_var2_dropout.to(device)\n",
        "optimizer = Adam(rnn_model_var2_dropout.parameters(), lr=lr)\n",
        "\n",
        "params = 'h_dim=500, dropout=0.5, mean=False, layers=1, Adam'\n",
        "\n",
        "basic_val_acc, basic_train_acc = train_model(n_epochs, rnn_model_var2_dropout,batches,optimizer,params)\n",
        "\n",
        "rnn_acc['var_2_3'] = {}\n",
        "rnn_acc['var_2_3']['val'] = basic_val_acc\n",
        "rnn_acc['var_2_3']['train'] = basic_train_acc"
      ],
      "metadata": {
        "colab": {
          "base_uri": "https://localhost:8080/",
          "height": 1000,
          "referenced_widgets": [
            "27dd4657e2624639be5b692a9e8baf95",
            "85b26c6e9d0e4989b040c2cc0be9a948",
            "49cd2be7484a4a7baee062df205bcb81",
            "c3449b286ed44e938ff96c3d68ba8a0e",
            "3198b9ca6daa41a38e7e7e5d57ad2aba",
            "f199c7d2f5b341da8cfb76ccd1ea5230",
            "9251449046594215abb8a46b4079828d",
            "811628a7e5004980a85dc0179a7138e9"
          ]
        },
        "id": "Q1v31M6lcd11",
        "outputId": "4c6d2a3a-02bb-44a2-ebb4-71a4f32263fd"
      },
      "execution_count": null,
      "outputs": [
        {
          "output_type": "display_data",
          "data": {
            "text/plain": [
              "<IPython.core.display.HTML object>"
            ],
            "text/html": [
              "Finishing last run (ID:12lrq45e) before initializing another..."
            ]
          },
          "metadata": {}
        },
        {
          "output_type": "display_data",
          "data": {
            "text/plain": [
              "<IPython.core.display.HTML object>"
            ],
            "text/html": [
              "Waiting for W&B process to finish... <strong style=\"color:green\">(success).</strong>"
            ]
          },
          "metadata": {}
        },
        {
          "output_type": "display_data",
          "data": {
            "text/plain": [
              "VBox(children=(Label(value='0.001 MB of 0.001 MB uploaded (0.000 MB deduped)\\r'), FloatProgress(value=1.0, max…"
            ],
            "application/vnd.jupyter.widget-view+json": {
              "version_major": 2,
              "version_minor": 0,
              "model_id": "27dd4657e2624639be5b692a9e8baf95"
            }
          },
          "metadata": {}
        },
        {
          "output_type": "display_data",
          "data": {
            "text/plain": [
              "<IPython.core.display.HTML object>"
            ],
            "text/html": [
              "<style>\n",
              "    table.wandb td:nth-child(1) { padding: 0 10px; text-align: left ; width: auto;} td:nth-child(2) {text-align: left ; width: 100%}\n",
              "    .wandb-row { display: flex; flex-direction: row; flex-wrap: wrap; justify-content: flex-start; width: 100% }\n",
              "    .wandb-col { display: flex; flex-direction: column; flex-basis: 100%; flex: 1; padding: 10px; }\n",
              "    </style>\n",
              "<div class=\"wandb-row\"><div class=\"wandb-col\"><h3>Run history:</h3><br/><table class=\"wandb\"><tr><td>LSTM train accuracy</td><td>▁▃▄▅▆▆▇▇▇▇▇▇▇▇██████</td></tr><tr><td>LSTM validation accuracy</td><td>▂▁▅▅▆▇█▆▇▇▇█████████</td></tr></table><br/></div><div class=\"wandb-col\"><h3>Run summary:</h3><br/><table class=\"wandb\"><tr><td>LSTM train accuracy</td><td>0.77745</td></tr><tr><td>LSTM validation accuracy</td><td>0.68084</td></tr></table><br/></div></div>"
            ]
          },
          "metadata": {}
        },
        {
          "output_type": "display_data",
          "data": {
            "text/plain": [
              "<IPython.core.display.HTML object>"
            ],
            "text/html": [
              " View run <strong style=\"color:#cdcd00\">h_dim=100, dropout=0.5, mean=False, layers=1, Adam</strong> at: <a href='https://wandb.ai/tarajadidi/Deep%20NLP%2C%20Final/runs/12lrq45e' target=\"_blank\">https://wandb.ai/tarajadidi/Deep%20NLP%2C%20Final/runs/12lrq45e</a><br/>Synced 5 W&B file(s), 0 media file(s), 0 artifact file(s) and 0 other file(s)"
            ]
          },
          "metadata": {}
        },
        {
          "output_type": "display_data",
          "data": {
            "text/plain": [
              "<IPython.core.display.HTML object>"
            ],
            "text/html": [
              "Find logs at: <code>./wandb/run-20230601_173544-12lrq45e/logs</code>"
            ]
          },
          "metadata": {}
        },
        {
          "output_type": "display_data",
          "data": {
            "text/plain": [
              "<IPython.core.display.HTML object>"
            ],
            "text/html": [
              "Successfully finished last run (ID:12lrq45e). Initializing new run:<br/>"
            ]
          },
          "metadata": {}
        },
        {
          "output_type": "display_data",
          "data": {
            "text/plain": [
              "<IPython.core.display.HTML object>"
            ],
            "text/html": [
              "Tracking run with wandb version 0.15.3"
            ]
          },
          "metadata": {}
        },
        {
          "output_type": "display_data",
          "data": {
            "text/plain": [
              "<IPython.core.display.HTML object>"
            ],
            "text/html": [
              "Run data is saved locally in <code>/content/wandb/run-20230601_173703-orrm5n0d</code>"
            ]
          },
          "metadata": {}
        },
        {
          "output_type": "display_data",
          "data": {
            "text/plain": [
              "<IPython.core.display.HTML object>"
            ],
            "text/html": [
              "Syncing run <strong><a href='https://wandb.ai/tarajadidi/Deep%20NLP%2C%20Final/runs/orrm5n0d' target=\"_blank\">h_dim=500, dropout=0.5, mean=False, layers=1, Adam</a></strong> to <a href='https://wandb.ai/tarajadidi/Deep%20NLP%2C%20Final' target=\"_blank\">Weights & Biases</a> (<a href='https://wandb.me/run' target=\"_blank\">docs</a>)<br/>"
            ]
          },
          "metadata": {}
        },
        {
          "output_type": "display_data",
          "data": {
            "text/plain": [
              "<IPython.core.display.HTML object>"
            ],
            "text/html": [
              " View project at <a href='https://wandb.ai/tarajadidi/Deep%20NLP%2C%20Final' target=\"_blank\">https://wandb.ai/tarajadidi/Deep%20NLP%2C%20Final</a>"
            ]
          },
          "metadata": {}
        },
        {
          "output_type": "display_data",
          "data": {
            "text/plain": [
              "<IPython.core.display.HTML object>"
            ],
            "text/html": [
              " View run at <a href='https://wandb.ai/tarajadidi/Deep%20NLP%2C%20Final/runs/orrm5n0d' target=\"_blank\">https://wandb.ai/tarajadidi/Deep%20NLP%2C%20Final/runs/orrm5n0d</a>"
            ]
          },
          "metadata": {}
        },
        {
          "output_type": "stream",
          "name": "stdout",
          "text": [
            "Epoch------- 0\n",
            "Average val accuray 0.31428093645484967\n",
            "Average train accuray 0.2977777777777778\n",
            "Average loss tensor(1.9846)\n",
            "Epoch------- 1\n",
            "Average val accuray 0.4659197324414717\n",
            "Average train accuray 0.3841152263374486\n",
            "Average loss tensor(1.6888)\n",
            "Epoch------- 2\n",
            "Average val accuray 0.4845819397993311\n",
            "Average train accuray 0.4844444444444444\n",
            "Average loss tensor(1.6565)\n",
            "Epoch------- 3\n",
            "Average val accuray 0.5785953177257525\n",
            "Average train accuray 0.5558024691358027\n",
            "Average loss tensor(1.4222)\n",
            "Epoch------- 4\n",
            "Average val accuray 0.6039799331103679\n",
            "Average train accuray 0.6027160493827156\n",
            "Average loss tensor(1.3289)\n",
            "Epoch------- 5\n",
            "Average val accuray 0.5257357859531774\n",
            "Average train accuray 0.6359670781893005\n",
            "Average loss tensor(1.5994)\n",
            "Epoch------- 6\n",
            "Average val accuray 0.6393645484949831\n",
            "Average train accuray 0.6520164609053498\n",
            "Average loss tensor(1.2379)\n",
            "Epoch------- 7\n",
            "Average val accuray 0.6590133779264213\n",
            "Average train accuray 0.6847736625514408\n",
            "Average loss tensor(1.1836)\n",
            "Epoch------- 8\n",
            "Average val accuray 0.6651672240802676\n",
            "Average train accuray 0.7082304526748968\n",
            "Average loss tensor(1.1754)\n",
            "Epoch------- 9\n",
            "Average val accuray 0.66814381270903\n",
            "Average train accuray 0.7253497942386834\n",
            "Average loss tensor(1.2215)\n",
            "Epoch------- 10\n",
            "Average val accuray 0.6774414715719062\n",
            "Average train accuray 0.740411522633745\n",
            "Average loss tensor(1.2031)\n",
            "Epoch------- 11\n",
            "Average val accuray 0.6728260869565218\n",
            "Average train accuray 0.7678189300411526\n",
            "Average loss tensor(1.1962)\n",
            "Epoch------- 12\n",
            "Average val accuray 0.6678260869565218\n",
            "Average train accuray 0.7798353909465028\n",
            "Average loss tensor(1.1796)\n"
          ]
        }
      ]
    },
    {
      "cell_type": "markdown",
      "metadata": {
        "id": "lk7umE-0q3PP"
      },
      "source": [
        "Finally, for the third variation we reset the dropout rate and use the mean of the hidden layers:"
      ]
    },
    {
      "cell_type": "code",
      "execution_count": null,
      "metadata": {
        "id": "BzBzT7ZOq988"
      },
      "outputs": [],
      "source": [
        "dropout = 0.2\n",
        "hidden_dim = 100\n",
        "mean = True\n",
        "\n",
        "rnn_model_var3_mean = ClassificationRNNModel(embedding, h_dim=hidden_dim, dropout=dropout,mean=mean)\n",
        "rnn_model_var3_mean.to(device)\n",
        "optimizer = Adam(rnn_model_var3_mean.parameters(), lr=lr)\n",
        "\n",
        "params = 'h_dim=100, dropout=0.2, mean=True, layers=1, Adam'\n",
        "\n",
        "\n",
        "basic_val_acc, basic_train_acc = train_model(n_epochs, rnn_model_var3_mean,batches,optimizer, params)\n",
        "\n",
        "rnn_acc['var_3'] = {}\n",
        "rnn_acc['var_3']['val'] = basic_val_acc\n",
        "rnn_acc['var_3']['train'] = basic_train_acc"
      ]
    },
    {
      "cell_type": "code",
      "source": [
        "y = [i for i in range(0,20)]\n",
        "names = {}\n",
        "names['basic'] = 'h_dim=100, dropout=0.2, mean=False, layers=1, Adam'\n",
        "names['basic2'] = 'h_dim=100, dropout=0.2, mean=False, layers=3, Adam'\n",
        "names['var_1_1'] = 'h_dim=20, dropout=0.2, mean=False, layers=1, Adam'\n",
        "names['var_1_2'] = 'h_dim=300, dropout=0.2, mean=False, layers=1, Adam'\n",
        "names['var_1_3'] = 'h_dim=500, dropout=0.2, mean=False, layers=1, Adam'\n",
        "names['var_2_1'] = 'h_dim=100, dropout=0.2, mean=False, layers=1, SGD'\n",
        "names['var_2_2'] = 'h_dim=100, dropout=0.5, mean=False, layers=1, Adam'\n",
        "names['var_2_3'] = 'h_dim=500, dropout=0.5, mean=False, layers=1, Adam'\n",
        "names['var_3'] = 'h_dim=100, dropout=0.2, mean=True, layers=1, Adam'\n",
        "for key in rnn_acc:\n",
        "    plt.title('{}'.format(names[key]))\n",
        "    plt.plot(y,rnn_acc[key]['train'])\n",
        "    plt.plot(y,rnn_acc[key]['val'])\n",
        "    plt.show()"
      ],
      "metadata": {
        "id": "ApflgtcVTqEq"
      },
      "execution_count": null,
      "outputs": []
    },
    {
      "cell_type": "code",
      "source": [
        "n_epochs = 50\n",
        "lr = 1e-4\n",
        "basic_rnn_model2 = ClassificationRNNModel(embedding, h_dim=500, dropout=0.5,mean=True,rnn_layers=3)\n",
        "basic_rnn_model2.to(device)\n",
        "optimizer = Adam(basic_rnn_model2.parameters(), lr=lr)\n",
        "basic_val_acc, basic_train_acc = train_model(n_epochs, basic_rnn_model2,batches,optimizer)\n",
        "\n",
        "rnn_acc['combined'] = {}\n",
        "rnn_acc['combined']['val'] = basic_val_acc\n",
        "rnn_acc['combined']['train'] = basic_train_acc"
      ],
      "metadata": {
        "id": "OK-nZqhLVa0i"
      },
      "execution_count": null,
      "outputs": []
    },
    {
      "cell_type": "code",
      "source": [
        "#Average accuray in the test dataset\n",
        "\n",
        "def calculate_test_accuracy(batches,model):\n",
        "  model.eval()\n",
        "  test_accs = []\n",
        "\n",
        "  for idx,batch in enumerate(batches['test']):\n",
        "      batch = torch.FloatTensor(batch)\n",
        "      batch[batch == -1] = 30370\n",
        "      batch = torch.Tensor(batch).to(device)\n",
        "      output = model(torch.Tensor(batch))\n",
        "      true_labels = torch.Tensor(batches['test_labels'][idx]).type(torch.int64)\n",
        "      true_labels = true_labels.to(device)\n",
        "      loss = loss_fn(output,true_labels)\n",
        "      acc = (output.argmax(dim=1) == true_labels).sum().item()\n",
        "      test_accs.append(acc/len(true_labels))\n",
        "\n",
        "  avg_acc = sum(test_accs)/len(test_accs)\n",
        "  return avg_acc\n",
        "\n",
        "print(\"Test accuracy for Basic model with 3 layers\", calculate_test_accuracy(batches,basic_rnn_model2))\n",
        "print(\"Test accuracy for basic dot product with no rnn model\", calculate_test_accuracy(batches,rnn_model_var1_low))\n",
        "print(\"Test accuracy for attentive addition model\", calculate_test_accuracy(batches,add_attn_model))"
      ],
      "metadata": {
        "id": "C6wvTA-OBIQD"
      },
      "execution_count": null,
      "outputs": []
    },
    {
      "cell_type": "markdown",
      "metadata": {
        "id": "R43LZktXmXVp"
      },
      "source": [
        "<a name=\"section-classification-attention\"></a><h2 style=\"color:rgb(0,120,170)\">Task C: Document Classification with Attention (15 points)</h2>"
      ]
    },
    {
      "cell_type": "code",
      "source": [
        "import pandas as pd\n",
        "names['combined'] = 'h_dim=500, dropout=0.5, mean=True, layers=3, Adam'\n",
        "best_per_setting = {}\n",
        "for key in rnn_acc:\n",
        "    best_per_setting[names[key]] = {}\n",
        "    best_per_setting[names[key]]['train'] = np.max(rnn_acc[key]['train'])\n",
        "    best_per_setting[names[key]]['val'] = np.max(rnn_acc[key]['val'])\n",
        "df = pd.DataFrame.from_dict(best_per_setting, orient='index').reset_index(drop=False)\n",
        "print(df.to_markdown(index=False))"
      ],
      "metadata": {
        "colab": {
          "base_uri": "https://localhost:8080/"
        },
        "id": "PsAQ4eMKdLIO",
        "outputId": "4a5cee7c-5ded-4fc9-8039-6fc8856ce1d5"
      },
      "execution_count": null,
      "outputs": [
        {
          "output_type": "stream",
          "name": "stdout",
          "text": [
            "| index                                              |    train |      val |\n",
            "|:---------------------------------------------------|---------:|---------:|\n",
            "| h_dim=100, dropout=0.2, mean=False, layers=1, Adam | 0.915556 | 0.704047 |\n",
            "| h_dim=100, dropout=0.2, mean=False, layers=3, Adam | 0.897778 | 0.736104 |\n",
            "| h_dim=20, dropout=0.2, mean=False, layers=1, Adam  | 0.768148 | 0.695167 |\n",
            "| h_dim=300, dropout=0.2, mean=False, layers=1, Adam | 0.96963  | 0.706003 |\n",
            "| h_dim=500, dropout=0.2, mean=False, layers=1, Adam | 0.978107 | 0.694431 |\n",
            "| h_dim=100, dropout=0.2, mean=False, layers=1, SGD  | 0.227243 | 0.250686 |\n",
            "| h_dim=100, dropout=0.5, mean=False, layers=1, Adam | 0.848313 | 0.713244 |\n",
            "| h_dim=500, dropout=0.5, mean=False, layers=1, Adam | 0.958107 | 0.699431 |\n",
            "| h_dim=100, dropout=0.2, mean=True, layers=1, Adam  | 0.904774 | 0.697308 |\n",
            "| h_dim=500, dropout=0.5, mean=True, layers=3, Adam  | 0.891852 | 0.693946 |\n"
          ]
        }
      ]
    },
    {
      "cell_type": "markdown",
      "metadata": {
        "id": "IoAcrSpGmXVq"
      },
      "source": [
        "<div style=\"background-color:rgb(224, 243, 255)\">\n",
        "    \n",
        "This task implements a document classification model using Attention networks. The model is called **`ClassificationAttentionModel`** in the code, containing all various variants as explained later. The basic architecture of `ClassificationAttentionModel` is shown in the figure below.\n",
        "\n",
        "<img src=\"attachment:att_model.png\" alt=\"Drawing\" style=\"width: 290px;\"/>\n",
        "\n",
        "The implementation of the basic architecture of `ClassificationAttentionModel` should cover the following points:\n",
        "\n",
        "**Baseline model**  \n",
        "\n",
        "- **Embeddings & RNN Layer (1 points).** The baseline model first fetches the corresponding embeddings of the word IDs of a given batch. Next, a bidirectional LSTM/GRU layer is applied to the word embeddings. The hidden states of this RNN model can be seen as the contextual embeddings of the underlying word embeddings, and will be used in the next layer instead of the original word embeddings.\n",
        "\n",
        "- **Attention Layer (4 points).** This Attention layer should be implemented by you from scratch without using any specific library/class. Here, you implement the baseline Attention layer following the formulation of the (single-head) **basic dot-product Attention**. In this model, Query vector is defined in the model's initialization as *a vector of learnable parameters*, whose values are learned together with the other model's parameters during training. The hidden states of the previous layer are passed as the values (and keys) to the Attention layer, where the Query vector is the query of the Attention. An important point in the forward pass of the Attention layer is correctly setting the padding masks, which mask out the attention weights of the padded tokens of each batch. The masks excludes the corresponding vectors of these padded tokens from the calculations in Attention. If the mask is not passed correctly, the padded items will be counted in the Softmax of the Attention layer, and influence other attention weights. A sign that the baseline model is working correctly is that the final attention weights of the corresponding vectors of the padded tokens are equal to zero. \n",
        "\n",
        "- **Prediction Layer (1 points).** The output of the Attention layer for each batch is the corresponding document embedding, passed to the decoder layer (a linear projection) and softmax to predict the probability distribution of the output classes.\n",
        "\n",
        "- **General model functionality (1 points).** \n",
        "\n",
        "\n",
        "**Model variations:** Implement the **two variations** of the baseline model as explained below. Each variation applies only one change to the baseline architecture, making it possible to study the effect of the change. The code of all variations should be inside `ClassificationAttentionModel`, and executing a variation should be done by simply passing the corresponding parameters of the variation to the model. \n",
        "\n",
        "- **No RNN (1 point).** Run the model without the RNN layer.\n",
        "\n",
        "- **Another attention variation (1 point).** Implement another type of single-head Attention other than basic dot-product.\n",
        "\n",
        "**Reporting and discussion (1 point).** Report the evaluation results of the baseline model, as well as the ones for all the variations in a table and also in a plot. Discuss which variation(s) appear to be the most effective. Explain your take.\n",
        "\n",
        "\n",
        "</div>"
      ]
    },
    {
      "cell_type": "code",
      "execution_count": 27,
      "metadata": {
        "colab": {
          "base_uri": "https://localhost:8080/"
        },
        "id": "ivgBtNgFs0HB",
        "outputId": "611536f9-9b65-4d29-d8ed-e44d914aee9b"
      },
      "outputs": [
        {
          "output_type": "execute_result",
          "data": {
            "text/plain": [
              "device(type='cuda')"
            ]
          },
          "metadata": {},
          "execution_count": 27
        }
      ],
      "source": [
        "#use cuda if feasible \n",
        "device = torch.device('cuda' if torch.cuda.is_available() else 'cpu')\n",
        "device"
      ]
    },
    {
      "cell_type": "code",
      "execution_count": 28,
      "metadata": {
        "id": "M4FfWY52ONM-"
      },
      "outputs": [],
      "source": [
        "#download and load word2vec embeddings\n",
        "import gensim.downloader\n",
        "import numpy as np\n",
        "\n",
        "model = gensim.downloader.load('word2vec-google-news-300')\n",
        "\n",
        "# #creating embeddings\n",
        "emb_size = len(model['apple'])\n",
        "embeddings = []\n",
        "not_in_model = []\n",
        "for idx in range(len(reduced_dictionary)):\n",
        "    try:\n",
        "        embeddings.append(model[reduced_dictionary[idx]])\n",
        "    except:\n",
        "        embeddings.append(np.random.uniform(low=-1.0, high=1.0, size=emb_size))\n",
        "        not_in_model.append(reduced_dictionary[idx])\n",
        "\n",
        "#embedding for padding\n",
        "embeddings.append(np.random.uniform(low=-1.0, high=1.0, size=emb_size))\n",
        "\n",
        "#making an embedding look-up\n",
        "weights = torch.FloatTensor(embeddings)\n",
        "torch_embedding = torch.nn.Embedding.from_pretrained(weights)\n",
        "\n",
        "\n"
      ]
    },
    {
      "cell_type": "code",
      "execution_count": 29,
      "metadata": {
        "id": "SMT4EXZUjIz6"
      },
      "outputs": [],
      "source": [
        "# #load embeddings from weights\n",
        "# #30371 : 30370 size of dictionary and 1 for paddings\n",
        "# torch_embedding = torch.nn.Embedding(30371,300)\n",
        "# torch_embedding.load_state_dict(torch.load(\"/content/embedding.pth\"))"
      ]
    },
    {
      "cell_type": "code",
      "execution_count": 28,
      "metadata": {
        "id": "DXl_6AK7mXVq"
      },
      "outputs": [],
      "source": [
        "import torch\n",
        "import torch.nn as nn\n",
        "\n",
        "#Cllassification Attention Model\n",
        "\n",
        "class ClassificationAttentionModel(nn.Module):\n",
        "    def __init__(self, embedding, embedding_dim, hidden_dim, num_classes, rnn_switch, additive_attention):\n",
        "        super(ClassificationAttentionModel, self).__init__()\n",
        "\n",
        "        #parameter to use LSTM RNN or not\n",
        "        self.rnn_switch = rnn_switch\n",
        "\n",
        "        #parameter to use additive attention instead of basic dot product\n",
        "        self.additive_attention = additive_attention\n",
        "\n",
        "        # Word embeddings layer\n",
        "        self.embeddings = embedding\n",
        "        \n",
        "        # RNN layer\n",
        "        if self.rnn_switch:\n",
        "          self.rnn = nn.LSTM(embedding_dim, hidden_dim, bidirectional=True, batch_first=True)\n",
        "        else:\n",
        "          hidden_dim = embedding_dim\n",
        "\n",
        "        \n",
        "        \n",
        "        # Attention layer\n",
        "        self.query = nn.Parameter(torch.randn(hidden_dim)) # Query vector\n",
        "        self.softmax = nn.Softmax(dim=1) # Softmax activation function\n",
        "\n",
        "        #parameters for additive attention\n",
        "        if self.additive_attention:\n",
        "          self.W1 = nn.Linear(hidden_dim, hidden_dim, bias=False)\n",
        "          self.W2 =  nn.Linear(hidden_dim, hidden_dim, bias=False)\n",
        "          self.v = nn.Linear(hidden_dim, 1, bias=False)\n",
        "        \n",
        "        # Prediction layer\n",
        "        self.decoder = nn.Linear(hidden_dim, num_classes)\n",
        "        \n",
        "    def forward(self, inputs):\n",
        "        # Fetch word embeddings\n",
        "        embeddings = self.embeddings(inputs.type(torch.LongTensor).to(device))\n",
        "        \n",
        "        # Apply RNN layer and get hidden states\n",
        "        if self.rnn_switch:\n",
        "          rnn_output, _ = self.rnn(embeddings)\n",
        "          hidden_states = rnn_output[:, :, :hidden_dim] + rnn_output[:, :, hidden_dim:] # Sum the outputs of both directions of RNN\n",
        "\n",
        "        else:\n",
        "          #if no RNN layer\n",
        "          hidden_states = embeddings\n",
        "\n",
        "\n",
        "\n",
        "        if self.additive_attention:\n",
        "          # Calculate attention scores for additive attention\n",
        "          W_h = self.W1(hidden_states)\n",
        "          W_q = self.W2(self.query)\n",
        "          u = torch.tanh(W_h + W_q)\n",
        "          \n",
        "          attention_scores = self.v(u).squeeze(2)\n",
        "        else:\n",
        "          #apply basic dot product attention\n",
        "\n",
        "          \n",
        "          # Calculate attention weights\n",
        "          query = self.query.unsqueeze(0).expand(inputs.size(0), -1) #gives us (2,3) shape query\n",
        "          query = query.unsqueeze(2) # gives us 2x3x1 from 2x3 shape #s\n",
        "          \n",
        "          #batch matrix multiplication (bxnxm) x (bxmxp) gives (bxnxp)\n",
        "          attention_scores = torch.bmm(hidden_states, query).squeeze(2) # Dot product of hidden states and query\n",
        "\n",
        "\n",
        "        \n",
        "        #padding values shoudl be zero when calculating attention; no attention to padding\n",
        "        #30370 value for -1(padded) values\n",
        "        mask = (inputs != 30370).type(torch.float32) # Padding mask\n",
        "  \n",
        "        masked_score = attention_scores * mask # Apply mask\n",
        "    \n",
        "        #convert 0 to -1e9 so that the padded values attention weights will be 0\n",
        "        masked_score[masked_score == 0] = -1e9\n",
        "        \n",
        "\n",
        "    \n",
        "        attention_weights = self.softmax(masked_score)\n",
        "        # Softmax to get attention weights\n",
        "        \n",
        "        # Calculate document embeddings\n",
        "        #context vector : dot product of attention weights ,each time steps(words) gives us the context\n",
        "        #weighted sum of the hidden states: result (b*h)\n",
        "        context = torch.bmm(hidden_states.transpose(1, 2), attention_weights.unsqueeze(2)).squeeze(2) \n",
        "        outputs = self.decoder(context) # Linear projection\n",
        "        #outputs = nn.functional.softmax(outputs, dim=1) # Softmax to get output probabilities\n",
        "        \n",
        "        return outputs\n"
      ]
    },
    {
      "cell_type": "code",
      "execution_count": 29,
      "metadata": {
        "id": "F2u80GbkTDK4"
      },
      "outputs": [],
      "source": [
        "#function to train model \n",
        "def train_model(n_epochs, attn_model,batches,optimizer,params=''):\n",
        "  wandb.init(\n",
        "      # Set the project where this run will be logged\n",
        "      project=\"Deep NLP, Final\", \n",
        "      # We pass a run name (otherwise it’ll be randomly assigned, like sunshine-lollypop-10)\n",
        "      name=f\"{params}\", \n",
        "      # Track hyperparameters and run metadata\n",
        "      config={\n",
        "      \"model\": 'Attention Classifier',\n",
        "      \"n_epochs\": n_epochs\n",
        "      })\n",
        "  e_val_acc = []\n",
        "  e_train_acc = []\n",
        "  for epoch in range(n_epochs):\n",
        "\n",
        "      attn_model.train()\n",
        "      train_accs = []\n",
        "      for idx, batch in enumerate(batches['train']):\n",
        "          batch = torch.FloatTensor(batch)\n",
        "          # instead of -1 use 30370 index for padding\n",
        "          batch[batch == -1] = 30370\n",
        "          batch = torch.Tensor(batch).to(device)\n",
        "          output = attn_model(batch)\n",
        "          true_labels = torch.Tensor(batches['train_labels'][idx]).type(torch.int64)\n",
        "          true_labels = true_labels.to(device)\n",
        "          loss = loss_fn(output,true_labels)\n",
        "          acc = (output.argmax(dim=1) == true_labels).sum().item()\n",
        "          train_accs.append(acc/len(true_labels))\n",
        "          loss.backward()\n",
        "          optimizer.step()\n",
        "          optimizer.zero_grad()\n",
        "      \n",
        "      attn_model.eval()\n",
        "      val_accs = []\n",
        "      val_loss = []\n",
        "        \n",
        "      for idx,batch in enumerate(batches['validation']):\n",
        "          batch = torch.FloatTensor(batch)\n",
        "          batch[batch == -1] = 30370\n",
        "          batch = torch.Tensor(batch).to(device)\n",
        "          output = attn_model(batch)\n",
        "          true_labels = torch.Tensor(batches['validation_labels'][idx]).type(torch.int64)\n",
        "          true_labels = true_labels.to(device)\n",
        "          loss = loss_fn(output,true_labels)\n",
        "          acc = (output.argmax(dim=1) == true_labels).sum().item()\n",
        "          val_accs.append(acc/len(true_labels))\n",
        "          val_loss.append(loss)\n",
        "\n",
        "      val_avg_acc = sum(val_accs)/len(val_accs)\n",
        "      train_avg_acc =  sum(train_accs)/len(train_accs)\n",
        "      wandb.log({'ATT validation accuracy' : val_avg_acc})\n",
        "      wandb.log({'ATT train accuracy' : train_avg_acc})\n",
        "      print(\"Epoch-------\", epoch)\n",
        "      print(\"Average val accuray\", val_avg_acc)\n",
        "      print(\"Average train accuray\", train_avg_acc)\n",
        "      print(\"Average loss\", torch.mean(torch.Tensor(val_loss)))\n",
        "      e_val_acc.append(val_avg_acc)\n",
        "      e_train_acc.append(train_avg_acc)\n",
        "  return (e_val_acc, e_train_acc)"
      ]
    },
    {
      "cell_type": "code",
      "execution_count": 30,
      "metadata": {
        "colab": {
          "base_uri": "https://localhost:8080/",
          "height": 468
        },
        "id": "WvzOfU85mXVt",
        "outputId": "62317259-69a0-4e19-fe47-c4c37b41219c"
      },
      "outputs": [
        {
          "output_type": "display_data",
          "data": {
            "text/plain": [
              "<IPython.core.display.HTML object>"
            ],
            "text/html": [
              "Tracking run with wandb version 0.15.3"
            ]
          },
          "metadata": {}
        },
        {
          "output_type": "display_data",
          "data": {
            "text/plain": [
              "<IPython.core.display.HTML object>"
            ],
            "text/html": [
              "Run data is saved locally in <code>/content/wandb/run-20230601_170801-vepr65om</code>"
            ]
          },
          "metadata": {}
        },
        {
          "output_type": "display_data",
          "data": {
            "text/plain": [
              "<IPython.core.display.HTML object>"
            ],
            "text/html": [
              "Syncing run <strong><a href='https://wandb.ai/tarajadidi/Deep%20NLP%2C%20Final/runs/vepr65om' target=\"_blank\">embedding_dim = 300, hidden_dim = 25, lr = 1e-4, rnn_switch = True, additive_attention = False</a></strong> to <a href='https://wandb.ai/tarajadidi/Deep%20NLP%2C%20Final' target=\"_blank\">Weights & Biases</a> (<a href='https://wandb.me/run' target=\"_blank\">docs</a>)<br/>"
            ]
          },
          "metadata": {}
        },
        {
          "output_type": "display_data",
          "data": {
            "text/plain": [
              "<IPython.core.display.HTML object>"
            ],
            "text/html": [
              " View project at <a href='https://wandb.ai/tarajadidi/Deep%20NLP%2C%20Final' target=\"_blank\">https://wandb.ai/tarajadidi/Deep%20NLP%2C%20Final</a>"
            ]
          },
          "metadata": {}
        },
        {
          "output_type": "display_data",
          "data": {
            "text/plain": [
              "<IPython.core.display.HTML object>"
            ],
            "text/html": [
              " View run at <a href='https://wandb.ai/tarajadidi/Deep%20NLP%2C%20Final/runs/vepr65om' target=\"_blank\">https://wandb.ai/tarajadidi/Deep%20NLP%2C%20Final/runs/vepr65om</a>"
            ]
          },
          "metadata": {}
        },
        {
          "output_type": "error",
          "ename": "RuntimeError",
          "evalue": "ignored",
          "traceback": [
            "\u001b[0;31m---------------------------------------------------------------------------\u001b[0m",
            "\u001b[0;31mRuntimeError\u001b[0m                              Traceback (most recent call last)",
            "\u001b[0;32m<ipython-input-30-ec444fbcfb17>\u001b[0m in \u001b[0;36m<cell line: 24>\u001b[0;34m()\u001b[0m\n\u001b[1;32m     22\u001b[0m \u001b[0moptimizer\u001b[0m \u001b[0;34m=\u001b[0m \u001b[0mAdam\u001b[0m\u001b[0;34m(\u001b[0m\u001b[0mbasic_attn_model\u001b[0m\u001b[0;34m.\u001b[0m\u001b[0mparameters\u001b[0m\u001b[0;34m(\u001b[0m\u001b[0;34m)\u001b[0m\u001b[0;34m,\u001b[0m \u001b[0mlr\u001b[0m\u001b[0;34m=\u001b[0m\u001b[0mlr\u001b[0m\u001b[0;34m)\u001b[0m\u001b[0;34m\u001b[0m\u001b[0;34m\u001b[0m\u001b[0m\n\u001b[1;32m     23\u001b[0m \u001b[0;34m\u001b[0m\u001b[0m\n\u001b[0;32m---> 24\u001b[0;31m \u001b[0mbasic_val_acc\u001b[0m\u001b[0;34m,\u001b[0m \u001b[0mbasic_train_acc\u001b[0m \u001b[0;34m=\u001b[0m \u001b[0mtrain_model\u001b[0m\u001b[0;34m(\u001b[0m\u001b[0mn_epochs\u001b[0m\u001b[0;34m,\u001b[0m \u001b[0mbasic_attn_model\u001b[0m\u001b[0;34m,\u001b[0m\u001b[0mbatches\u001b[0m\u001b[0;34m,\u001b[0m\u001b[0moptimizer\u001b[0m\u001b[0;34m,\u001b[0m \u001b[0mparams\u001b[0m \u001b[0;34m=\u001b[0m \u001b[0mparams\u001b[0m\u001b[0;34m)\u001b[0m\u001b[0;34m\u001b[0m\u001b[0;34m\u001b[0m\u001b[0m\n\u001b[0m\u001b[1;32m     25\u001b[0m \u001b[0;34m\u001b[0m\u001b[0m\n\u001b[1;32m     26\u001b[0m \u001b[0mprint\u001b[0m\u001b[0;34m(\u001b[0m\u001b[0;34m'--------------------------------------------------------------------------------'\u001b[0m\u001b[0;34m)\u001b[0m\u001b[0;34m\u001b[0m\u001b[0;34m\u001b[0m\u001b[0m\n",
            "\u001b[0;32m<ipython-input-29-779e1f484432>\u001b[0m in \u001b[0;36mtrain_model\u001b[0;34m(n_epochs, attn_model, batches, optimizer, params)\u001b[0m\n\u001b[1;32m     22\u001b[0m           \u001b[0mbatch\u001b[0m\u001b[0;34m[\u001b[0m\u001b[0mbatch\u001b[0m \u001b[0;34m==\u001b[0m \u001b[0;34m-\u001b[0m\u001b[0;36m1\u001b[0m\u001b[0;34m]\u001b[0m \u001b[0;34m=\u001b[0m \u001b[0;36m30370\u001b[0m\u001b[0;34m\u001b[0m\u001b[0;34m\u001b[0m\u001b[0m\n\u001b[1;32m     23\u001b[0m           \u001b[0mbatch\u001b[0m \u001b[0;34m=\u001b[0m \u001b[0mtorch\u001b[0m\u001b[0;34m.\u001b[0m\u001b[0mTensor\u001b[0m\u001b[0;34m(\u001b[0m\u001b[0mbatch\u001b[0m\u001b[0;34m)\u001b[0m\u001b[0;34m.\u001b[0m\u001b[0mto\u001b[0m\u001b[0;34m(\u001b[0m\u001b[0mdevice\u001b[0m\u001b[0;34m)\u001b[0m\u001b[0;34m\u001b[0m\u001b[0;34m\u001b[0m\u001b[0m\n\u001b[0;32m---> 24\u001b[0;31m           \u001b[0moutput\u001b[0m \u001b[0;34m=\u001b[0m \u001b[0mattn_model\u001b[0m\u001b[0;34m(\u001b[0m\u001b[0mbatch\u001b[0m\u001b[0;34m)\u001b[0m\u001b[0;34m\u001b[0m\u001b[0;34m\u001b[0m\u001b[0m\n\u001b[0m\u001b[1;32m     25\u001b[0m           \u001b[0mtrue_labels\u001b[0m \u001b[0;34m=\u001b[0m \u001b[0mtorch\u001b[0m\u001b[0;34m.\u001b[0m\u001b[0mTensor\u001b[0m\u001b[0;34m(\u001b[0m\u001b[0mbatches\u001b[0m\u001b[0;34m[\u001b[0m\u001b[0;34m'train_labels'\u001b[0m\u001b[0;34m]\u001b[0m\u001b[0;34m[\u001b[0m\u001b[0midx\u001b[0m\u001b[0;34m]\u001b[0m\u001b[0;34m)\u001b[0m\u001b[0;34m.\u001b[0m\u001b[0mtype\u001b[0m\u001b[0;34m(\u001b[0m\u001b[0mtorch\u001b[0m\u001b[0;34m.\u001b[0m\u001b[0mint64\u001b[0m\u001b[0;34m)\u001b[0m\u001b[0;34m\u001b[0m\u001b[0;34m\u001b[0m\u001b[0m\n\u001b[1;32m     26\u001b[0m           \u001b[0mtrue_labels\u001b[0m \u001b[0;34m=\u001b[0m \u001b[0mtrue_labels\u001b[0m\u001b[0;34m.\u001b[0m\u001b[0mto\u001b[0m\u001b[0;34m(\u001b[0m\u001b[0mdevice\u001b[0m\u001b[0;34m)\u001b[0m\u001b[0;34m\u001b[0m\u001b[0;34m\u001b[0m\u001b[0m\n",
            "\u001b[0;32m/usr/local/lib/python3.10/dist-packages/torch/nn/modules/module.py\u001b[0m in \u001b[0;36m_call_impl\u001b[0;34m(self, *args, **kwargs)\u001b[0m\n\u001b[1;32m   1499\u001b[0m                 \u001b[0;32mor\u001b[0m \u001b[0m_global_backward_pre_hooks\u001b[0m \u001b[0;32mor\u001b[0m \u001b[0m_global_backward_hooks\u001b[0m\u001b[0;34m\u001b[0m\u001b[0;34m\u001b[0m\u001b[0m\n\u001b[1;32m   1500\u001b[0m                 or _global_forward_hooks or _global_forward_pre_hooks):\n\u001b[0;32m-> 1501\u001b[0;31m             \u001b[0;32mreturn\u001b[0m \u001b[0mforward_call\u001b[0m\u001b[0;34m(\u001b[0m\u001b[0;34m*\u001b[0m\u001b[0margs\u001b[0m\u001b[0;34m,\u001b[0m \u001b[0;34m**\u001b[0m\u001b[0mkwargs\u001b[0m\u001b[0;34m)\u001b[0m\u001b[0;34m\u001b[0m\u001b[0;34m\u001b[0m\u001b[0m\n\u001b[0m\u001b[1;32m   1502\u001b[0m         \u001b[0;31m# Do not call functions when jit is used\u001b[0m\u001b[0;34m\u001b[0m\u001b[0;34m\u001b[0m\u001b[0m\n\u001b[1;32m   1503\u001b[0m         \u001b[0mfull_backward_hooks\u001b[0m\u001b[0;34m,\u001b[0m \u001b[0mnon_full_backward_hooks\u001b[0m \u001b[0;34m=\u001b[0m \u001b[0;34m[\u001b[0m\u001b[0;34m]\u001b[0m\u001b[0;34m,\u001b[0m \u001b[0;34m[\u001b[0m\u001b[0;34m]\u001b[0m\u001b[0;34m\u001b[0m\u001b[0;34m\u001b[0m\u001b[0m\n",
            "\u001b[0;32m<ipython-input-28-792574b663e1>\u001b[0m in \u001b[0;36mforward\u001b[0;34m(self, inputs)\u001b[0m\n\u001b[1;32m     44\u001b[0m         \u001b[0;31m# Apply RNN layer and get hidden states\u001b[0m\u001b[0;34m\u001b[0m\u001b[0;34m\u001b[0m\u001b[0m\n\u001b[1;32m     45\u001b[0m         \u001b[0;32mif\u001b[0m \u001b[0mself\u001b[0m\u001b[0;34m.\u001b[0m\u001b[0mrnn_switch\u001b[0m\u001b[0;34m:\u001b[0m\u001b[0;34m\u001b[0m\u001b[0;34m\u001b[0m\u001b[0m\n\u001b[0;32m---> 46\u001b[0;31m           \u001b[0mrnn_output\u001b[0m\u001b[0;34m,\u001b[0m \u001b[0m_\u001b[0m \u001b[0;34m=\u001b[0m \u001b[0mself\u001b[0m\u001b[0;34m.\u001b[0m\u001b[0mrnn\u001b[0m\u001b[0;34m(\u001b[0m\u001b[0membeddings\u001b[0m\u001b[0;34m)\u001b[0m\u001b[0;34m\u001b[0m\u001b[0;34m\u001b[0m\u001b[0m\n\u001b[0m\u001b[1;32m     47\u001b[0m           \u001b[0mhidden_states\u001b[0m \u001b[0;34m=\u001b[0m \u001b[0mrnn_output\u001b[0m\u001b[0;34m[\u001b[0m\u001b[0;34m:\u001b[0m\u001b[0;34m,\u001b[0m \u001b[0;34m:\u001b[0m\u001b[0;34m,\u001b[0m \u001b[0;34m:\u001b[0m\u001b[0mhidden_dim\u001b[0m\u001b[0;34m]\u001b[0m \u001b[0;34m+\u001b[0m \u001b[0mrnn_output\u001b[0m\u001b[0;34m[\u001b[0m\u001b[0;34m:\u001b[0m\u001b[0;34m,\u001b[0m \u001b[0;34m:\u001b[0m\u001b[0;34m,\u001b[0m \u001b[0mhidden_dim\u001b[0m\u001b[0;34m:\u001b[0m\u001b[0;34m]\u001b[0m \u001b[0;31m# Sum the outputs of both directions of RNN\u001b[0m\u001b[0;34m\u001b[0m\u001b[0;34m\u001b[0m\u001b[0m\n\u001b[1;32m     48\u001b[0m \u001b[0;34m\u001b[0m\u001b[0m\n",
            "\u001b[0;32m/usr/local/lib/python3.10/dist-packages/torch/nn/modules/module.py\u001b[0m in \u001b[0;36m_call_impl\u001b[0;34m(self, *args, **kwargs)\u001b[0m\n\u001b[1;32m   1499\u001b[0m                 \u001b[0;32mor\u001b[0m \u001b[0m_global_backward_pre_hooks\u001b[0m \u001b[0;32mor\u001b[0m \u001b[0m_global_backward_hooks\u001b[0m\u001b[0;34m\u001b[0m\u001b[0;34m\u001b[0m\u001b[0m\n\u001b[1;32m   1500\u001b[0m                 or _global_forward_hooks or _global_forward_pre_hooks):\n\u001b[0;32m-> 1501\u001b[0;31m             \u001b[0;32mreturn\u001b[0m \u001b[0mforward_call\u001b[0m\u001b[0;34m(\u001b[0m\u001b[0;34m*\u001b[0m\u001b[0margs\u001b[0m\u001b[0;34m,\u001b[0m \u001b[0;34m**\u001b[0m\u001b[0mkwargs\u001b[0m\u001b[0;34m)\u001b[0m\u001b[0;34m\u001b[0m\u001b[0;34m\u001b[0m\u001b[0m\n\u001b[0m\u001b[1;32m   1502\u001b[0m         \u001b[0;31m# Do not call functions when jit is used\u001b[0m\u001b[0;34m\u001b[0m\u001b[0;34m\u001b[0m\u001b[0m\n\u001b[1;32m   1503\u001b[0m         \u001b[0mfull_backward_hooks\u001b[0m\u001b[0;34m,\u001b[0m \u001b[0mnon_full_backward_hooks\u001b[0m \u001b[0;34m=\u001b[0m \u001b[0;34m[\u001b[0m\u001b[0;34m]\u001b[0m\u001b[0;34m,\u001b[0m \u001b[0;34m[\u001b[0m\u001b[0;34m]\u001b[0m\u001b[0;34m\u001b[0m\u001b[0;34m\u001b[0m\u001b[0m\n",
            "\u001b[0;32m/usr/local/lib/python3.10/dist-packages/torch/nn/modules/rnn.py\u001b[0m in \u001b[0;36mforward\u001b[0;34m(self, input, hx)\u001b[0m\n\u001b[1;32m    810\u001b[0m         \u001b[0mself\u001b[0m\u001b[0;34m.\u001b[0m\u001b[0mcheck_forward_args\u001b[0m\u001b[0;34m(\u001b[0m\u001b[0minput\u001b[0m\u001b[0;34m,\u001b[0m \u001b[0mhx\u001b[0m\u001b[0;34m,\u001b[0m \u001b[0mbatch_sizes\u001b[0m\u001b[0;34m)\u001b[0m\u001b[0;34m\u001b[0m\u001b[0;34m\u001b[0m\u001b[0m\n\u001b[1;32m    811\u001b[0m         \u001b[0;32mif\u001b[0m \u001b[0mbatch_sizes\u001b[0m \u001b[0;32mis\u001b[0m \u001b[0;32mNone\u001b[0m\u001b[0;34m:\u001b[0m\u001b[0;34m\u001b[0m\u001b[0;34m\u001b[0m\u001b[0m\n\u001b[0;32m--> 812\u001b[0;31m             result = _VF.lstm(input, hx, self._flat_weights, self.bias, self.num_layers,\n\u001b[0m\u001b[1;32m    813\u001b[0m                               self.dropout, self.training, self.bidirectional, self.batch_first)\n\u001b[1;32m    814\u001b[0m         \u001b[0;32melse\u001b[0m\u001b[0;34m:\u001b[0m\u001b[0;34m\u001b[0m\u001b[0;34m\u001b[0m\u001b[0m\n",
            "\u001b[0;31mRuntimeError\u001b[0m: cuDNN error: CUDNN_STATUS_EXECUTION_FAILED"
          ]
        }
      ],
      "source": [
        "\n",
        "from torch.optim import Adam\n",
        "import torch.nn as nn\n",
        "\n",
        "n_epochs = 14\n",
        "lr = 1e-4\n",
        "loss_fn = nn.CrossEntropyLoss()\n",
        "vocab_size = len(reduced_dictionary) + 1 # +1 for the padded words are \n",
        "embedding_dim = 300\n",
        "hidden_dim = 25\n",
        "num_classes = 12\n",
        "embedding = torch_embedding\n",
        "\n",
        "batches = all_batches[5] # we are using batches from exercise 1 \n",
        "\n",
        "params = 'embedding_dim = 300, hidden_dim = 25, lr = 1e-4, rnn_switch = True, additive_attention = False'\n",
        "\n",
        "#training with basic dot product attention\n",
        "rnn_switch = True\n",
        "additive_attention = False\n",
        "basic_attn_model = ClassificationAttentionModel(embedding, embedding_dim, hidden_dim, num_classes, rnn_switch, additive_attention)\n",
        "basic_attn_model.to(device)\n",
        "optimizer = Adam(basic_attn_model.parameters(), lr=lr)\n",
        "\n",
        "basic_val_acc, basic_train_acc = train_model(n_epochs, basic_attn_model,batches,optimizer, params = params)\n",
        "\n",
        "print('--------------------------------------------------------------------------------')\n",
        "#training with basic dot product attention but no rnn\n",
        "params = 'embedding_dim = 300, hidden_dim = 25, lr = 1e-4, rnn_switch = False, additive_attention = False'\n",
        "rnn_switch = False\n",
        "additive_attention = False\n",
        "nornn_basic_model = ClassificationAttentionModel(embedding, embedding_dim, hidden_dim, num_classes, rnn_switch, additive_attention)\n",
        "nornn_basic_model.to(device)\n",
        "optimizer = Adam(nornn_basic_model.parameters(), lr=lr)\n",
        "nornn_val_acc, nornn_train_acc = train_model(n_epochs, nornn_basic_model,batches,optimizer, params = params)\n",
        "\n",
        "print('--------------------------------------------------------------------------------')\n",
        "#training with additive attention\n",
        "params = 'embedding_dim = 300, hidden_dim = 25, lr = 1e-4, rnn_switch = True, additive_attention = True'\n",
        "rnn_switch = True\n",
        "additive_attention = True\n",
        "add_attn_model = ClassificationAttentionModel(embedding, embedding_dim, hidden_dim, num_classes, rnn_switch, additive_attention)\n",
        "add_attn_model.to(device)\n",
        "optimizer = Adam(add_attn_model.parameters(), lr=lr)\n",
        "add_attn_val_acc, add_attn_train_acc = train_model(n_epochs, add_attn_model,batches,optimizer, params = params)\n",
        "\n",
        "\n",
        "\n",
        "\n",
        "\n",
        "\n",
        "\n"
      ]
    },
    {
      "cell_type": "code",
      "execution_count": null,
      "metadata": {
        "id": "DuYVxHYyipAv"
      },
      "outputs": [],
      "source": [
        "#plot of validation and training accuracy during training for different varaints\n",
        "fig, axs = plt.subplots()\n",
        "plt.plot(add_attn_train_acc, label=\"Additive attention train acc\")\n",
        "axs.plot(add_attn_val_acc,  label=\"Additive attention val acc\")\n",
        "plt.plot(basic_train_acc, label=\"Basic dot product train acc\")\n",
        "axs.plot(basic_val_acc,  label=\"Basic dot product val acc\")\n",
        "plt.plot(nornn_train_acc, label=\"Basic with no rnn train acc\")\n",
        "axs.plot(nornn_val_acc,  label=\"Basic with no rnn val acc\")\n",
        "\n",
        "plt.legend()\n",
        "plt.show()"
      ]
    },
    {
      "cell_type": "markdown",
      "metadata": {
        "id": "FiWaQi7hkeWl"
      },
      "source": [
        "All three attention model variants achieve around high train accuracy when they are trained for 14 epochs, the models with rnn has has train accuracy above 0.95 whereas one with no rnn has around 0.83 train accuray, it shows high learning capabilities when rnn layer is used. In terms of validation accuracy there is not much difference between basic dot product\n",
        "and additive attention model but we can still observe that additive attention model validation accuracy is slightly better than basic dot product one whereas basic model with no rnn performs worst among three."
      ]
    },
    {
      "cell_type": "code",
      "execution_count": null,
      "metadata": {
        "id": "mZE1hVtsipgF"
      },
      "outputs": [],
      "source": [
        "#Average accuray in the test dataset\n",
        "\n",
        "def calculate_test_accuracy(batches,model):\n",
        "  model.eval()\n",
        "  test_accs = []\n",
        "\n",
        "  for idx,batch in enumerate(batches['test']):\n",
        "      batch = torch.FloatTensor(batch)\n",
        "      batch[batch == -1] = 30370\n",
        "      batch = torch.Tensor(batch).to(device)\n",
        "      output = model(torch.Tensor(batch))\n",
        "      true_labels = torch.Tensor(batches['test_labels'][idx]).type(torch.int64)\n",
        "      true_labels = true_labels.to(device)\n",
        "      loss = loss_fn(output,true_labels)\n",
        "      acc = (output.argmax(dim=1) == true_labels).sum().item()\n",
        "      test_accs.append(acc/len(true_labels))\n",
        "\n",
        "  avg_acc = sum(test_accs)/len(test_accs)\n",
        "  return avg_acc\n",
        "\n",
        "print(\"Test accuracy for basic dot product model\", calculate_test_accuracy(batches,basic_attn_model))\n",
        "print(\"Test accuracy for basic dot product with no rnn model\", calculate_test_accuracy(batches,nornn_basic_model))\n",
        "print(\"Test accuracy for attentive addition model\", calculate_test_accuracy(batches,add_attn_model))"
      ]
    },
    {
      "cell_type": "markdown",
      "metadata": {
        "id": "sxdTX99VlQ4A"
      },
      "source": [
        "The results for three models on test dataset is pretty much similar to results on validation set. Attention additive model variant has best test accuracy , basic dot product has near about accuracy  \n",
        "whereas basic dot product model with no rnn has worst test accuracy among three.\n",
        "\n",
        "| Model| Metric | Value |\n",
        "| --- | --- | --- |\n",
        "| Basic dot product with RNN | Test accuracy | 0.79 |\n",
        "| Basic dot product without RNN | Test accuracy  | 0.74 |\n",
        "| Additive Attention  with RNN | Test accuracy  | 0.80  |\n",
        "\n",
        "Hence, it seems the additive attention varaint is the most effective one."
      ]
    },
    {
      "cell_type": "markdown",
      "metadata": {
        "id": "PqjTHj5jmXVw"
      },
      "source": [
        "<a name=\"section-classification-transformer\"></a><h2 style=\"color:rgb(0,120,170)\">Task D: Document Classification with Transformer (15 points)</h2>"
      ]
    },
    {
      "cell_type": "markdown",
      "metadata": {
        "id": "cgkNhVaXmXVw"
      },
      "source": [
        "<div style=\"background-color:rgb(224, 243, 255)\">\n",
        "    \n",
        "This task implements a document classification model using Transformer Decoder. This model is called **`ClassificationTransformerModel`** in the code, containing all various variants as explained later. \n",
        "\n",
        "The implementation of the basic architecture of `ClassificationTransformerModel` covers the following points:\n",
        "\n",
        "**Baseline model:** The architecture of baseline `ClassificationTransformerModel`is the exactly the same as the one of `ClassificationAttentionModel`. The only difference is that `ClassificationTransformerModel` replaces the Attention layer with a Transformer Decoder. \n",
        "\n",
        "- **Transformer Decoder (3 points).** Use `torch.nn.TransformerDecoder` class or any other implementation of Transformer Decoder. The baseline model consists of one layer of Transformer Decoder and is defined with default parameters of Transformer Decoder. As before, Query vector is defined separately, and used as the query of the Transformer.\n",
        "\n",
        "- **Model Functionality (1 point).**\n",
        "\n",
        "**Model variations:** Implement the **two variations** of the baseline model as explained below. Each variation applies only one change to the baseline architecture, making it possible to study the effect of the change. The code of all variations should be inside `ClassificationTransformerModel`, and executing a variation should be done by simply passing the corresponding parameters of the variation to the model. \n",
        "\n",
        "- **Transformer Encoder (3 point).** Replace the RNN layer with a Transformer Encoder. Similar to the RNN, the aim of this layer is to provide contextual embeddings of the input word embeddings. \n",
        "\n",
        "- **Number of heads (1 point).** Study the effect of increasing/decreasing the number of heads of the Transformer Decoder.\n",
        "\n",
        "- **Number of layers (1 point).** Study the effect of increasing the layers of the Transformer Decoder.\n",
        "\n",
        "\n",
        "**Reporting and discussion (1 point).** Report the evaluation results of the baseline model, as well as the ones for all the variations in a table and also in a plot. Discuss which variation(s) appear to be the most effective. Explain your take.\n",
        "</div>"
      ]
    },
    {
      "cell_type": "code",
      "execution_count": null,
      "metadata": {
        "id": "v_AEdP9wmXVx"
      },
      "outputs": [],
      "source": []
    },
    {
      "cell_type": "code",
      "execution_count": null,
      "metadata": {
        "id": "za6XaaH9mXVx"
      },
      "outputs": [],
      "source": []
    },
    {
      "cell_type": "markdown",
      "metadata": {
        "id": "o7HBVLbZmXVx"
      },
      "source": [
        "<a name=\"section-interpretation\"></a><h2 style=\"color:rgb(0,120,170)\">Task E: Interpreting Attention Weights (3 extra points)</h2>"
      ]
    },
    {
      "cell_type": "markdown",
      "metadata": {
        "id": "aQjxmI6HmXVx"
      },
      "source": [
        "<div style=\"background-color:rgb(224, 243, 255)\">\n",
        "\n",
        "The aim of this task is to provide an interpretation of the functionality of one of the models, by exploring which words have the higher contributions to the prediction results of some specific documents. \n",
        "\n",
        "**Attention weights (2.5 extra points):** Select one of the models trained in the previous tasks as you prefer. Select four documents from test set, such that two are correctly and the other two are incorrectly classified by the model. Next, run the forward pass for each of these documents and extract the corresponding attention weights from the model. Separately for each document, interpret the mechanism of the classifier by looking at the words with the highest attention weights. Do these words – in your opinion – provide important information to the predicted class?\n",
        "\n",
        "**Visualization (0.5 overall extra points):** Visualize the attention weights over document’s words. Some suggested tools and resources:\n",
        "\n",
        "https://github.com/minqi/hnatt\n",
        "\n",
        "https://github.com/jiesutd/Text-Attention-Heatmap-Visualization \n",
        "\n",
        "https://github.com/cbaziotis/neat-vision\n",
        "</div>"
      ]
    },
    {
      "cell_type": "code",
      "execution_count": null,
      "metadata": {
        "id": "skecE8TTmXVy"
      },
      "outputs": [],
      "source": [
        "import torch\n",
        "import torch.nn as nn\n",
        "\n",
        "#Cllassification Attention Model from exercise C\n",
        "#slight alteration to get also get the attention weights for a respective input\n",
        "\n",
        "class ClassificationAttentionModel(nn.Module):\n",
        "    def __init__(self, embedding, embedding_dim, hidden_dim, num_classes, rnn_switch, additive_attention):\n",
        "        super(ClassificationAttentionModel, self).__init__()\n",
        "        self.attention_weights = []\n",
        "\n",
        "        #parameter to use LSTM RNN or not\n",
        "        self.rnn_switch = rnn_switch\n",
        "\n",
        "        #parameter to use additive attention instead of basic dot product\n",
        "        self.additive_attention = additive_attention\n",
        "\n",
        "        # Word embeddings layer\n",
        "        self.embeddings = embedding\n",
        "        \n",
        "        # RNN layer\n",
        "        if self.rnn_switch:\n",
        "          self.rnn = nn.LSTM(embedding_dim, hidden_dim, bidirectional=True, batch_first=True)\n",
        "        else:\n",
        "          hidden_dim = embedding_dim\n",
        "\n",
        "        \n",
        "        \n",
        "        # Attention layer\n",
        "        self.query = nn.Parameter(torch.randn(hidden_dim)) # Query vector\n",
        "        self.softmax = nn.Softmax(dim=1) # Softmax activation function\n",
        "\n",
        "        #parameters for additive attention\n",
        "        if self.additive_attention:\n",
        "          self.W1 = nn.Linear(hidden_dim, hidden_dim, bias=False)\n",
        "          self.W2 =  nn.Linear(hidden_dim, hidden_dim, bias=False)\n",
        "          self.v = nn.Linear(hidden_dim, 1, bias=False)\n",
        "        \n",
        "        # Prediction layer\n",
        "        self.decoder = nn.Linear(hidden_dim, num_classes)\n",
        "        \n",
        "    def forward(self, inputs):\n",
        "        # Fetch word embeddings\n",
        "        embeddings = self.embeddings(inputs.type(torch.LongTensor).to(device))\n",
        "        \n",
        "        # Apply RNN layer and get hidden states\n",
        "        if self.rnn_switch:\n",
        "          rnn_output, _ = self.rnn(embeddings)\n",
        "          hidden_states = rnn_output[:, :, :hidden_dim] + rnn_output[:, :, hidden_dim:] # Sum the outputs of both directions of RNN\n",
        "\n",
        "        else:\n",
        "          #if no RNN layer\n",
        "          hidden_states = embeddings\n",
        "\n",
        "\n",
        "\n",
        "        if self.additive_attention:\n",
        "          # Calculate attention scores for additive attention\n",
        "          W_h = self.W1(hidden_states)\n",
        "          W_q = self.W2(self.query)\n",
        "          u = torch.tanh(W_h + W_q)\n",
        "          \n",
        "          attention_scores = self.v(u).squeeze(2)\n",
        "        else:\n",
        "          #apply basic dot product attention\n",
        "\n",
        "          \n",
        "          # Calculate attention weights\n",
        "          query = self.query.unsqueeze(0).expand(inputs.size(0), -1) #gives us (2,3) shape query\n",
        "          query = query.unsqueeze(2) # gives us 2x3x1 from 2x3 shape #s\n",
        "          \n",
        "          #batch matrix multiplication (bxnxm) x (bxmxp) gives (bxnxp)\n",
        "          attention_scores = torch.bmm(hidden_states, query).squeeze(2) # Dot product of hidden states and query\n",
        "\n",
        "\n",
        "        \n",
        "        #padding values shoudl be zero when calculating attention; no attention to padding\n",
        "        #30370 value for -1(padded) values\n",
        "        mask = (inputs != 30370).type(torch.float32) # Padding mask\n",
        "  \n",
        "        masked_score = attention_scores * mask # Apply mask\n",
        "    \n",
        "        #convert 0 to -1e9 so that the padded values attention weights will be 0\n",
        "        masked_score[masked_score == 0] = -1e9\n",
        "        \n",
        "\n",
        "    \n",
        "        self.attention_weights = self.softmax(masked_score)\n",
        "        # Softmax to get attention weights\n",
        "        \n",
        "        # Calculate document embeddings\n",
        "        #context vector : dot product of attention weights ,each time steps(words) gives us the context\n",
        "        #weighted sum of the hidden states: result (b*h)\n",
        "        context = torch.bmm(hidden_states.transpose(1, 2), self.attention_weights.unsqueeze(2)).squeeze(2) \n",
        "        outputs = self.decoder(context) # Linear projection\n",
        "        outputs = nn.functional.softmax(outputs, dim=1) # Softmax to get output probabilities\n",
        "        \n",
        "        return outputs\n"
      ]
    },
    {
      "cell_type": "code",
      "execution_count": null,
      "metadata": {
        "colab": {
          "base_uri": "https://localhost:8080/"
        },
        "id": "m8IbheWAmXVy",
        "outputId": "2b29b406-e372-422e-d0a2-a0505074b26e"
      },
      "outputs": [
        {
          "output_type": "execute_result",
          "data": {
            "text/plain": [
              "ClassificationAttentionModel(\n",
              "  (embeddings): Embedding(30371, 300)\n",
              "  (rnn): LSTM(300, 25, batch_first=True, bidirectional=True)\n",
              "  (softmax): Softmax(dim=1)\n",
              "  (W1): Linear(in_features=25, out_features=25, bias=False)\n",
              "  (W2): Linear(in_features=25, out_features=25, bias=False)\n",
              "  (v): Linear(in_features=25, out_features=1, bias=False)\n",
              "  (decoder): Linear(in_features=25, out_features=12, bias=True)\n",
              ")"
            ]
          },
          "metadata": {},
          "execution_count": 36
        }
      ],
      "source": [
        "#load weights to get trained additive attention model from exercise C\n",
        "\n",
        "#use cuda if feasible \n",
        "device = torch.device('cuda' if torch.cuda.is_available() else 'cpu')\n",
        "\n",
        "#load embeddings from weights\n",
        "#30371 : 30370 size of dictionary and 1 for paddings\n",
        "torch_embedding = torch.nn.Embedding(30371,300)\n",
        "torch_embedding.load_state_dict(torch.load(\"/content/embedding.pth\"))\n",
        "\n",
        "\n",
        "vocab_size = len(reduced_dictionary) + 1 # +1 for the padded words are \n",
        "embedding_dim = 300\n",
        "hidden_dim = 25\n",
        "num_classes = 12\n",
        "embedding = torch_embedding\n",
        "\n",
        "#use additive attention with RNN\n",
        "rnn_switch = True\n",
        "additive_attention = True\n",
        "lr = 1e-4\n",
        "add_attn_model = ClassificationAttentionModel(embedding, embedding_dim, hidden_dim, num_classes, rnn_switch, additive_attention)\n",
        "add_attn_model.to(device)\n",
        "\n",
        "add_attn_model.load_state_dict(torch.load(\"/content/add_attn_model.pt\"))\n",
        "add_attn_model.eval()"
      ]
    },
    {
      "cell_type": "code",
      "execution_count": null,
      "metadata": {
        "id": "a03Y0j3HhRwM"
      },
      "outputs": [],
      "source": [
        "#function to analysis model attention for a document\n",
        "def analysis_attn(batch):\n",
        "\n",
        "  document = ''\n",
        "\n",
        "  #document contnet\n",
        "  for i in batch:\n",
        "    if i != -1:\n",
        "      document += reduced_dictionary[i]\n",
        "      document += ' '\n",
        "    else:\n",
        "      document += ''\n",
        "\n",
        "  print(document)\n",
        "\n",
        "\n",
        "  doc = torch.Tensor(batch.copy())\n",
        "  doc[doc == -1] = 30370\n",
        "  doc  = torch.Tensor(doc).to(device)\n",
        "  output =add_attn_model(doc.reshape(1,-1))\n",
        "  \n",
        "  #grab top six words based on attention weights\n",
        "  top_six_words = torch.topk(add_attn_model.attention_weights.flatten(), 6).indices\n",
        "  top_six_words = [reduced_dictionary[batch[i]] for i in top_six_words]\n",
        "  print(\"Top six words based on their attention weights\", top_six_words)\n",
        "  print(\"Predicted label\", output.argmax(dim=1).item())\n",
        "\n"
      ]
    },
    {
      "cell_type": "code",
      "execution_count": null,
      "metadata": {
        "colab": {
          "base_uri": "https://localhost:8080/"
        },
        "id": "yL__cDFmjr6v",
        "outputId": "72468f3c-23c9-44d7-d891-c48f49857989"
      },
      "outputs": [
        {
          "name": "stdout",
          "output_type": "stream",
          "text": [
            "several occasions april may israeli forces launched multiple airstrikes fired shells gaza reportedly targeting military sites resulting damage injuries \n",
            "Top six words based on their attention weights ['shells', 'injuries', 'damage', 'airstrikes', 'fired', 'targeting']\n",
            "Predicted label 9\n",
            "Correct label 10\n",
            "---------------\n",
            "previous years humanitarians witnessed high levels insecurity violence particularly areas southern central somalia sporadic incidents humanitarians also occurred somaliland puntland violent incidents led deaths humanitarian staff injury arrests detention abduction three physical assault five humanitarian personnel impacted humanitarian organizations per cent increase overall number incidents compared \n",
            "Top six words based on their attention weights ['detention', 'arrests', 'assault', 'abduction', 'personnel', 'incidents']\n",
            "Predicted label 9\n",
            "Correct label 6\n",
            "---------------\n",
            "state ministry health estimated affected due flooding triggered heavy rainfall payams aweil north aweil west former northern bahr el ghazal state flooding also caused deaths injuries deeply affected daily lives households eight villages bunj payam maban county upper nile statethe risk waterborne disease wake floods real cholera epidemic already affected thousands causing deaths said dr health security emergency officer \n",
            "Top six words based on their attention weights ['cholera', 'deaths', 'epidemic', 'health', 'disease', 'waterborne']\n",
            "Predicted label 4\n",
            "Correct label 4\n",
            "---------------\n",
            "nigeria mean average attained school years christian women years compared years christian men however gender inequalities much pronounced among muslims mean years schooling muslim women muslim men almost twice much education years average \n",
            "Top six words based on their attention weights ['education', 'school', 'schooling', 'inequalities', 'gender', 'men']\n",
            "Predicted label 2\n",
            "Correct label 2\n"
          ]
        }
      ],
      "source": [
        "#incorrect predictions\n",
        "batches = all_batches[5]\n",
        "\n",
        "analysis_attn(batches['test'][6][12])\n",
        "print(\"Correct label\", batches['test_labels'][6][12])\n",
        "print('---------------')\n",
        "\n",
        "analysis_attn(batches['test'][2][0])\n",
        "print(\"Correct label\", batches['test_labels'][2][0])\n",
        "\n",
        "print('---------------')\n",
        "\n",
        "#correct\n",
        "batches = all_batches[5]\n",
        "\n",
        "analysis_attn(batches['test'][4][12])\n",
        "print(\"Correct label\", batches['test_labels'][4][12])\n",
        "print('---------------')\n",
        "\n",
        "analysis_attn(batches['test'][4][7])\n",
        "print(\"Correct label\", batches['test_labels'][4][7])\n"
      ]
    },
    {
      "cell_type": "markdown",
      "metadata": {
        "id": "0hTjWKhCOI9p"
      },
      "source": [
        "<h4> Example 1 :  predicted label 9: protection; true label 10: Shelter </h4>\n",
        "\n",
        "Looking at top six words on based of attention weight those words can relate to both labels protection and shelter and also we can argue that labels protection and shelter are very similar semantically.\n",
        "\n",
        "<h4> Example 2: predicted label 9: protection; true label 6 : logistic </h4>\n",
        "\n",
        "The words on based of attention weights can definitely relate to protection as the network hasn't given much attention to logistic words like years and five;\n",
        "\n",
        "\n",
        "<h4> Example 3: predicted label 4: health, true label 4 : health </h4>\n",
        "\n",
        "We can see high attention words are related to diseases and health, and the true label has also been predicted correctly\n",
        "\n",
        "<h4> Example 4: preicted label 2: education; true label 2: education </h4>\n",
        "\n",
        "The first three high attentive weights words are education, school and schooling which complies neatly with the prediction label eductaion\n"
      ]
    },
    {
      "cell_type": "code",
      "execution_count": null,
      "metadata": {
        "id": "WY48Y55R4PtU"
      },
      "outputs": [],
      "source": [
        "#function to generate HTML content for list of words based on their attention weights\n",
        "\n",
        "def generate(text_list, attention_list, color='red', rescale_value=False):\n",
        "    assert len(text_list) == len(attention_list), \"Length of text_list and attention_list should be the same.\"\n",
        "    if rescale_value:\n",
        "        attention_list = rescale(attention_list)\n",
        "    word_num = len(text_list)\n",
        "    text_list = clean_word(text_list)\n",
        "    \n",
        "    html_string = f'<div style=\"width: 90%; display: flex; flex-wrap: wrap; align-items: center; justify-content: center;\">'\n",
        "    for idx in range(word_num):\n",
        "        try:\n",
        "            attention_value = float(attention_list[idx])\n",
        "            if attention_value >= 1:\n",
        "              html_string += f'<span style=\"background-color: {color}; opacity: 0.8;color: black; font-weight: bold; padding: 5px; margin: 2px;\">{text_list[idx]}</span>'\n",
        "            elif attention_value >= 0.3:\n",
        "              html_string += f'<span style=\"background-color: {color}; color: black; font-weight: bold; opacity: 0.4;padding: 5px; margin: 2px;\">{text_list[idx]}</span>'\n",
        "            else:\n",
        "              html_string += f'<span style=\"color: black; font-weight: bold;padding: 5px; margin: 2px;\">{text_list[idx]}</span>'\n",
        "\n",
        "\n",
        "        except ValueError:\n",
        "            pass\n",
        "    html_string += '</div>'\n",
        "    \n",
        "    return html_string\n",
        "\n",
        "def rescale(input_list):\n",
        "    the_array = np.asarray(input_list)\n",
        "    the_max = np.max(the_array)\n",
        "    the_min = np.min(the_array)\n",
        "    rescale = (the_array - the_min) / (the_max - the_min) * 100\n",
        "    return rescale.tolist()\n",
        "\n",
        "def clean_word(word_list):\n",
        "    new_word_list = []\n",
        "    for word in word_list:\n",
        "        for html_sensitive in ['<', '>', '&']:\n",
        "            if html_sensitive in word:\n",
        "                word = word.replace(html_sensitive, '')\n",
        "        new_word_list.append(word)\n",
        "    return new_word_list\n"
      ]
    },
    {
      "cell_type": "code",
      "execution_count": null,
      "metadata": {
        "id": "zhLmXEqt4Py_"
      },
      "outputs": [],
      "source": [
        "#function to return words and their respective weights\n",
        "def word_attn(batch):\n",
        "\n",
        "  document = []\n",
        "\n",
        "  #document content\n",
        "  for i in batch:\n",
        "    if i != -1:\n",
        "      document.append(reduced_dictionary[i])\n",
        "   \n",
        "\n",
        "\n",
        "\n",
        "\n",
        "  doc = torch.Tensor(batch.copy())\n",
        "  doc[doc == -1] = 30370\n",
        "  doc  = torch.Tensor(doc).to(device)\n",
        "  output =add_attn_model(doc.reshape(1,-1))\n",
        "  weights = add_attn_model.attention_weights.flatten()\n",
        "\n",
        "  return (document, weights[:len(document)])\n",
        "  \n",
        "\n"
      ]
    },
    {
      "cell_type": "code",
      "execution_count": null,
      "metadata": {
        "id": "0eyOd50Y4P5B"
      },
      "outputs": [],
      "source": [
        "#generate html content accordingly for different documents and their contents\n",
        "\n",
        "batches = all_batches[5]\n",
        "\n",
        "\n",
        "\n",
        "words, weights = word_attn(batches['test'][6][12])\n",
        "text_list = words\n",
        "attention_list = weights * 10\n",
        "\n",
        "html_output1 = generate(text_list, attention_list, color='crimson')\n",
        "\n",
        "\n",
        "\n",
        "words, weights = word_attn(batches['test'][2][0])\n",
        "text_list = words\n",
        "attention_list = weights * 10\n",
        "\n",
        "html_output2 = generate(text_list, attention_list, color='crimson')\n",
        "\n",
        "\n",
        "\n",
        "\n",
        "words, weights = word_attn(batches['test'][4][12])\n",
        "text_list = words\n",
        "attention_list = weights * 10\n",
        "\n",
        "html_output3 = generate(text_list, attention_list, color='dodgerblue')\n",
        "\n",
        "\n",
        "\n",
        "\n",
        "words, weights = word_attn(batches['test'][4][7])\n",
        "text_list = words\n",
        "attention_list = weights * 10\n",
        "\n",
        "html_output4 = generate(text_list, attention_list, color='dodgerblue')\n"
      ]
    },
    {
      "cell_type": "code",
      "execution_count": null,
      "metadata": {
        "colab": {
          "base_uri": "https://localhost:8080/",
          "height": 392
        },
        "id": "YWT4Aahf4P_R",
        "outputId": "54ed476c-cfb3-4782-f84b-b466f24aba55"
      },
      "outputs": [
        {
          "data": {
            "text/html": [
              "\n",
              "<html>\n",
              "<head>\n",
              "<body>\n",
              "<div style=\"width: 90%; display: flex; flex-wrap: wrap; align-items: center; justify-content: center;\"><span style=\"color: black; font-weight: bold;padding: 5px; margin: 2px;\">several</span><span style=\"color: black; font-weight: bold;padding: 5px; margin: 2px;\">occasions</span><span style=\"color: black; font-weight: bold;padding: 5px; margin: 2px;\">april</span><span style=\"color: black; font-weight: bold;padding: 5px; margin: 2px;\">may</span><span style=\"color: black; font-weight: bold;padding: 5px; margin: 2px;\">israeli</span><span style=\"color: black; font-weight: bold;padding: 5px; margin: 2px;\">forces</span><span style=\"color: black; font-weight: bold;padding: 5px; margin: 2px;\">launched</span><span style=\"color: black; font-weight: bold;padding: 5px; margin: 2px;\">multiple</span><span style=\"background-color: crimson; color: black; font-weight: bold; opacity: 0.4;padding: 5px; margin: 2px;\">airstrikes</span><span style=\"background-color: crimson; color: black; font-weight: bold; opacity: 0.4;padding: 5px; margin: 2px;\">fired</span><span style=\"background-color: crimson; opacity: 0.8;color: black; font-weight: bold; padding: 5px; margin: 2px;\">shells</span><span style=\"color: black; font-weight: bold;padding: 5px; margin: 2px;\">gaza</span><span style=\"color: black; font-weight: bold;padding: 5px; margin: 2px;\">reportedly</span><span style=\"color: black; font-weight: bold;padding: 5px; margin: 2px;\">targeting</span><span style=\"color: black; font-weight: bold;padding: 5px; margin: 2px;\">military</span><span style=\"color: black; font-weight: bold;padding: 5px; margin: 2px;\">sites</span><span style=\"color: black; font-weight: bold;padding: 5px; margin: 2px;\">resulting</span><span style=\"background-color: crimson; color: black; font-weight: bold; opacity: 0.4;padding: 5px; margin: 2px;\">damage</span><span style=\"background-color: crimson; color: black; font-weight: bold; opacity: 0.4;padding: 5px; margin: 2px;\">injuries</span></div> <br><br>\n",
              "<div style=\"width: 90%; display: flex; flex-wrap: wrap; align-items: center; justify-content: center;\"><span style=\"color: black; font-weight: bold;padding: 5px; margin: 2px;\">previous</span><span style=\"color: black; font-weight: bold;padding: 5px; margin: 2px;\">years</span><span style=\"color: black; font-weight: bold;padding: 5px; margin: 2px;\">humanitarians</span><span style=\"color: black; font-weight: bold;padding: 5px; margin: 2px;\">witnessed</span><span style=\"color: black; font-weight: bold;padding: 5px; margin: 2px;\">high</span><span style=\"color: black; font-weight: bold;padding: 5px; margin: 2px;\">levels</span><span style=\"color: black; font-weight: bold;padding: 5px; margin: 2px;\">insecurity</span><span style=\"color: black; font-weight: bold;padding: 5px; margin: 2px;\">violence</span><span style=\"color: black; font-weight: bold;padding: 5px; margin: 2px;\">particularly</span><span style=\"color: black; font-weight: bold;padding: 5px; margin: 2px;\">areas</span><span style=\"color: black; font-weight: bold;padding: 5px; margin: 2px;\">southern</span><span style=\"color: black; font-weight: bold;padding: 5px; margin: 2px;\">central</span><span style=\"color: black; font-weight: bold;padding: 5px; margin: 2px;\">somalia</span><span style=\"color: black; font-weight: bold;padding: 5px; margin: 2px;\">sporadic</span><span style=\"color: black; font-weight: bold;padding: 5px; margin: 2px;\">incidents</span><span style=\"color: black; font-weight: bold;padding: 5px; margin: 2px;\">humanitarians</span><span style=\"color: black; font-weight: bold;padding: 5px; margin: 2px;\">also</span><span style=\"color: black; font-weight: bold;padding: 5px; margin: 2px;\">occurred</span><span style=\"color: black; font-weight: bold;padding: 5px; margin: 2px;\">somaliland</span><span style=\"color: black; font-weight: bold;padding: 5px; margin: 2px;\">puntland</span><span style=\"color: black; font-weight: bold;padding: 5px; margin: 2px;\">violent</span><span style=\"color: black; font-weight: bold;padding: 5px; margin: 2px;\">incidents</span><span style=\"color: black; font-weight: bold;padding: 5px; margin: 2px;\">led</span><span style=\"color: black; font-weight: bold;padding: 5px; margin: 2px;\">deaths</span><span style=\"color: black; font-weight: bold;padding: 5px; margin: 2px;\">humanitarian</span><span style=\"color: black; font-weight: bold;padding: 5px; margin: 2px;\">staff</span><span style=\"color: black; font-weight: bold;padding: 5px; margin: 2px;\">injury</span><span style=\"background-color: crimson; opacity: 0.8;color: black; font-weight: bold; padding: 5px; margin: 2px;\">arrests</span><span style=\"background-color: crimson; opacity: 0.8;color: black; font-weight: bold; padding: 5px; margin: 2px;\">detention</span><span style=\"background-color: crimson; color: black; font-weight: bold; opacity: 0.4;padding: 5px; margin: 2px;\">abduction</span><span style=\"color: black; font-weight: bold;padding: 5px; margin: 2px;\">three</span><span style=\"color: black; font-weight: bold;padding: 5px; margin: 2px;\">physical</span><span style=\"background-color: crimson; opacity: 0.8;color: black; font-weight: bold; padding: 5px; margin: 2px;\">assault</span><span style=\"color: black; font-weight: bold;padding: 5px; margin: 2px;\">five</span><span style=\"color: black; font-weight: bold;padding: 5px; margin: 2px;\">humanitarian</span><span style=\"background-color: crimson; color: black; font-weight: bold; opacity: 0.4;padding: 5px; margin: 2px;\">personnel</span><span style=\"color: black; font-weight: bold;padding: 5px; margin: 2px;\">impacted</span><span style=\"color: black; font-weight: bold;padding: 5px; margin: 2px;\">humanitarian</span><span style=\"color: black; font-weight: bold;padding: 5px; margin: 2px;\">organizations</span><span style=\"color: black; font-weight: bold;padding: 5px; margin: 2px;\">per</span><span style=\"color: black; font-weight: bold;padding: 5px; margin: 2px;\">cent</span><span style=\"color: black; font-weight: bold;padding: 5px; margin: 2px;\">increase</span><span style=\"color: black; font-weight: bold;padding: 5px; margin: 2px;\">overall</span><span style=\"color: black; font-weight: bold;padding: 5px; margin: 2px;\">number</span><span style=\"background-color: crimson; color: black; font-weight: bold; opacity: 0.4;padding: 5px; margin: 2px;\">incidents</span><span style=\"color: black; font-weight: bold;padding: 5px; margin: 2px;\">compared</span></div> <br><br><br>\n",
              "<div style=\"width: 90%; display: flex; flex-wrap: wrap; align-items: center; justify-content: center;\"><span style=\"color: black; font-weight: bold;padding: 5px; margin: 2px;\">state</span><span style=\"color: black; font-weight: bold;padding: 5px; margin: 2px;\">ministry</span><span style=\"color: black; font-weight: bold;padding: 5px; margin: 2px;\">health</span><span style=\"color: black; font-weight: bold;padding: 5px; margin: 2px;\">estimated</span><span style=\"color: black; font-weight: bold;padding: 5px; margin: 2px;\">affected</span><span style=\"color: black; font-weight: bold;padding: 5px; margin: 2px;\">due</span><span style=\"color: black; font-weight: bold;padding: 5px; margin: 2px;\">flooding</span><span style=\"color: black; font-weight: bold;padding: 5px; margin: 2px;\">triggered</span><span style=\"color: black; font-weight: bold;padding: 5px; margin: 2px;\">heavy</span><span style=\"color: black; font-weight: bold;padding: 5px; margin: 2px;\">rainfall</span><span style=\"color: black; font-weight: bold;padding: 5px; margin: 2px;\">payams</span><span style=\"color: black; font-weight: bold;padding: 5px; margin: 2px;\">aweil</span><span style=\"color: black; font-weight: bold;padding: 5px; margin: 2px;\">north</span><span style=\"color: black; font-weight: bold;padding: 5px; margin: 2px;\">aweil</span><span style=\"color: black; font-weight: bold;padding: 5px; margin: 2px;\">west</span><span style=\"color: black; font-weight: bold;padding: 5px; margin: 2px;\">former</span><span style=\"color: black; font-weight: bold;padding: 5px; margin: 2px;\">northern</span><span style=\"color: black; font-weight: bold;padding: 5px; margin: 2px;\">bahr</span><span style=\"color: black; font-weight: bold;padding: 5px; margin: 2px;\">el</span><span style=\"color: black; font-weight: bold;padding: 5px; margin: 2px;\">ghazal</span><span style=\"color: black; font-weight: bold;padding: 5px; margin: 2px;\">state</span><span style=\"color: black; font-weight: bold;padding: 5px; margin: 2px;\">flooding</span><span style=\"color: black; font-weight: bold;padding: 5px; margin: 2px;\">also</span><span style=\"color: black; font-weight: bold;padding: 5px; margin: 2px;\">caused</span><span style=\"color: black; font-weight: bold;padding: 5px; margin: 2px;\">deaths</span><span style=\"color: black; font-weight: bold;padding: 5px; margin: 2px;\">injuries</span><span style=\"color: black; font-weight: bold;padding: 5px; margin: 2px;\">deeply</span><span style=\"color: black; font-weight: bold;padding: 5px; margin: 2px;\">affected</span><span style=\"color: black; font-weight: bold;padding: 5px; margin: 2px;\">daily</span><span style=\"color: black; font-weight: bold;padding: 5px; margin: 2px;\">lives</span><span style=\"color: black; font-weight: bold;padding: 5px; margin: 2px;\">households</span><span style=\"color: black; font-weight: bold;padding: 5px; margin: 2px;\">eight</span><span style=\"color: black; font-weight: bold;padding: 5px; margin: 2px;\">villages</span><span style=\"color: black; font-weight: bold;padding: 5px; margin: 2px;\">bunj</span><span style=\"color: black; font-weight: bold;padding: 5px; margin: 2px;\">payam</span><span style=\"color: black; font-weight: bold;padding: 5px; margin: 2px;\">maban</span><span style=\"color: black; font-weight: bold;padding: 5px; margin: 2px;\">county</span><span style=\"color: black; font-weight: bold;padding: 5px; margin: 2px;\">upper</span><span style=\"color: black; font-weight: bold;padding: 5px; margin: 2px;\">nile</span><span style=\"color: black; font-weight: bold;padding: 5px; margin: 2px;\">statethe</span><span style=\"color: black; font-weight: bold;padding: 5px; margin: 2px;\">risk</span><span style=\"color: black; font-weight: bold;padding: 5px; margin: 2px;\">waterborne</span><span style=\"background-color: dodgerblue; color: black; font-weight: bold; opacity: 0.4;padding: 5px; margin: 2px;\">disease</span><span style=\"color: black; font-weight: bold;padding: 5px; margin: 2px;\">wake</span><span style=\"color: black; font-weight: bold;padding: 5px; margin: 2px;\">floods</span><span style=\"color: black; font-weight: bold;padding: 5px; margin: 2px;\">real</span><span style=\"background-color: dodgerblue; opacity: 0.8;color: black; font-weight: bold; padding: 5px; margin: 2px;\">cholera</span><span style=\"background-color: dodgerblue; opacity: 0.8;color: black; font-weight: bold; padding: 5px; margin: 2px;\">epidemic</span><span style=\"color: black; font-weight: bold;padding: 5px; margin: 2px;\">already</span><span style=\"color: black; font-weight: bold;padding: 5px; margin: 2px;\">affected</span><span style=\"color: black; font-weight: bold;padding: 5px; margin: 2px;\">thousands</span><span style=\"color: black; font-weight: bold;padding: 5px; margin: 2px;\">causing</span><span style=\"background-color: dodgerblue; opacity: 0.8;color: black; font-weight: bold; padding: 5px; margin: 2px;\">deaths</span><span style=\"color: black; font-weight: bold;padding: 5px; margin: 2px;\">said</span><span style=\"color: black; font-weight: bold;padding: 5px; margin: 2px;\">dr</span><span style=\"background-color: dodgerblue; opacity: 0.8;color: black; font-weight: bold; padding: 5px; margin: 2px;\">health</span><span style=\"color: black; font-weight: bold;padding: 5px; margin: 2px;\">security</span><span style=\"color: black; font-weight: bold;padding: 5px; margin: 2px;\">emergency</span><span style=\"color: black; font-weight: bold;padding: 5px; margin: 2px;\">officer</span></div> <br><br>\n",
              "<div style=\"width: 90%; display: flex; flex-wrap: wrap; align-items: center; justify-content: center;\"><span style=\"color: black; font-weight: bold;padding: 5px; margin: 2px;\">nigeria</span><span style=\"color: black; font-weight: bold;padding: 5px; margin: 2px;\">mean</span><span style=\"color: black; font-weight: bold;padding: 5px; margin: 2px;\">average</span><span style=\"color: black; font-weight: bold;padding: 5px; margin: 2px;\">attained</span><span style=\"background-color: dodgerblue; opacity: 0.8;color: black; font-weight: bold; padding: 5px; margin: 2px;\">school</span><span style=\"color: black; font-weight: bold;padding: 5px; margin: 2px;\">years</span><span style=\"color: black; font-weight: bold;padding: 5px; margin: 2px;\">christian</span><span style=\"color: black; font-weight: bold;padding: 5px; margin: 2px;\">women</span><span style=\"color: black; font-weight: bold;padding: 5px; margin: 2px;\">years</span><span style=\"color: black; font-weight: bold;padding: 5px; margin: 2px;\">compared</span><span style=\"color: black; font-weight: bold;padding: 5px; margin: 2px;\">years</span><span style=\"color: black; font-weight: bold;padding: 5px; margin: 2px;\">christian</span><span style=\"color: black; font-weight: bold;padding: 5px; margin: 2px;\">men</span><span style=\"color: black; font-weight: bold;padding: 5px; margin: 2px;\">however</span><span style=\"color: black; font-weight: bold;padding: 5px; margin: 2px;\">gender</span><span style=\"color: black; font-weight: bold;padding: 5px; margin: 2px;\">inequalities</span><span style=\"color: black; font-weight: bold;padding: 5px; margin: 2px;\">much</span><span style=\"color: black; font-weight: bold;padding: 5px; margin: 2px;\">pronounced</span><span style=\"color: black; font-weight: bold;padding: 5px; margin: 2px;\">among</span><span style=\"color: black; font-weight: bold;padding: 5px; margin: 2px;\">muslims</span><span style=\"color: black; font-weight: bold;padding: 5px; margin: 2px;\">mean</span><span style=\"color: black; font-weight: bold;padding: 5px; margin: 2px;\">years</span><span style=\"background-color: dodgerblue; opacity: 0.8;color: black; font-weight: bold; padding: 5px; margin: 2px;\">schooling</span><span style=\"color: black; font-weight: bold;padding: 5px; margin: 2px;\">muslim</span><span style=\"color: black; font-weight: bold;padding: 5px; margin: 2px;\">women</span><span style=\"color: black; font-weight: bold;padding: 5px; margin: 2px;\">muslim</span><span style=\"color: black; font-weight: bold;padding: 5px; margin: 2px;\">men</span><span style=\"color: black; font-weight: bold;padding: 5px; margin: 2px;\">almost</span><span style=\"color: black; font-weight: bold;padding: 5px; margin: 2px;\">twice</span><span style=\"color: black; font-weight: bold;padding: 5px; margin: 2px;\">much</span><span style=\"background-color: dodgerblue; opacity: 0.8;color: black; font-weight: bold; padding: 5px; margin: 2px;\">education</span><span style=\"color: black; font-weight: bold;padding: 5px; margin: 2px;\">years</span><span style=\"color: black; font-weight: bold;padding: 5px; margin: 2px;\">average</span></div> <br><br>\n",
              "</body>\n",
              "</html>\n"
            ],
            "text/plain": [
              "<IPython.core.display.HTML object>"
            ]
          },
          "metadata": {},
          "output_type": "display_data"
        }
      ],
      "source": [
        "from IPython.display import display, HTML\n",
        "\n",
        "# display HTML content\n",
        "html_content = f\"\"\"\n",
        "<html>\n",
        "<head>\n",
        "<body>\n",
        "{html_output1} <br><br>\n",
        "{html_output2} <br><br><br>\n",
        "{html_output3} <br><br>\n",
        "{html_output4} <br><br>\n",
        "</body>\n",
        "</html>\n",
        "\"\"\"\n",
        "\n",
        "# Display the HTML content\n",
        "display(HTML(html_content))\n"
      ]
    },
    {
      "cell_type": "markdown",
      "metadata": {
        "id": "5RTyxgzE7x-Y"
      },
      "source": [
        "Here, we have divided words into three categories based on their attention weights. Words with very high attention weights, words with somewhat relevant attention weights and others with near to zero attention weights. \n",
        "\n",
        "The words with comparatively high magnitude attention weights have darker background color and text, weights with marginally relevant attention weights have lighter background color and text; and other words with near to zero relevant attention weights has no background color. \n",
        "\n",
        "Red color for incorrectly predicted document, blue for correctly predicted document."
      ]
    }
  ],
  "metadata": {
    "accelerator": "GPU",
    "colab": {
      "gpuType": "T4",
      "provenance": []
    },
    "kernelspec": {
      "display_name": "Python 3 (ipykernel)",
      "language": "python",
      "name": "python3"
    },
    "language_info": {
      "codemirror_mode": {
        "name": "ipython",
        "version": 3
      },
      "file_extension": ".py",
      "mimetype": "text/x-python",
      "name": "python",
      "nbconvert_exporter": "python",
      "pygments_lexer": "ipython3",
      "version": "3.8.3"
    },
    "widgets": {
      "application/vnd.jupyter.widget-state+json": {
        "6293c0307e8f4386a8ee348bf3912d92": {
          "model_module": "@jupyter-widgets/controls",
          "model_name": "VBoxModel",
          "model_module_version": "1.5.0",
          "state": {
            "_dom_classes": [],
            "_model_module": "@jupyter-widgets/controls",
            "_model_module_version": "1.5.0",
            "_model_name": "VBoxModel",
            "_view_count": null,
            "_view_module": "@jupyter-widgets/controls",
            "_view_module_version": "1.5.0",
            "_view_name": "VBoxView",
            "box_style": "",
            "children": [
              "IPY_MODEL_23ca1704f10b4ff198553cd08749ca8e",
              "IPY_MODEL_fdbac8f98fb547dabb7de6e7b70d4441"
            ],
            "layout": "IPY_MODEL_b7839c6a31d74ab29547c8d051f64974"
          }
        },
        "23ca1704f10b4ff198553cd08749ca8e": {
          "model_module": "@jupyter-widgets/controls",
          "model_name": "LabelModel",
          "model_module_version": "1.5.0",
          "state": {
            "_dom_classes": [],
            "_model_module": "@jupyter-widgets/controls",
            "_model_module_version": "1.5.0",
            "_model_name": "LabelModel",
            "_view_count": null,
            "_view_module": "@jupyter-widgets/controls",
            "_view_module_version": "1.5.0",
            "_view_name": "LabelView",
            "description": "",
            "description_tooltip": null,
            "layout": "IPY_MODEL_2944da6bd9e14a08b47a42dec979aec4",
            "placeholder": "​",
            "style": "IPY_MODEL_252d2563df124355b88eefd8843fab1f",
            "value": "0.001 MB of 0.001 MB uploaded (0.000 MB deduped)\r"
          }
        },
        "fdbac8f98fb547dabb7de6e7b70d4441": {
          "model_module": "@jupyter-widgets/controls",
          "model_name": "FloatProgressModel",
          "model_module_version": "1.5.0",
          "state": {
            "_dom_classes": [],
            "_model_module": "@jupyter-widgets/controls",
            "_model_module_version": "1.5.0",
            "_model_name": "FloatProgressModel",
            "_view_count": null,
            "_view_module": "@jupyter-widgets/controls",
            "_view_module_version": "1.5.0",
            "_view_name": "ProgressView",
            "bar_style": "",
            "description": "",
            "description_tooltip": null,
            "layout": "IPY_MODEL_a3f4ee5e670243b9838a418c62c90fd0",
            "max": 1,
            "min": 0,
            "orientation": "horizontal",
            "style": "IPY_MODEL_5390dd30777f439c885d36b0dc6e7439",
            "value": 1
          }
        },
        "b7839c6a31d74ab29547c8d051f64974": {
          "model_module": "@jupyter-widgets/base",
          "model_name": "LayoutModel",
          "model_module_version": "1.2.0",
          "state": {
            "_model_module": "@jupyter-widgets/base",
            "_model_module_version": "1.2.0",
            "_model_name": "LayoutModel",
            "_view_count": null,
            "_view_module": "@jupyter-widgets/base",
            "_view_module_version": "1.2.0",
            "_view_name": "LayoutView",
            "align_content": null,
            "align_items": null,
            "align_self": null,
            "border": null,
            "bottom": null,
            "display": null,
            "flex": null,
            "flex_flow": null,
            "grid_area": null,
            "grid_auto_columns": null,
            "grid_auto_flow": null,
            "grid_auto_rows": null,
            "grid_column": null,
            "grid_gap": null,
            "grid_row": null,
            "grid_template_areas": null,
            "grid_template_columns": null,
            "grid_template_rows": null,
            "height": null,
            "justify_content": null,
            "justify_items": null,
            "left": null,
            "margin": null,
            "max_height": null,
            "max_width": null,
            "min_height": null,
            "min_width": null,
            "object_fit": null,
            "object_position": null,
            "order": null,
            "overflow": null,
            "overflow_x": null,
            "overflow_y": null,
            "padding": null,
            "right": null,
            "top": null,
            "visibility": null,
            "width": null
          }
        },
        "2944da6bd9e14a08b47a42dec979aec4": {
          "model_module": "@jupyter-widgets/base",
          "model_name": "LayoutModel",
          "model_module_version": "1.2.0",
          "state": {
            "_model_module": "@jupyter-widgets/base",
            "_model_module_version": "1.2.0",
            "_model_name": "LayoutModel",
            "_view_count": null,
            "_view_module": "@jupyter-widgets/base",
            "_view_module_version": "1.2.0",
            "_view_name": "LayoutView",
            "align_content": null,
            "align_items": null,
            "align_self": null,
            "border": null,
            "bottom": null,
            "display": null,
            "flex": null,
            "flex_flow": null,
            "grid_area": null,
            "grid_auto_columns": null,
            "grid_auto_flow": null,
            "grid_auto_rows": null,
            "grid_column": null,
            "grid_gap": null,
            "grid_row": null,
            "grid_template_areas": null,
            "grid_template_columns": null,
            "grid_template_rows": null,
            "height": null,
            "justify_content": null,
            "justify_items": null,
            "left": null,
            "margin": null,
            "max_height": null,
            "max_width": null,
            "min_height": null,
            "min_width": null,
            "object_fit": null,
            "object_position": null,
            "order": null,
            "overflow": null,
            "overflow_x": null,
            "overflow_y": null,
            "padding": null,
            "right": null,
            "top": null,
            "visibility": null,
            "width": null
          }
        },
        "252d2563df124355b88eefd8843fab1f": {
          "model_module": "@jupyter-widgets/controls",
          "model_name": "DescriptionStyleModel",
          "model_module_version": "1.5.0",
          "state": {
            "_model_module": "@jupyter-widgets/controls",
            "_model_module_version": "1.5.0",
            "_model_name": "DescriptionStyleModel",
            "_view_count": null,
            "_view_module": "@jupyter-widgets/base",
            "_view_module_version": "1.2.0",
            "_view_name": "StyleView",
            "description_width": ""
          }
        },
        "a3f4ee5e670243b9838a418c62c90fd0": {
          "model_module": "@jupyter-widgets/base",
          "model_name": "LayoutModel",
          "model_module_version": "1.2.0",
          "state": {
            "_model_module": "@jupyter-widgets/base",
            "_model_module_version": "1.2.0",
            "_model_name": "LayoutModel",
            "_view_count": null,
            "_view_module": "@jupyter-widgets/base",
            "_view_module_version": "1.2.0",
            "_view_name": "LayoutView",
            "align_content": null,
            "align_items": null,
            "align_self": null,
            "border": null,
            "bottom": null,
            "display": null,
            "flex": null,
            "flex_flow": null,
            "grid_area": null,
            "grid_auto_columns": null,
            "grid_auto_flow": null,
            "grid_auto_rows": null,
            "grid_column": null,
            "grid_gap": null,
            "grid_row": null,
            "grid_template_areas": null,
            "grid_template_columns": null,
            "grid_template_rows": null,
            "height": null,
            "justify_content": null,
            "justify_items": null,
            "left": null,
            "margin": null,
            "max_height": null,
            "max_width": null,
            "min_height": null,
            "min_width": null,
            "object_fit": null,
            "object_position": null,
            "order": null,
            "overflow": null,
            "overflow_x": null,
            "overflow_y": null,
            "padding": null,
            "right": null,
            "top": null,
            "visibility": null,
            "width": null
          }
        },
        "5390dd30777f439c885d36b0dc6e7439": {
          "model_module": "@jupyter-widgets/controls",
          "model_name": "ProgressStyleModel",
          "model_module_version": "1.5.0",
          "state": {
            "_model_module": "@jupyter-widgets/controls",
            "_model_module_version": "1.5.0",
            "_model_name": "ProgressStyleModel",
            "_view_count": null,
            "_view_module": "@jupyter-widgets/base",
            "_view_module_version": "1.2.0",
            "_view_name": "StyleView",
            "bar_color": null,
            "description_width": ""
          }
        },
        "c4c1c8609e8b40a7a9da2f600a733564": {
          "model_module": "@jupyter-widgets/controls",
          "model_name": "VBoxModel",
          "model_module_version": "1.5.0",
          "state": {
            "_dom_classes": [],
            "_model_module": "@jupyter-widgets/controls",
            "_model_module_version": "1.5.0",
            "_model_name": "VBoxModel",
            "_view_count": null,
            "_view_module": "@jupyter-widgets/controls",
            "_view_module_version": "1.5.0",
            "_view_name": "VBoxView",
            "box_style": "",
            "children": [
              "IPY_MODEL_20b2477001ff4010be9f99b1c65c18e2",
              "IPY_MODEL_fc9d94cdc10e401dbceabd88a2388b89"
            ],
            "layout": "IPY_MODEL_4298fc89b4564c8fb7bfe136ebe37273"
          }
        },
        "20b2477001ff4010be9f99b1c65c18e2": {
          "model_module": "@jupyter-widgets/controls",
          "model_name": "LabelModel",
          "model_module_version": "1.5.0",
          "state": {
            "_dom_classes": [],
            "_model_module": "@jupyter-widgets/controls",
            "_model_module_version": "1.5.0",
            "_model_name": "LabelModel",
            "_view_count": null,
            "_view_module": "@jupyter-widgets/controls",
            "_view_module_version": "1.5.0",
            "_view_name": "LabelView",
            "description": "",
            "description_tooltip": null,
            "layout": "IPY_MODEL_1002b56e16044cf1badcff46ec0c0f2a",
            "placeholder": "​",
            "style": "IPY_MODEL_ea90e78fbd484646878b5f9fe0cf5089",
            "value": "0.001 MB of 0.009 MB uploaded (0.000 MB deduped)\r"
          }
        },
        "fc9d94cdc10e401dbceabd88a2388b89": {
          "model_module": "@jupyter-widgets/controls",
          "model_name": "FloatProgressModel",
          "model_module_version": "1.5.0",
          "state": {
            "_dom_classes": [],
            "_model_module": "@jupyter-widgets/controls",
            "_model_module_version": "1.5.0",
            "_model_name": "FloatProgressModel",
            "_view_count": null,
            "_view_module": "@jupyter-widgets/controls",
            "_view_module_version": "1.5.0",
            "_view_name": "ProgressView",
            "bar_style": "",
            "description": "",
            "description_tooltip": null,
            "layout": "IPY_MODEL_87590642411142169e7ee273aeab7ab7",
            "max": 1,
            "min": 0,
            "orientation": "horizontal",
            "style": "IPY_MODEL_57d6e01e01464692b14f7d568db702c8",
            "value": 0.12284168920324527
          }
        },
        "4298fc89b4564c8fb7bfe136ebe37273": {
          "model_module": "@jupyter-widgets/base",
          "model_name": "LayoutModel",
          "model_module_version": "1.2.0",
          "state": {
            "_model_module": "@jupyter-widgets/base",
            "_model_module_version": "1.2.0",
            "_model_name": "LayoutModel",
            "_view_count": null,
            "_view_module": "@jupyter-widgets/base",
            "_view_module_version": "1.2.0",
            "_view_name": "LayoutView",
            "align_content": null,
            "align_items": null,
            "align_self": null,
            "border": null,
            "bottom": null,
            "display": null,
            "flex": null,
            "flex_flow": null,
            "grid_area": null,
            "grid_auto_columns": null,
            "grid_auto_flow": null,
            "grid_auto_rows": null,
            "grid_column": null,
            "grid_gap": null,
            "grid_row": null,
            "grid_template_areas": null,
            "grid_template_columns": null,
            "grid_template_rows": null,
            "height": null,
            "justify_content": null,
            "justify_items": null,
            "left": null,
            "margin": null,
            "max_height": null,
            "max_width": null,
            "min_height": null,
            "min_width": null,
            "object_fit": null,
            "object_position": null,
            "order": null,
            "overflow": null,
            "overflow_x": null,
            "overflow_y": null,
            "padding": null,
            "right": null,
            "top": null,
            "visibility": null,
            "width": null
          }
        },
        "1002b56e16044cf1badcff46ec0c0f2a": {
          "model_module": "@jupyter-widgets/base",
          "model_name": "LayoutModel",
          "model_module_version": "1.2.0",
          "state": {
            "_model_module": "@jupyter-widgets/base",
            "_model_module_version": "1.2.0",
            "_model_name": "LayoutModel",
            "_view_count": null,
            "_view_module": "@jupyter-widgets/base",
            "_view_module_version": "1.2.0",
            "_view_name": "LayoutView",
            "align_content": null,
            "align_items": null,
            "align_self": null,
            "border": null,
            "bottom": null,
            "display": null,
            "flex": null,
            "flex_flow": null,
            "grid_area": null,
            "grid_auto_columns": null,
            "grid_auto_flow": null,
            "grid_auto_rows": null,
            "grid_column": null,
            "grid_gap": null,
            "grid_row": null,
            "grid_template_areas": null,
            "grid_template_columns": null,
            "grid_template_rows": null,
            "height": null,
            "justify_content": null,
            "justify_items": null,
            "left": null,
            "margin": null,
            "max_height": null,
            "max_width": null,
            "min_height": null,
            "min_width": null,
            "object_fit": null,
            "object_position": null,
            "order": null,
            "overflow": null,
            "overflow_x": null,
            "overflow_y": null,
            "padding": null,
            "right": null,
            "top": null,
            "visibility": null,
            "width": null
          }
        },
        "ea90e78fbd484646878b5f9fe0cf5089": {
          "model_module": "@jupyter-widgets/controls",
          "model_name": "DescriptionStyleModel",
          "model_module_version": "1.5.0",
          "state": {
            "_model_module": "@jupyter-widgets/controls",
            "_model_module_version": "1.5.0",
            "_model_name": "DescriptionStyleModel",
            "_view_count": null,
            "_view_module": "@jupyter-widgets/base",
            "_view_module_version": "1.2.0",
            "_view_name": "StyleView",
            "description_width": ""
          }
        },
        "87590642411142169e7ee273aeab7ab7": {
          "model_module": "@jupyter-widgets/base",
          "model_name": "LayoutModel",
          "model_module_version": "1.2.0",
          "state": {
            "_model_module": "@jupyter-widgets/base",
            "_model_module_version": "1.2.0",
            "_model_name": "LayoutModel",
            "_view_count": null,
            "_view_module": "@jupyter-widgets/base",
            "_view_module_version": "1.2.0",
            "_view_name": "LayoutView",
            "align_content": null,
            "align_items": null,
            "align_self": null,
            "border": null,
            "bottom": null,
            "display": null,
            "flex": null,
            "flex_flow": null,
            "grid_area": null,
            "grid_auto_columns": null,
            "grid_auto_flow": null,
            "grid_auto_rows": null,
            "grid_column": null,
            "grid_gap": null,
            "grid_row": null,
            "grid_template_areas": null,
            "grid_template_columns": null,
            "grid_template_rows": null,
            "height": null,
            "justify_content": null,
            "justify_items": null,
            "left": null,
            "margin": null,
            "max_height": null,
            "max_width": null,
            "min_height": null,
            "min_width": null,
            "object_fit": null,
            "object_position": null,
            "order": null,
            "overflow": null,
            "overflow_x": null,
            "overflow_y": null,
            "padding": null,
            "right": null,
            "top": null,
            "visibility": null,
            "width": null
          }
        },
        "57d6e01e01464692b14f7d568db702c8": {
          "model_module": "@jupyter-widgets/controls",
          "model_name": "ProgressStyleModel",
          "model_module_version": "1.5.0",
          "state": {
            "_model_module": "@jupyter-widgets/controls",
            "_model_module_version": "1.5.0",
            "_model_name": "ProgressStyleModel",
            "_view_count": null,
            "_view_module": "@jupyter-widgets/base",
            "_view_module_version": "1.2.0",
            "_view_name": "StyleView",
            "bar_color": null,
            "description_width": ""
          }
        },
        "b54ecd69f973458da364aa612bb3abfa": {
          "model_module": "@jupyter-widgets/controls",
          "model_name": "VBoxModel",
          "model_module_version": "1.5.0",
          "state": {
            "_dom_classes": [],
            "_model_module": "@jupyter-widgets/controls",
            "_model_module_version": "1.5.0",
            "_model_name": "VBoxModel",
            "_view_count": null,
            "_view_module": "@jupyter-widgets/controls",
            "_view_module_version": "1.5.0",
            "_view_name": "VBoxView",
            "box_style": "",
            "children": [
              "IPY_MODEL_9c36e2faf5334e6995ad0bdd9ab10068",
              "IPY_MODEL_651cd31e52f44031a437d37ba85436d3"
            ],
            "layout": "IPY_MODEL_502bdabbcc2f4959869dcbb2d49f718f"
          }
        },
        "9c36e2faf5334e6995ad0bdd9ab10068": {
          "model_module": "@jupyter-widgets/controls",
          "model_name": "LabelModel",
          "model_module_version": "1.5.0",
          "state": {
            "_dom_classes": [],
            "_model_module": "@jupyter-widgets/controls",
            "_model_module_version": "1.5.0",
            "_model_name": "LabelModel",
            "_view_count": null,
            "_view_module": "@jupyter-widgets/controls",
            "_view_module_version": "1.5.0",
            "_view_name": "LabelView",
            "description": "",
            "description_tooltip": null,
            "layout": "IPY_MODEL_6b2be577b5864bcba3ebccf509536d24",
            "placeholder": "​",
            "style": "IPY_MODEL_3acef3983daa436dbbbebdc93f1213d3",
            "value": "0.001 MB of 0.001 MB uploaded (0.000 MB deduped)\r"
          }
        },
        "651cd31e52f44031a437d37ba85436d3": {
          "model_module": "@jupyter-widgets/controls",
          "model_name": "FloatProgressModel",
          "model_module_version": "1.5.0",
          "state": {
            "_dom_classes": [],
            "_model_module": "@jupyter-widgets/controls",
            "_model_module_version": "1.5.0",
            "_model_name": "FloatProgressModel",
            "_view_count": null,
            "_view_module": "@jupyter-widgets/controls",
            "_view_module_version": "1.5.0",
            "_view_name": "ProgressView",
            "bar_style": "",
            "description": "",
            "description_tooltip": null,
            "layout": "IPY_MODEL_b7a2842a45df4a3280757e6daf5a8808",
            "max": 1,
            "min": 0,
            "orientation": "horizontal",
            "style": "IPY_MODEL_f1393ad64c4646499beaaf88f307ff91",
            "value": 1
          }
        },
        "502bdabbcc2f4959869dcbb2d49f718f": {
          "model_module": "@jupyter-widgets/base",
          "model_name": "LayoutModel",
          "model_module_version": "1.2.0",
          "state": {
            "_model_module": "@jupyter-widgets/base",
            "_model_module_version": "1.2.0",
            "_model_name": "LayoutModel",
            "_view_count": null,
            "_view_module": "@jupyter-widgets/base",
            "_view_module_version": "1.2.0",
            "_view_name": "LayoutView",
            "align_content": null,
            "align_items": null,
            "align_self": null,
            "border": null,
            "bottom": null,
            "display": null,
            "flex": null,
            "flex_flow": null,
            "grid_area": null,
            "grid_auto_columns": null,
            "grid_auto_flow": null,
            "grid_auto_rows": null,
            "grid_column": null,
            "grid_gap": null,
            "grid_row": null,
            "grid_template_areas": null,
            "grid_template_columns": null,
            "grid_template_rows": null,
            "height": null,
            "justify_content": null,
            "justify_items": null,
            "left": null,
            "margin": null,
            "max_height": null,
            "max_width": null,
            "min_height": null,
            "min_width": null,
            "object_fit": null,
            "object_position": null,
            "order": null,
            "overflow": null,
            "overflow_x": null,
            "overflow_y": null,
            "padding": null,
            "right": null,
            "top": null,
            "visibility": null,
            "width": null
          }
        },
        "6b2be577b5864bcba3ebccf509536d24": {
          "model_module": "@jupyter-widgets/base",
          "model_name": "LayoutModel",
          "model_module_version": "1.2.0",
          "state": {
            "_model_module": "@jupyter-widgets/base",
            "_model_module_version": "1.2.0",
            "_model_name": "LayoutModel",
            "_view_count": null,
            "_view_module": "@jupyter-widgets/base",
            "_view_module_version": "1.2.0",
            "_view_name": "LayoutView",
            "align_content": null,
            "align_items": null,
            "align_self": null,
            "border": null,
            "bottom": null,
            "display": null,
            "flex": null,
            "flex_flow": null,
            "grid_area": null,
            "grid_auto_columns": null,
            "grid_auto_flow": null,
            "grid_auto_rows": null,
            "grid_column": null,
            "grid_gap": null,
            "grid_row": null,
            "grid_template_areas": null,
            "grid_template_columns": null,
            "grid_template_rows": null,
            "height": null,
            "justify_content": null,
            "justify_items": null,
            "left": null,
            "margin": null,
            "max_height": null,
            "max_width": null,
            "min_height": null,
            "min_width": null,
            "object_fit": null,
            "object_position": null,
            "order": null,
            "overflow": null,
            "overflow_x": null,
            "overflow_y": null,
            "padding": null,
            "right": null,
            "top": null,
            "visibility": null,
            "width": null
          }
        },
        "3acef3983daa436dbbbebdc93f1213d3": {
          "model_module": "@jupyter-widgets/controls",
          "model_name": "DescriptionStyleModel",
          "model_module_version": "1.5.0",
          "state": {
            "_model_module": "@jupyter-widgets/controls",
            "_model_module_version": "1.5.0",
            "_model_name": "DescriptionStyleModel",
            "_view_count": null,
            "_view_module": "@jupyter-widgets/base",
            "_view_module_version": "1.2.0",
            "_view_name": "StyleView",
            "description_width": ""
          }
        },
        "b7a2842a45df4a3280757e6daf5a8808": {
          "model_module": "@jupyter-widgets/base",
          "model_name": "LayoutModel",
          "model_module_version": "1.2.0",
          "state": {
            "_model_module": "@jupyter-widgets/base",
            "_model_module_version": "1.2.0",
            "_model_name": "LayoutModel",
            "_view_count": null,
            "_view_module": "@jupyter-widgets/base",
            "_view_module_version": "1.2.0",
            "_view_name": "LayoutView",
            "align_content": null,
            "align_items": null,
            "align_self": null,
            "border": null,
            "bottom": null,
            "display": null,
            "flex": null,
            "flex_flow": null,
            "grid_area": null,
            "grid_auto_columns": null,
            "grid_auto_flow": null,
            "grid_auto_rows": null,
            "grid_column": null,
            "grid_gap": null,
            "grid_row": null,
            "grid_template_areas": null,
            "grid_template_columns": null,
            "grid_template_rows": null,
            "height": null,
            "justify_content": null,
            "justify_items": null,
            "left": null,
            "margin": null,
            "max_height": null,
            "max_width": null,
            "min_height": null,
            "min_width": null,
            "object_fit": null,
            "object_position": null,
            "order": null,
            "overflow": null,
            "overflow_x": null,
            "overflow_y": null,
            "padding": null,
            "right": null,
            "top": null,
            "visibility": null,
            "width": null
          }
        },
        "f1393ad64c4646499beaaf88f307ff91": {
          "model_module": "@jupyter-widgets/controls",
          "model_name": "ProgressStyleModel",
          "model_module_version": "1.5.0",
          "state": {
            "_model_module": "@jupyter-widgets/controls",
            "_model_module_version": "1.5.0",
            "_model_name": "ProgressStyleModel",
            "_view_count": null,
            "_view_module": "@jupyter-widgets/base",
            "_view_module_version": "1.2.0",
            "_view_name": "StyleView",
            "bar_color": null,
            "description_width": ""
          }
        },
        "be986653c5d644749c5cae829730fc29": {
          "model_module": "@jupyter-widgets/controls",
          "model_name": "VBoxModel",
          "model_module_version": "1.5.0",
          "state": {
            "_dom_classes": [],
            "_model_module": "@jupyter-widgets/controls",
            "_model_module_version": "1.5.0",
            "_model_name": "VBoxModel",
            "_view_count": null,
            "_view_module": "@jupyter-widgets/controls",
            "_view_module_version": "1.5.0",
            "_view_name": "VBoxView",
            "box_style": "",
            "children": [
              "IPY_MODEL_a5337dfb461f45d5a487897839f224fc",
              "IPY_MODEL_b8e8958b7676462f97fd310e12806216"
            ],
            "layout": "IPY_MODEL_4310f3f7333744f1a18c00a1e2a6b2f4"
          }
        },
        "a5337dfb461f45d5a487897839f224fc": {
          "model_module": "@jupyter-widgets/controls",
          "model_name": "LabelModel",
          "model_module_version": "1.5.0",
          "state": {
            "_dom_classes": [],
            "_model_module": "@jupyter-widgets/controls",
            "_model_module_version": "1.5.0",
            "_model_name": "LabelModel",
            "_view_count": null,
            "_view_module": "@jupyter-widgets/controls",
            "_view_module_version": "1.5.0",
            "_view_name": "LabelView",
            "description": "",
            "description_tooltip": null,
            "layout": "IPY_MODEL_d994244ad22341608258aec7d680ef77",
            "placeholder": "​",
            "style": "IPY_MODEL_70498878a96142648fe252b985ab55da",
            "value": "0.001 MB of 0.001 MB uploaded (0.000 MB deduped)\r"
          }
        },
        "b8e8958b7676462f97fd310e12806216": {
          "model_module": "@jupyter-widgets/controls",
          "model_name": "FloatProgressModel",
          "model_module_version": "1.5.0",
          "state": {
            "_dom_classes": [],
            "_model_module": "@jupyter-widgets/controls",
            "_model_module_version": "1.5.0",
            "_model_name": "FloatProgressModel",
            "_view_count": null,
            "_view_module": "@jupyter-widgets/controls",
            "_view_module_version": "1.5.0",
            "_view_name": "ProgressView",
            "bar_style": "",
            "description": "",
            "description_tooltip": null,
            "layout": "IPY_MODEL_196da1fc025f4085adb469bc310963bf",
            "max": 1,
            "min": 0,
            "orientation": "horizontal",
            "style": "IPY_MODEL_973ee5bb57134e3297c7dd709a376fe3",
            "value": 1
          }
        },
        "4310f3f7333744f1a18c00a1e2a6b2f4": {
          "model_module": "@jupyter-widgets/base",
          "model_name": "LayoutModel",
          "model_module_version": "1.2.0",
          "state": {
            "_model_module": "@jupyter-widgets/base",
            "_model_module_version": "1.2.0",
            "_model_name": "LayoutModel",
            "_view_count": null,
            "_view_module": "@jupyter-widgets/base",
            "_view_module_version": "1.2.0",
            "_view_name": "LayoutView",
            "align_content": null,
            "align_items": null,
            "align_self": null,
            "border": null,
            "bottom": null,
            "display": null,
            "flex": null,
            "flex_flow": null,
            "grid_area": null,
            "grid_auto_columns": null,
            "grid_auto_flow": null,
            "grid_auto_rows": null,
            "grid_column": null,
            "grid_gap": null,
            "grid_row": null,
            "grid_template_areas": null,
            "grid_template_columns": null,
            "grid_template_rows": null,
            "height": null,
            "justify_content": null,
            "justify_items": null,
            "left": null,
            "margin": null,
            "max_height": null,
            "max_width": null,
            "min_height": null,
            "min_width": null,
            "object_fit": null,
            "object_position": null,
            "order": null,
            "overflow": null,
            "overflow_x": null,
            "overflow_y": null,
            "padding": null,
            "right": null,
            "top": null,
            "visibility": null,
            "width": null
          }
        },
        "d994244ad22341608258aec7d680ef77": {
          "model_module": "@jupyter-widgets/base",
          "model_name": "LayoutModel",
          "model_module_version": "1.2.0",
          "state": {
            "_model_module": "@jupyter-widgets/base",
            "_model_module_version": "1.2.0",
            "_model_name": "LayoutModel",
            "_view_count": null,
            "_view_module": "@jupyter-widgets/base",
            "_view_module_version": "1.2.0",
            "_view_name": "LayoutView",
            "align_content": null,
            "align_items": null,
            "align_self": null,
            "border": null,
            "bottom": null,
            "display": null,
            "flex": null,
            "flex_flow": null,
            "grid_area": null,
            "grid_auto_columns": null,
            "grid_auto_flow": null,
            "grid_auto_rows": null,
            "grid_column": null,
            "grid_gap": null,
            "grid_row": null,
            "grid_template_areas": null,
            "grid_template_columns": null,
            "grid_template_rows": null,
            "height": null,
            "justify_content": null,
            "justify_items": null,
            "left": null,
            "margin": null,
            "max_height": null,
            "max_width": null,
            "min_height": null,
            "min_width": null,
            "object_fit": null,
            "object_position": null,
            "order": null,
            "overflow": null,
            "overflow_x": null,
            "overflow_y": null,
            "padding": null,
            "right": null,
            "top": null,
            "visibility": null,
            "width": null
          }
        },
        "70498878a96142648fe252b985ab55da": {
          "model_module": "@jupyter-widgets/controls",
          "model_name": "DescriptionStyleModel",
          "model_module_version": "1.5.0",
          "state": {
            "_model_module": "@jupyter-widgets/controls",
            "_model_module_version": "1.5.0",
            "_model_name": "DescriptionStyleModel",
            "_view_count": null,
            "_view_module": "@jupyter-widgets/base",
            "_view_module_version": "1.2.0",
            "_view_name": "StyleView",
            "description_width": ""
          }
        },
        "196da1fc025f4085adb469bc310963bf": {
          "model_module": "@jupyter-widgets/base",
          "model_name": "LayoutModel",
          "model_module_version": "1.2.0",
          "state": {
            "_model_module": "@jupyter-widgets/base",
            "_model_module_version": "1.2.0",
            "_model_name": "LayoutModel",
            "_view_count": null,
            "_view_module": "@jupyter-widgets/base",
            "_view_module_version": "1.2.0",
            "_view_name": "LayoutView",
            "align_content": null,
            "align_items": null,
            "align_self": null,
            "border": null,
            "bottom": null,
            "display": null,
            "flex": null,
            "flex_flow": null,
            "grid_area": null,
            "grid_auto_columns": null,
            "grid_auto_flow": null,
            "grid_auto_rows": null,
            "grid_column": null,
            "grid_gap": null,
            "grid_row": null,
            "grid_template_areas": null,
            "grid_template_columns": null,
            "grid_template_rows": null,
            "height": null,
            "justify_content": null,
            "justify_items": null,
            "left": null,
            "margin": null,
            "max_height": null,
            "max_width": null,
            "min_height": null,
            "min_width": null,
            "object_fit": null,
            "object_position": null,
            "order": null,
            "overflow": null,
            "overflow_x": null,
            "overflow_y": null,
            "padding": null,
            "right": null,
            "top": null,
            "visibility": null,
            "width": null
          }
        },
        "973ee5bb57134e3297c7dd709a376fe3": {
          "model_module": "@jupyter-widgets/controls",
          "model_name": "ProgressStyleModel",
          "model_module_version": "1.5.0",
          "state": {
            "_model_module": "@jupyter-widgets/controls",
            "_model_module_version": "1.5.0",
            "_model_name": "ProgressStyleModel",
            "_view_count": null,
            "_view_module": "@jupyter-widgets/base",
            "_view_module_version": "1.2.0",
            "_view_name": "StyleView",
            "bar_color": null,
            "description_width": ""
          }
        },
        "562ed5865a3f4e5097f880bf5ed2d611": {
          "model_module": "@jupyter-widgets/controls",
          "model_name": "VBoxModel",
          "model_module_version": "1.5.0",
          "state": {
            "_dom_classes": [],
            "_model_module": "@jupyter-widgets/controls",
            "_model_module_version": "1.5.0",
            "_model_name": "VBoxModel",
            "_view_count": null,
            "_view_module": "@jupyter-widgets/controls",
            "_view_module_version": "1.5.0",
            "_view_name": "VBoxView",
            "box_style": "",
            "children": [
              "IPY_MODEL_03d0e3f6193341cbaa0c966a25f2c29b",
              "IPY_MODEL_126e667b4beb4cc0b307baa87e17e07b"
            ],
            "layout": "IPY_MODEL_0af356268f1547d0867d3d4bc7e537a9"
          }
        },
        "03d0e3f6193341cbaa0c966a25f2c29b": {
          "model_module": "@jupyter-widgets/controls",
          "model_name": "LabelModel",
          "model_module_version": "1.5.0",
          "state": {
            "_dom_classes": [],
            "_model_module": "@jupyter-widgets/controls",
            "_model_module_version": "1.5.0",
            "_model_name": "LabelModel",
            "_view_count": null,
            "_view_module": "@jupyter-widgets/controls",
            "_view_module_version": "1.5.0",
            "_view_name": "LabelView",
            "description": "",
            "description_tooltip": null,
            "layout": "IPY_MODEL_5690f761b1944638b6f9bf8bc2e04c15",
            "placeholder": "​",
            "style": "IPY_MODEL_4499efb2cd7b4b6d944f680849efb215",
            "value": "0.001 MB of 0.001 MB uploaded (0.000 MB deduped)\r"
          }
        },
        "126e667b4beb4cc0b307baa87e17e07b": {
          "model_module": "@jupyter-widgets/controls",
          "model_name": "FloatProgressModel",
          "model_module_version": "1.5.0",
          "state": {
            "_dom_classes": [],
            "_model_module": "@jupyter-widgets/controls",
            "_model_module_version": "1.5.0",
            "_model_name": "FloatProgressModel",
            "_view_count": null,
            "_view_module": "@jupyter-widgets/controls",
            "_view_module_version": "1.5.0",
            "_view_name": "ProgressView",
            "bar_style": "",
            "description": "",
            "description_tooltip": null,
            "layout": "IPY_MODEL_00499e94e5644991ba7dda939167de37",
            "max": 1,
            "min": 0,
            "orientation": "horizontal",
            "style": "IPY_MODEL_6603e85733054f9fbc68c9591db04590",
            "value": 1
          }
        },
        "0af356268f1547d0867d3d4bc7e537a9": {
          "model_module": "@jupyter-widgets/base",
          "model_name": "LayoutModel",
          "model_module_version": "1.2.0",
          "state": {
            "_model_module": "@jupyter-widgets/base",
            "_model_module_version": "1.2.0",
            "_model_name": "LayoutModel",
            "_view_count": null,
            "_view_module": "@jupyter-widgets/base",
            "_view_module_version": "1.2.0",
            "_view_name": "LayoutView",
            "align_content": null,
            "align_items": null,
            "align_self": null,
            "border": null,
            "bottom": null,
            "display": null,
            "flex": null,
            "flex_flow": null,
            "grid_area": null,
            "grid_auto_columns": null,
            "grid_auto_flow": null,
            "grid_auto_rows": null,
            "grid_column": null,
            "grid_gap": null,
            "grid_row": null,
            "grid_template_areas": null,
            "grid_template_columns": null,
            "grid_template_rows": null,
            "height": null,
            "justify_content": null,
            "justify_items": null,
            "left": null,
            "margin": null,
            "max_height": null,
            "max_width": null,
            "min_height": null,
            "min_width": null,
            "object_fit": null,
            "object_position": null,
            "order": null,
            "overflow": null,
            "overflow_x": null,
            "overflow_y": null,
            "padding": null,
            "right": null,
            "top": null,
            "visibility": null,
            "width": null
          }
        },
        "5690f761b1944638b6f9bf8bc2e04c15": {
          "model_module": "@jupyter-widgets/base",
          "model_name": "LayoutModel",
          "model_module_version": "1.2.0",
          "state": {
            "_model_module": "@jupyter-widgets/base",
            "_model_module_version": "1.2.0",
            "_model_name": "LayoutModel",
            "_view_count": null,
            "_view_module": "@jupyter-widgets/base",
            "_view_module_version": "1.2.0",
            "_view_name": "LayoutView",
            "align_content": null,
            "align_items": null,
            "align_self": null,
            "border": null,
            "bottom": null,
            "display": null,
            "flex": null,
            "flex_flow": null,
            "grid_area": null,
            "grid_auto_columns": null,
            "grid_auto_flow": null,
            "grid_auto_rows": null,
            "grid_column": null,
            "grid_gap": null,
            "grid_row": null,
            "grid_template_areas": null,
            "grid_template_columns": null,
            "grid_template_rows": null,
            "height": null,
            "justify_content": null,
            "justify_items": null,
            "left": null,
            "margin": null,
            "max_height": null,
            "max_width": null,
            "min_height": null,
            "min_width": null,
            "object_fit": null,
            "object_position": null,
            "order": null,
            "overflow": null,
            "overflow_x": null,
            "overflow_y": null,
            "padding": null,
            "right": null,
            "top": null,
            "visibility": null,
            "width": null
          }
        },
        "4499efb2cd7b4b6d944f680849efb215": {
          "model_module": "@jupyter-widgets/controls",
          "model_name": "DescriptionStyleModel",
          "model_module_version": "1.5.0",
          "state": {
            "_model_module": "@jupyter-widgets/controls",
            "_model_module_version": "1.5.0",
            "_model_name": "DescriptionStyleModel",
            "_view_count": null,
            "_view_module": "@jupyter-widgets/base",
            "_view_module_version": "1.2.0",
            "_view_name": "StyleView",
            "description_width": ""
          }
        },
        "00499e94e5644991ba7dda939167de37": {
          "model_module": "@jupyter-widgets/base",
          "model_name": "LayoutModel",
          "model_module_version": "1.2.0",
          "state": {
            "_model_module": "@jupyter-widgets/base",
            "_model_module_version": "1.2.0",
            "_model_name": "LayoutModel",
            "_view_count": null,
            "_view_module": "@jupyter-widgets/base",
            "_view_module_version": "1.2.0",
            "_view_name": "LayoutView",
            "align_content": null,
            "align_items": null,
            "align_self": null,
            "border": null,
            "bottom": null,
            "display": null,
            "flex": null,
            "flex_flow": null,
            "grid_area": null,
            "grid_auto_columns": null,
            "grid_auto_flow": null,
            "grid_auto_rows": null,
            "grid_column": null,
            "grid_gap": null,
            "grid_row": null,
            "grid_template_areas": null,
            "grid_template_columns": null,
            "grid_template_rows": null,
            "height": null,
            "justify_content": null,
            "justify_items": null,
            "left": null,
            "margin": null,
            "max_height": null,
            "max_width": null,
            "min_height": null,
            "min_width": null,
            "object_fit": null,
            "object_position": null,
            "order": null,
            "overflow": null,
            "overflow_x": null,
            "overflow_y": null,
            "padding": null,
            "right": null,
            "top": null,
            "visibility": null,
            "width": null
          }
        },
        "6603e85733054f9fbc68c9591db04590": {
          "model_module": "@jupyter-widgets/controls",
          "model_name": "ProgressStyleModel",
          "model_module_version": "1.5.0",
          "state": {
            "_model_module": "@jupyter-widgets/controls",
            "_model_module_version": "1.5.0",
            "_model_name": "ProgressStyleModel",
            "_view_count": null,
            "_view_module": "@jupyter-widgets/base",
            "_view_module_version": "1.2.0",
            "_view_name": "StyleView",
            "bar_color": null,
            "description_width": ""
          }
        },
        "75b1d5d84e9248549ccbf384f7e8bb95": {
          "model_module": "@jupyter-widgets/controls",
          "model_name": "VBoxModel",
          "model_module_version": "1.5.0",
          "state": {
            "_dom_classes": [],
            "_model_module": "@jupyter-widgets/controls",
            "_model_module_version": "1.5.0",
            "_model_name": "VBoxModel",
            "_view_count": null,
            "_view_module": "@jupyter-widgets/controls",
            "_view_module_version": "1.5.0",
            "_view_name": "VBoxView",
            "box_style": "",
            "children": [
              "IPY_MODEL_120859e2604d44a09dea81f50a29de5b",
              "IPY_MODEL_f2afb38503634f1280b6cbe437b91a4f"
            ],
            "layout": "IPY_MODEL_6fa60a70e7ee40b6bab1d742758b1d7a"
          }
        },
        "120859e2604d44a09dea81f50a29de5b": {
          "model_module": "@jupyter-widgets/controls",
          "model_name": "LabelModel",
          "model_module_version": "1.5.0",
          "state": {
            "_dom_classes": [],
            "_model_module": "@jupyter-widgets/controls",
            "_model_module_version": "1.5.0",
            "_model_name": "LabelModel",
            "_view_count": null,
            "_view_module": "@jupyter-widgets/controls",
            "_view_module_version": "1.5.0",
            "_view_name": "LabelView",
            "description": "",
            "description_tooltip": null,
            "layout": "IPY_MODEL_c4c6c05b2a474abbb3a60edffca04c24",
            "placeholder": "​",
            "style": "IPY_MODEL_43f813895f9f479fa384d239cc60bf2e",
            "value": "0.001 MB of 0.001 MB uploaded (0.000 MB deduped)\r"
          }
        },
        "f2afb38503634f1280b6cbe437b91a4f": {
          "model_module": "@jupyter-widgets/controls",
          "model_name": "FloatProgressModel",
          "model_module_version": "1.5.0",
          "state": {
            "_dom_classes": [],
            "_model_module": "@jupyter-widgets/controls",
            "_model_module_version": "1.5.0",
            "_model_name": "FloatProgressModel",
            "_view_count": null,
            "_view_module": "@jupyter-widgets/controls",
            "_view_module_version": "1.5.0",
            "_view_name": "ProgressView",
            "bar_style": "",
            "description": "",
            "description_tooltip": null,
            "layout": "IPY_MODEL_21357ffbfdba4c6eb6f0ea29d4ab6efb",
            "max": 1,
            "min": 0,
            "orientation": "horizontal",
            "style": "IPY_MODEL_d9d59fdfa233445ea73b5d2235285d2b",
            "value": 1
          }
        },
        "6fa60a70e7ee40b6bab1d742758b1d7a": {
          "model_module": "@jupyter-widgets/base",
          "model_name": "LayoutModel",
          "model_module_version": "1.2.0",
          "state": {
            "_model_module": "@jupyter-widgets/base",
            "_model_module_version": "1.2.0",
            "_model_name": "LayoutModel",
            "_view_count": null,
            "_view_module": "@jupyter-widgets/base",
            "_view_module_version": "1.2.0",
            "_view_name": "LayoutView",
            "align_content": null,
            "align_items": null,
            "align_self": null,
            "border": null,
            "bottom": null,
            "display": null,
            "flex": null,
            "flex_flow": null,
            "grid_area": null,
            "grid_auto_columns": null,
            "grid_auto_flow": null,
            "grid_auto_rows": null,
            "grid_column": null,
            "grid_gap": null,
            "grid_row": null,
            "grid_template_areas": null,
            "grid_template_columns": null,
            "grid_template_rows": null,
            "height": null,
            "justify_content": null,
            "justify_items": null,
            "left": null,
            "margin": null,
            "max_height": null,
            "max_width": null,
            "min_height": null,
            "min_width": null,
            "object_fit": null,
            "object_position": null,
            "order": null,
            "overflow": null,
            "overflow_x": null,
            "overflow_y": null,
            "padding": null,
            "right": null,
            "top": null,
            "visibility": null,
            "width": null
          }
        },
        "c4c6c05b2a474abbb3a60edffca04c24": {
          "model_module": "@jupyter-widgets/base",
          "model_name": "LayoutModel",
          "model_module_version": "1.2.0",
          "state": {
            "_model_module": "@jupyter-widgets/base",
            "_model_module_version": "1.2.0",
            "_model_name": "LayoutModel",
            "_view_count": null,
            "_view_module": "@jupyter-widgets/base",
            "_view_module_version": "1.2.0",
            "_view_name": "LayoutView",
            "align_content": null,
            "align_items": null,
            "align_self": null,
            "border": null,
            "bottom": null,
            "display": null,
            "flex": null,
            "flex_flow": null,
            "grid_area": null,
            "grid_auto_columns": null,
            "grid_auto_flow": null,
            "grid_auto_rows": null,
            "grid_column": null,
            "grid_gap": null,
            "grid_row": null,
            "grid_template_areas": null,
            "grid_template_columns": null,
            "grid_template_rows": null,
            "height": null,
            "justify_content": null,
            "justify_items": null,
            "left": null,
            "margin": null,
            "max_height": null,
            "max_width": null,
            "min_height": null,
            "min_width": null,
            "object_fit": null,
            "object_position": null,
            "order": null,
            "overflow": null,
            "overflow_x": null,
            "overflow_y": null,
            "padding": null,
            "right": null,
            "top": null,
            "visibility": null,
            "width": null
          }
        },
        "43f813895f9f479fa384d239cc60bf2e": {
          "model_module": "@jupyter-widgets/controls",
          "model_name": "DescriptionStyleModel",
          "model_module_version": "1.5.0",
          "state": {
            "_model_module": "@jupyter-widgets/controls",
            "_model_module_version": "1.5.0",
            "_model_name": "DescriptionStyleModel",
            "_view_count": null,
            "_view_module": "@jupyter-widgets/base",
            "_view_module_version": "1.2.0",
            "_view_name": "StyleView",
            "description_width": ""
          }
        },
        "21357ffbfdba4c6eb6f0ea29d4ab6efb": {
          "model_module": "@jupyter-widgets/base",
          "model_name": "LayoutModel",
          "model_module_version": "1.2.0",
          "state": {
            "_model_module": "@jupyter-widgets/base",
            "_model_module_version": "1.2.0",
            "_model_name": "LayoutModel",
            "_view_count": null,
            "_view_module": "@jupyter-widgets/base",
            "_view_module_version": "1.2.0",
            "_view_name": "LayoutView",
            "align_content": null,
            "align_items": null,
            "align_self": null,
            "border": null,
            "bottom": null,
            "display": null,
            "flex": null,
            "flex_flow": null,
            "grid_area": null,
            "grid_auto_columns": null,
            "grid_auto_flow": null,
            "grid_auto_rows": null,
            "grid_column": null,
            "grid_gap": null,
            "grid_row": null,
            "grid_template_areas": null,
            "grid_template_columns": null,
            "grid_template_rows": null,
            "height": null,
            "justify_content": null,
            "justify_items": null,
            "left": null,
            "margin": null,
            "max_height": null,
            "max_width": null,
            "min_height": null,
            "min_width": null,
            "object_fit": null,
            "object_position": null,
            "order": null,
            "overflow": null,
            "overflow_x": null,
            "overflow_y": null,
            "padding": null,
            "right": null,
            "top": null,
            "visibility": null,
            "width": null
          }
        },
        "d9d59fdfa233445ea73b5d2235285d2b": {
          "model_module": "@jupyter-widgets/controls",
          "model_name": "ProgressStyleModel",
          "model_module_version": "1.5.0",
          "state": {
            "_model_module": "@jupyter-widgets/controls",
            "_model_module_version": "1.5.0",
            "_model_name": "ProgressStyleModel",
            "_view_count": null,
            "_view_module": "@jupyter-widgets/base",
            "_view_module_version": "1.2.0",
            "_view_name": "StyleView",
            "bar_color": null,
            "description_width": ""
          }
        },
        "1dae0a1ee8cd4108a99452bc317b109b": {
          "model_module": "@jupyter-widgets/controls",
          "model_name": "VBoxModel",
          "model_module_version": "1.5.0",
          "state": {
            "_dom_classes": [],
            "_model_module": "@jupyter-widgets/controls",
            "_model_module_version": "1.5.0",
            "_model_name": "VBoxModel",
            "_view_count": null,
            "_view_module": "@jupyter-widgets/controls",
            "_view_module_version": "1.5.0",
            "_view_name": "VBoxView",
            "box_style": "",
            "children": [
              "IPY_MODEL_58816aa59d46417daf3f600cbfdb2004",
              "IPY_MODEL_bdae339ea060499ba88dc93acaea7410"
            ],
            "layout": "IPY_MODEL_ca818501111b4e70bd7413699f5da2d0"
          }
        },
        "58816aa59d46417daf3f600cbfdb2004": {
          "model_module": "@jupyter-widgets/controls",
          "model_name": "LabelModel",
          "model_module_version": "1.5.0",
          "state": {
            "_dom_classes": [],
            "_model_module": "@jupyter-widgets/controls",
            "_model_module_version": "1.5.0",
            "_model_name": "LabelModel",
            "_view_count": null,
            "_view_module": "@jupyter-widgets/controls",
            "_view_module_version": "1.5.0",
            "_view_name": "LabelView",
            "description": "",
            "description_tooltip": null,
            "layout": "IPY_MODEL_d9242386513f44279d13181237971604",
            "placeholder": "​",
            "style": "IPY_MODEL_6c6a5743254a49bda7132807803ce80d",
            "value": "0.001 MB of 0.001 MB uploaded (0.000 MB deduped)\r"
          }
        },
        "bdae339ea060499ba88dc93acaea7410": {
          "model_module": "@jupyter-widgets/controls",
          "model_name": "FloatProgressModel",
          "model_module_version": "1.5.0",
          "state": {
            "_dom_classes": [],
            "_model_module": "@jupyter-widgets/controls",
            "_model_module_version": "1.5.0",
            "_model_name": "FloatProgressModel",
            "_view_count": null,
            "_view_module": "@jupyter-widgets/controls",
            "_view_module_version": "1.5.0",
            "_view_name": "ProgressView",
            "bar_style": "",
            "description": "",
            "description_tooltip": null,
            "layout": "IPY_MODEL_e1c133eb69d342fdabada5548e857fb8",
            "max": 1,
            "min": 0,
            "orientation": "horizontal",
            "style": "IPY_MODEL_6ba1619bdd714b8eb095cc2969ed35a9",
            "value": 1
          }
        },
        "ca818501111b4e70bd7413699f5da2d0": {
          "model_module": "@jupyter-widgets/base",
          "model_name": "LayoutModel",
          "model_module_version": "1.2.0",
          "state": {
            "_model_module": "@jupyter-widgets/base",
            "_model_module_version": "1.2.0",
            "_model_name": "LayoutModel",
            "_view_count": null,
            "_view_module": "@jupyter-widgets/base",
            "_view_module_version": "1.2.0",
            "_view_name": "LayoutView",
            "align_content": null,
            "align_items": null,
            "align_self": null,
            "border": null,
            "bottom": null,
            "display": null,
            "flex": null,
            "flex_flow": null,
            "grid_area": null,
            "grid_auto_columns": null,
            "grid_auto_flow": null,
            "grid_auto_rows": null,
            "grid_column": null,
            "grid_gap": null,
            "grid_row": null,
            "grid_template_areas": null,
            "grid_template_columns": null,
            "grid_template_rows": null,
            "height": null,
            "justify_content": null,
            "justify_items": null,
            "left": null,
            "margin": null,
            "max_height": null,
            "max_width": null,
            "min_height": null,
            "min_width": null,
            "object_fit": null,
            "object_position": null,
            "order": null,
            "overflow": null,
            "overflow_x": null,
            "overflow_y": null,
            "padding": null,
            "right": null,
            "top": null,
            "visibility": null,
            "width": null
          }
        },
        "d9242386513f44279d13181237971604": {
          "model_module": "@jupyter-widgets/base",
          "model_name": "LayoutModel",
          "model_module_version": "1.2.0",
          "state": {
            "_model_module": "@jupyter-widgets/base",
            "_model_module_version": "1.2.0",
            "_model_name": "LayoutModel",
            "_view_count": null,
            "_view_module": "@jupyter-widgets/base",
            "_view_module_version": "1.2.0",
            "_view_name": "LayoutView",
            "align_content": null,
            "align_items": null,
            "align_self": null,
            "border": null,
            "bottom": null,
            "display": null,
            "flex": null,
            "flex_flow": null,
            "grid_area": null,
            "grid_auto_columns": null,
            "grid_auto_flow": null,
            "grid_auto_rows": null,
            "grid_column": null,
            "grid_gap": null,
            "grid_row": null,
            "grid_template_areas": null,
            "grid_template_columns": null,
            "grid_template_rows": null,
            "height": null,
            "justify_content": null,
            "justify_items": null,
            "left": null,
            "margin": null,
            "max_height": null,
            "max_width": null,
            "min_height": null,
            "min_width": null,
            "object_fit": null,
            "object_position": null,
            "order": null,
            "overflow": null,
            "overflow_x": null,
            "overflow_y": null,
            "padding": null,
            "right": null,
            "top": null,
            "visibility": null,
            "width": null
          }
        },
        "6c6a5743254a49bda7132807803ce80d": {
          "model_module": "@jupyter-widgets/controls",
          "model_name": "DescriptionStyleModel",
          "model_module_version": "1.5.0",
          "state": {
            "_model_module": "@jupyter-widgets/controls",
            "_model_module_version": "1.5.0",
            "_model_name": "DescriptionStyleModel",
            "_view_count": null,
            "_view_module": "@jupyter-widgets/base",
            "_view_module_version": "1.2.0",
            "_view_name": "StyleView",
            "description_width": ""
          }
        },
        "e1c133eb69d342fdabada5548e857fb8": {
          "model_module": "@jupyter-widgets/base",
          "model_name": "LayoutModel",
          "model_module_version": "1.2.0",
          "state": {
            "_model_module": "@jupyter-widgets/base",
            "_model_module_version": "1.2.0",
            "_model_name": "LayoutModel",
            "_view_count": null,
            "_view_module": "@jupyter-widgets/base",
            "_view_module_version": "1.2.0",
            "_view_name": "LayoutView",
            "align_content": null,
            "align_items": null,
            "align_self": null,
            "border": null,
            "bottom": null,
            "display": null,
            "flex": null,
            "flex_flow": null,
            "grid_area": null,
            "grid_auto_columns": null,
            "grid_auto_flow": null,
            "grid_auto_rows": null,
            "grid_column": null,
            "grid_gap": null,
            "grid_row": null,
            "grid_template_areas": null,
            "grid_template_columns": null,
            "grid_template_rows": null,
            "height": null,
            "justify_content": null,
            "justify_items": null,
            "left": null,
            "margin": null,
            "max_height": null,
            "max_width": null,
            "min_height": null,
            "min_width": null,
            "object_fit": null,
            "object_position": null,
            "order": null,
            "overflow": null,
            "overflow_x": null,
            "overflow_y": null,
            "padding": null,
            "right": null,
            "top": null,
            "visibility": null,
            "width": null
          }
        },
        "6ba1619bdd714b8eb095cc2969ed35a9": {
          "model_module": "@jupyter-widgets/controls",
          "model_name": "ProgressStyleModel",
          "model_module_version": "1.5.0",
          "state": {
            "_model_module": "@jupyter-widgets/controls",
            "_model_module_version": "1.5.0",
            "_model_name": "ProgressStyleModel",
            "_view_count": null,
            "_view_module": "@jupyter-widgets/base",
            "_view_module_version": "1.2.0",
            "_view_name": "StyleView",
            "bar_color": null,
            "description_width": ""
          }
        },
        "c107da8c38fe456a9d11efb4eb2379d5": {
          "model_module": "@jupyter-widgets/controls",
          "model_name": "VBoxModel",
          "model_module_version": "1.5.0",
          "state": {
            "_dom_classes": [],
            "_model_module": "@jupyter-widgets/controls",
            "_model_module_version": "1.5.0",
            "_model_name": "VBoxModel",
            "_view_count": null,
            "_view_module": "@jupyter-widgets/controls",
            "_view_module_version": "1.5.0",
            "_view_name": "VBoxView",
            "box_style": "",
            "children": [
              "IPY_MODEL_a63af5df1b16434f89ea9dda28272b47",
              "IPY_MODEL_b5d1ef06b8a14ef28560885f35ab8923"
            ],
            "layout": "IPY_MODEL_8e0fad64434f43fbbebb75f4916e4f24"
          }
        },
        "a63af5df1b16434f89ea9dda28272b47": {
          "model_module": "@jupyter-widgets/controls",
          "model_name": "LabelModel",
          "model_module_version": "1.5.0",
          "state": {
            "_dom_classes": [],
            "_model_module": "@jupyter-widgets/controls",
            "_model_module_version": "1.5.0",
            "_model_name": "LabelModel",
            "_view_count": null,
            "_view_module": "@jupyter-widgets/controls",
            "_view_module_version": "1.5.0",
            "_view_name": "LabelView",
            "description": "",
            "description_tooltip": null,
            "layout": "IPY_MODEL_3af8a8b1862247f885907aa3983966c6",
            "placeholder": "​",
            "style": "IPY_MODEL_498f3f2f2c6340ffb244b90f3306cbeb",
            "value": "0.001 MB of 0.009 MB uploaded (0.000 MB deduped)\r"
          }
        },
        "b5d1ef06b8a14ef28560885f35ab8923": {
          "model_module": "@jupyter-widgets/controls",
          "model_name": "FloatProgressModel",
          "model_module_version": "1.5.0",
          "state": {
            "_dom_classes": [],
            "_model_module": "@jupyter-widgets/controls",
            "_model_module_version": "1.5.0",
            "_model_name": "FloatProgressModel",
            "_view_count": null,
            "_view_module": "@jupyter-widgets/controls",
            "_view_module_version": "1.5.0",
            "_view_name": "ProgressView",
            "bar_style": "",
            "description": "",
            "description_tooltip": null,
            "layout": "IPY_MODEL_dc5004a28a8d4891b5333347d396b83b",
            "max": 1,
            "min": 0,
            "orientation": "horizontal",
            "style": "IPY_MODEL_de43adf24ade48aa8e86f38fd0c087d4",
            "value": 0.12335491957384584
          }
        },
        "8e0fad64434f43fbbebb75f4916e4f24": {
          "model_module": "@jupyter-widgets/base",
          "model_name": "LayoutModel",
          "model_module_version": "1.2.0",
          "state": {
            "_model_module": "@jupyter-widgets/base",
            "_model_module_version": "1.2.0",
            "_model_name": "LayoutModel",
            "_view_count": null,
            "_view_module": "@jupyter-widgets/base",
            "_view_module_version": "1.2.0",
            "_view_name": "LayoutView",
            "align_content": null,
            "align_items": null,
            "align_self": null,
            "border": null,
            "bottom": null,
            "display": null,
            "flex": null,
            "flex_flow": null,
            "grid_area": null,
            "grid_auto_columns": null,
            "grid_auto_flow": null,
            "grid_auto_rows": null,
            "grid_column": null,
            "grid_gap": null,
            "grid_row": null,
            "grid_template_areas": null,
            "grid_template_columns": null,
            "grid_template_rows": null,
            "height": null,
            "justify_content": null,
            "justify_items": null,
            "left": null,
            "margin": null,
            "max_height": null,
            "max_width": null,
            "min_height": null,
            "min_width": null,
            "object_fit": null,
            "object_position": null,
            "order": null,
            "overflow": null,
            "overflow_x": null,
            "overflow_y": null,
            "padding": null,
            "right": null,
            "top": null,
            "visibility": null,
            "width": null
          }
        },
        "3af8a8b1862247f885907aa3983966c6": {
          "model_module": "@jupyter-widgets/base",
          "model_name": "LayoutModel",
          "model_module_version": "1.2.0",
          "state": {
            "_model_module": "@jupyter-widgets/base",
            "_model_module_version": "1.2.0",
            "_model_name": "LayoutModel",
            "_view_count": null,
            "_view_module": "@jupyter-widgets/base",
            "_view_module_version": "1.2.0",
            "_view_name": "LayoutView",
            "align_content": null,
            "align_items": null,
            "align_self": null,
            "border": null,
            "bottom": null,
            "display": null,
            "flex": null,
            "flex_flow": null,
            "grid_area": null,
            "grid_auto_columns": null,
            "grid_auto_flow": null,
            "grid_auto_rows": null,
            "grid_column": null,
            "grid_gap": null,
            "grid_row": null,
            "grid_template_areas": null,
            "grid_template_columns": null,
            "grid_template_rows": null,
            "height": null,
            "justify_content": null,
            "justify_items": null,
            "left": null,
            "margin": null,
            "max_height": null,
            "max_width": null,
            "min_height": null,
            "min_width": null,
            "object_fit": null,
            "object_position": null,
            "order": null,
            "overflow": null,
            "overflow_x": null,
            "overflow_y": null,
            "padding": null,
            "right": null,
            "top": null,
            "visibility": null,
            "width": null
          }
        },
        "498f3f2f2c6340ffb244b90f3306cbeb": {
          "model_module": "@jupyter-widgets/controls",
          "model_name": "DescriptionStyleModel",
          "model_module_version": "1.5.0",
          "state": {
            "_model_module": "@jupyter-widgets/controls",
            "_model_module_version": "1.5.0",
            "_model_name": "DescriptionStyleModel",
            "_view_count": null,
            "_view_module": "@jupyter-widgets/base",
            "_view_module_version": "1.2.0",
            "_view_name": "StyleView",
            "description_width": ""
          }
        },
        "dc5004a28a8d4891b5333347d396b83b": {
          "model_module": "@jupyter-widgets/base",
          "model_name": "LayoutModel",
          "model_module_version": "1.2.0",
          "state": {
            "_model_module": "@jupyter-widgets/base",
            "_model_module_version": "1.2.0",
            "_model_name": "LayoutModel",
            "_view_count": null,
            "_view_module": "@jupyter-widgets/base",
            "_view_module_version": "1.2.0",
            "_view_name": "LayoutView",
            "align_content": null,
            "align_items": null,
            "align_self": null,
            "border": null,
            "bottom": null,
            "display": null,
            "flex": null,
            "flex_flow": null,
            "grid_area": null,
            "grid_auto_columns": null,
            "grid_auto_flow": null,
            "grid_auto_rows": null,
            "grid_column": null,
            "grid_gap": null,
            "grid_row": null,
            "grid_template_areas": null,
            "grid_template_columns": null,
            "grid_template_rows": null,
            "height": null,
            "justify_content": null,
            "justify_items": null,
            "left": null,
            "margin": null,
            "max_height": null,
            "max_width": null,
            "min_height": null,
            "min_width": null,
            "object_fit": null,
            "object_position": null,
            "order": null,
            "overflow": null,
            "overflow_x": null,
            "overflow_y": null,
            "padding": null,
            "right": null,
            "top": null,
            "visibility": null,
            "width": null
          }
        },
        "de43adf24ade48aa8e86f38fd0c087d4": {
          "model_module": "@jupyter-widgets/controls",
          "model_name": "ProgressStyleModel",
          "model_module_version": "1.5.0",
          "state": {
            "_model_module": "@jupyter-widgets/controls",
            "_model_module_version": "1.5.0",
            "_model_name": "ProgressStyleModel",
            "_view_count": null,
            "_view_module": "@jupyter-widgets/base",
            "_view_module_version": "1.2.0",
            "_view_name": "StyleView",
            "bar_color": null,
            "description_width": ""
          }
        },
        "4a272647f7ca494d95bb22c04948d5fa": {
          "model_module": "@jupyter-widgets/controls",
          "model_name": "VBoxModel",
          "model_module_version": "1.5.0",
          "state": {
            "_dom_classes": [],
            "_model_module": "@jupyter-widgets/controls",
            "_model_module_version": "1.5.0",
            "_model_name": "VBoxModel",
            "_view_count": null,
            "_view_module": "@jupyter-widgets/controls",
            "_view_module_version": "1.5.0",
            "_view_name": "VBoxView",
            "box_style": "",
            "children": [
              "IPY_MODEL_c588ab6eef184b42a123beb8ce15b5ab",
              "IPY_MODEL_eaa06c599fe749a6ab563fe9617768b9"
            ],
            "layout": "IPY_MODEL_323e1dd301c14816a4f4446d082df7ef"
          }
        },
        "c588ab6eef184b42a123beb8ce15b5ab": {
          "model_module": "@jupyter-widgets/controls",
          "model_name": "LabelModel",
          "model_module_version": "1.5.0",
          "state": {
            "_dom_classes": [],
            "_model_module": "@jupyter-widgets/controls",
            "_model_module_version": "1.5.0",
            "_model_name": "LabelModel",
            "_view_count": null,
            "_view_module": "@jupyter-widgets/controls",
            "_view_module_version": "1.5.0",
            "_view_name": "LabelView",
            "description": "",
            "description_tooltip": null,
            "layout": "IPY_MODEL_b5fda49e5edf42b681169dacd74b990c",
            "placeholder": "​",
            "style": "IPY_MODEL_94ae154f14f44c0fa51e770d6337923d",
            "value": "0.001 MB of 0.001 MB uploaded (0.000 MB deduped)\r"
          }
        },
        "eaa06c599fe749a6ab563fe9617768b9": {
          "model_module": "@jupyter-widgets/controls",
          "model_name": "FloatProgressModel",
          "model_module_version": "1.5.0",
          "state": {
            "_dom_classes": [],
            "_model_module": "@jupyter-widgets/controls",
            "_model_module_version": "1.5.0",
            "_model_name": "FloatProgressModel",
            "_view_count": null,
            "_view_module": "@jupyter-widgets/controls",
            "_view_module_version": "1.5.0",
            "_view_name": "ProgressView",
            "bar_style": "",
            "description": "",
            "description_tooltip": null,
            "layout": "IPY_MODEL_69ed7bcd25a8488cad6996e45ff5d41e",
            "max": 1,
            "min": 0,
            "orientation": "horizontal",
            "style": "IPY_MODEL_6d610b8a29e646e3b789cd817ef25a09",
            "value": 1
          }
        },
        "323e1dd301c14816a4f4446d082df7ef": {
          "model_module": "@jupyter-widgets/base",
          "model_name": "LayoutModel",
          "model_module_version": "1.2.0",
          "state": {
            "_model_module": "@jupyter-widgets/base",
            "_model_module_version": "1.2.0",
            "_model_name": "LayoutModel",
            "_view_count": null,
            "_view_module": "@jupyter-widgets/base",
            "_view_module_version": "1.2.0",
            "_view_name": "LayoutView",
            "align_content": null,
            "align_items": null,
            "align_self": null,
            "border": null,
            "bottom": null,
            "display": null,
            "flex": null,
            "flex_flow": null,
            "grid_area": null,
            "grid_auto_columns": null,
            "grid_auto_flow": null,
            "grid_auto_rows": null,
            "grid_column": null,
            "grid_gap": null,
            "grid_row": null,
            "grid_template_areas": null,
            "grid_template_columns": null,
            "grid_template_rows": null,
            "height": null,
            "justify_content": null,
            "justify_items": null,
            "left": null,
            "margin": null,
            "max_height": null,
            "max_width": null,
            "min_height": null,
            "min_width": null,
            "object_fit": null,
            "object_position": null,
            "order": null,
            "overflow": null,
            "overflow_x": null,
            "overflow_y": null,
            "padding": null,
            "right": null,
            "top": null,
            "visibility": null,
            "width": null
          }
        },
        "b5fda49e5edf42b681169dacd74b990c": {
          "model_module": "@jupyter-widgets/base",
          "model_name": "LayoutModel",
          "model_module_version": "1.2.0",
          "state": {
            "_model_module": "@jupyter-widgets/base",
            "_model_module_version": "1.2.0",
            "_model_name": "LayoutModel",
            "_view_count": null,
            "_view_module": "@jupyter-widgets/base",
            "_view_module_version": "1.2.0",
            "_view_name": "LayoutView",
            "align_content": null,
            "align_items": null,
            "align_self": null,
            "border": null,
            "bottom": null,
            "display": null,
            "flex": null,
            "flex_flow": null,
            "grid_area": null,
            "grid_auto_columns": null,
            "grid_auto_flow": null,
            "grid_auto_rows": null,
            "grid_column": null,
            "grid_gap": null,
            "grid_row": null,
            "grid_template_areas": null,
            "grid_template_columns": null,
            "grid_template_rows": null,
            "height": null,
            "justify_content": null,
            "justify_items": null,
            "left": null,
            "margin": null,
            "max_height": null,
            "max_width": null,
            "min_height": null,
            "min_width": null,
            "object_fit": null,
            "object_position": null,
            "order": null,
            "overflow": null,
            "overflow_x": null,
            "overflow_y": null,
            "padding": null,
            "right": null,
            "top": null,
            "visibility": null,
            "width": null
          }
        },
        "94ae154f14f44c0fa51e770d6337923d": {
          "model_module": "@jupyter-widgets/controls",
          "model_name": "DescriptionStyleModel",
          "model_module_version": "1.5.0",
          "state": {
            "_model_module": "@jupyter-widgets/controls",
            "_model_module_version": "1.5.0",
            "_model_name": "DescriptionStyleModel",
            "_view_count": null,
            "_view_module": "@jupyter-widgets/base",
            "_view_module_version": "1.2.0",
            "_view_name": "StyleView",
            "description_width": ""
          }
        },
        "69ed7bcd25a8488cad6996e45ff5d41e": {
          "model_module": "@jupyter-widgets/base",
          "model_name": "LayoutModel",
          "model_module_version": "1.2.0",
          "state": {
            "_model_module": "@jupyter-widgets/base",
            "_model_module_version": "1.2.0",
            "_model_name": "LayoutModel",
            "_view_count": null,
            "_view_module": "@jupyter-widgets/base",
            "_view_module_version": "1.2.0",
            "_view_name": "LayoutView",
            "align_content": null,
            "align_items": null,
            "align_self": null,
            "border": null,
            "bottom": null,
            "display": null,
            "flex": null,
            "flex_flow": null,
            "grid_area": null,
            "grid_auto_columns": null,
            "grid_auto_flow": null,
            "grid_auto_rows": null,
            "grid_column": null,
            "grid_gap": null,
            "grid_row": null,
            "grid_template_areas": null,
            "grid_template_columns": null,
            "grid_template_rows": null,
            "height": null,
            "justify_content": null,
            "justify_items": null,
            "left": null,
            "margin": null,
            "max_height": null,
            "max_width": null,
            "min_height": null,
            "min_width": null,
            "object_fit": null,
            "object_position": null,
            "order": null,
            "overflow": null,
            "overflow_x": null,
            "overflow_y": null,
            "padding": null,
            "right": null,
            "top": null,
            "visibility": null,
            "width": null
          }
        },
        "6d610b8a29e646e3b789cd817ef25a09": {
          "model_module": "@jupyter-widgets/controls",
          "model_name": "ProgressStyleModel",
          "model_module_version": "1.5.0",
          "state": {
            "_model_module": "@jupyter-widgets/controls",
            "_model_module_version": "1.5.0",
            "_model_name": "ProgressStyleModel",
            "_view_count": null,
            "_view_module": "@jupyter-widgets/base",
            "_view_module_version": "1.2.0",
            "_view_name": "StyleView",
            "bar_color": null,
            "description_width": ""
          }
        },
        "27dd4657e2624639be5b692a9e8baf95": {
          "model_module": "@jupyter-widgets/controls",
          "model_name": "VBoxModel",
          "model_module_version": "1.5.0",
          "state": {
            "_dom_classes": [],
            "_model_module": "@jupyter-widgets/controls",
            "_model_module_version": "1.5.0",
            "_model_name": "VBoxModel",
            "_view_count": null,
            "_view_module": "@jupyter-widgets/controls",
            "_view_module_version": "1.5.0",
            "_view_name": "VBoxView",
            "box_style": "",
            "children": [
              "IPY_MODEL_85b26c6e9d0e4989b040c2cc0be9a948",
              "IPY_MODEL_49cd2be7484a4a7baee062df205bcb81"
            ],
            "layout": "IPY_MODEL_c3449b286ed44e938ff96c3d68ba8a0e"
          }
        },
        "85b26c6e9d0e4989b040c2cc0be9a948": {
          "model_module": "@jupyter-widgets/controls",
          "model_name": "LabelModel",
          "model_module_version": "1.5.0",
          "state": {
            "_dom_classes": [],
            "_model_module": "@jupyter-widgets/controls",
            "_model_module_version": "1.5.0",
            "_model_name": "LabelModel",
            "_view_count": null,
            "_view_module": "@jupyter-widgets/controls",
            "_view_module_version": "1.5.0",
            "_view_name": "LabelView",
            "description": "",
            "description_tooltip": null,
            "layout": "IPY_MODEL_3198b9ca6daa41a38e7e7e5d57ad2aba",
            "placeholder": "​",
            "style": "IPY_MODEL_f199c7d2f5b341da8cfb76ccd1ea5230",
            "value": "0.001 MB of 0.001 MB uploaded (0.000 MB deduped)\r"
          }
        },
        "49cd2be7484a4a7baee062df205bcb81": {
          "model_module": "@jupyter-widgets/controls",
          "model_name": "FloatProgressModel",
          "model_module_version": "1.5.0",
          "state": {
            "_dom_classes": [],
            "_model_module": "@jupyter-widgets/controls",
            "_model_module_version": "1.5.0",
            "_model_name": "FloatProgressModel",
            "_view_count": null,
            "_view_module": "@jupyter-widgets/controls",
            "_view_module_version": "1.5.0",
            "_view_name": "ProgressView",
            "bar_style": "",
            "description": "",
            "description_tooltip": null,
            "layout": "IPY_MODEL_9251449046594215abb8a46b4079828d",
            "max": 1,
            "min": 0,
            "orientation": "horizontal",
            "style": "IPY_MODEL_811628a7e5004980a85dc0179a7138e9",
            "value": 1
          }
        },
        "c3449b286ed44e938ff96c3d68ba8a0e": {
          "model_module": "@jupyter-widgets/base",
          "model_name": "LayoutModel",
          "model_module_version": "1.2.0",
          "state": {
            "_model_module": "@jupyter-widgets/base",
            "_model_module_version": "1.2.0",
            "_model_name": "LayoutModel",
            "_view_count": null,
            "_view_module": "@jupyter-widgets/base",
            "_view_module_version": "1.2.0",
            "_view_name": "LayoutView",
            "align_content": null,
            "align_items": null,
            "align_self": null,
            "border": null,
            "bottom": null,
            "display": null,
            "flex": null,
            "flex_flow": null,
            "grid_area": null,
            "grid_auto_columns": null,
            "grid_auto_flow": null,
            "grid_auto_rows": null,
            "grid_column": null,
            "grid_gap": null,
            "grid_row": null,
            "grid_template_areas": null,
            "grid_template_columns": null,
            "grid_template_rows": null,
            "height": null,
            "justify_content": null,
            "justify_items": null,
            "left": null,
            "margin": null,
            "max_height": null,
            "max_width": null,
            "min_height": null,
            "min_width": null,
            "object_fit": null,
            "object_position": null,
            "order": null,
            "overflow": null,
            "overflow_x": null,
            "overflow_y": null,
            "padding": null,
            "right": null,
            "top": null,
            "visibility": null,
            "width": null
          }
        },
        "3198b9ca6daa41a38e7e7e5d57ad2aba": {
          "model_module": "@jupyter-widgets/base",
          "model_name": "LayoutModel",
          "model_module_version": "1.2.0",
          "state": {
            "_model_module": "@jupyter-widgets/base",
            "_model_module_version": "1.2.0",
            "_model_name": "LayoutModel",
            "_view_count": null,
            "_view_module": "@jupyter-widgets/base",
            "_view_module_version": "1.2.0",
            "_view_name": "LayoutView",
            "align_content": null,
            "align_items": null,
            "align_self": null,
            "border": null,
            "bottom": null,
            "display": null,
            "flex": null,
            "flex_flow": null,
            "grid_area": null,
            "grid_auto_columns": null,
            "grid_auto_flow": null,
            "grid_auto_rows": null,
            "grid_column": null,
            "grid_gap": null,
            "grid_row": null,
            "grid_template_areas": null,
            "grid_template_columns": null,
            "grid_template_rows": null,
            "height": null,
            "justify_content": null,
            "justify_items": null,
            "left": null,
            "margin": null,
            "max_height": null,
            "max_width": null,
            "min_height": null,
            "min_width": null,
            "object_fit": null,
            "object_position": null,
            "order": null,
            "overflow": null,
            "overflow_x": null,
            "overflow_y": null,
            "padding": null,
            "right": null,
            "top": null,
            "visibility": null,
            "width": null
          }
        },
        "f199c7d2f5b341da8cfb76ccd1ea5230": {
          "model_module": "@jupyter-widgets/controls",
          "model_name": "DescriptionStyleModel",
          "model_module_version": "1.5.0",
          "state": {
            "_model_module": "@jupyter-widgets/controls",
            "_model_module_version": "1.5.0",
            "_model_name": "DescriptionStyleModel",
            "_view_count": null,
            "_view_module": "@jupyter-widgets/base",
            "_view_module_version": "1.2.0",
            "_view_name": "StyleView",
            "description_width": ""
          }
        },
        "9251449046594215abb8a46b4079828d": {
          "model_module": "@jupyter-widgets/base",
          "model_name": "LayoutModel",
          "model_module_version": "1.2.0",
          "state": {
            "_model_module": "@jupyter-widgets/base",
            "_model_module_version": "1.2.0",
            "_model_name": "LayoutModel",
            "_view_count": null,
            "_view_module": "@jupyter-widgets/base",
            "_view_module_version": "1.2.0",
            "_view_name": "LayoutView",
            "align_content": null,
            "align_items": null,
            "align_self": null,
            "border": null,
            "bottom": null,
            "display": null,
            "flex": null,
            "flex_flow": null,
            "grid_area": null,
            "grid_auto_columns": null,
            "grid_auto_flow": null,
            "grid_auto_rows": null,
            "grid_column": null,
            "grid_gap": null,
            "grid_row": null,
            "grid_template_areas": null,
            "grid_template_columns": null,
            "grid_template_rows": null,
            "height": null,
            "justify_content": null,
            "justify_items": null,
            "left": null,
            "margin": null,
            "max_height": null,
            "max_width": null,
            "min_height": null,
            "min_width": null,
            "object_fit": null,
            "object_position": null,
            "order": null,
            "overflow": null,
            "overflow_x": null,
            "overflow_y": null,
            "padding": null,
            "right": null,
            "top": null,
            "visibility": null,
            "width": null
          }
        },
        "811628a7e5004980a85dc0179a7138e9": {
          "model_module": "@jupyter-widgets/controls",
          "model_name": "ProgressStyleModel",
          "model_module_version": "1.5.0",
          "state": {
            "_model_module": "@jupyter-widgets/controls",
            "_model_module_version": "1.5.0",
            "_model_name": "ProgressStyleModel",
            "_view_count": null,
            "_view_module": "@jupyter-widgets/base",
            "_view_module_version": "1.2.0",
            "_view_name": "StyleView",
            "bar_color": null,
            "description_width": ""
          }
        }
      }
    }
  },
  "nbformat": 4,
  "nbformat_minor": 0
}